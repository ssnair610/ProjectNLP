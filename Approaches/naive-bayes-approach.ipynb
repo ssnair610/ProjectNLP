{
 "cells": [
  {
   "cell_type": "code",
   "execution_count": 1,
   "id": "8db2e544-41db-4c50-8dbc-d1d092b8be5c",
   "metadata": {},
   "outputs": [],
   "source": [
    "import pandas as pd\n",
    "import numpy as np\n",
    "import os\n",
    "import joblib"
   ]
  },
  {
   "cell_type": "code",
   "execution_count": 2,
   "id": "010e6e78-da78-4830-a4ab-54bbd240f64c",
   "metadata": {},
   "outputs": [],
   "source": [
    "from sklearn.model_selection import train_test_split\n",
    "from sklearn.pipeline import make_pipeline\n",
    "from sklearn.feature_extraction.text import TfidfVectorizer\n",
    "from sklearn.naive_bayes import MultinomialNB\n",
    "from sklearn.multiclass import OneVsRestClassifier\n",
    "from sklearn.metrics import accuracy_score, classification_report, f1_score, confusion_matrix\n",
    "from sklearn.linear_model import LogisticRegression\n",
    "from sklearn.multioutput import MultiOutputClassifier"
   ]
  },
  {
   "cell_type": "markdown",
   "id": "c398fb1c-6f48-442e-9491-4643d08534be",
   "metadata": {},
   "source": [
    "## Read Data"
   ]
  },
  {
   "cell_type": "code",
   "execution_count": 3,
   "id": "53c644a4-4afa-4f7e-9453-9742fd12ceda",
   "metadata": {},
   "outputs": [],
   "source": [
    "def read_data(filename, type = \"csv\"):\n",
    "    if(type == \"csv\"):\n",
    "        data = pd.read_csv(filename)  \n",
    "        data_df = pd.DataFrame(data)   \n",
    "        return data_df\n",
    "    \n",
    "    elif (type == \"excel\"):\n",
    "        data = pd.read_excel(filename)\n",
    "        data_df = pd.DataFrame(data)\n",
    "        return data_df"
   ]
  },
  {
   "cell_type": "code",
   "execution_count": 6,
   "id": "58d0b961-013e-4664-8ac9-ec7f88461ed1",
   "metadata": {},
   "outputs": [],
   "source": [
    "datapath = os.path.join(\"Data\", \"track-a.csv\")\n",
    "track_a = read_data(datapath)"
   ]
  },
  {
   "cell_type": "markdown",
   "id": "cb0679ec-2d4e-46e6-89e3-c572e1eb2054",
   "metadata": {},
   "source": [
    "## Train Test Split"
   ]
  },
  {
   "cell_type": "code",
   "execution_count": 7,
   "id": "6b485d2f-ced4-403e-a904-fe0cd7717f46",
   "metadata": {},
   "outputs": [],
   "source": [
    "x = track_a.iloc[:, 1]\n",
    "y = track_a.iloc[:, 2:]\n",
    "test_size = 0.20"
   ]
  },
  {
   "cell_type": "code",
   "execution_count": 8,
   "id": "d6d250d5-8332-464d-93b0-77250085fad8",
   "metadata": {},
   "outputs": [],
   "source": [
    "X_train, X_test, y_train, y_test = train_test_split(x, y, test_size = test_size, random_state= 42)"
   ]
  },
  {
   "cell_type": "markdown",
   "id": "d30842bb-e3ca-44ce-aabf-e0ec34057a28",
   "metadata": {},
   "source": [
    "## Training Model"
   ]
  },
  {
   "cell_type": "code",
   "execution_count": 9,
   "id": "7170b121-026e-4709-87e5-b9a4435d6fa2",
   "metadata": {},
   "outputs": [],
   "source": [
    "def multinomialNB_classifier(X_train, y_train): \n",
    "    model = make_pipeline(\n",
    "        TfidfVectorizer(),\n",
    "        OneVsRestClassifier(MultinomialNB())\n",
    "    )\n",
    "    model.fit(X_train, y_train)\n",
    "    return model"
   ]
  },
  {
   "cell_type": "code",
   "execution_count": 10,
   "id": "7208a84b-d501-4844-9f19-896fe1f6bc84",
   "metadata": {},
   "outputs": [],
   "source": [
    "model_NB = multinomialNB_classifier(X_train, y_train)"
   ]
  },
  {
   "cell_type": "code",
   "execution_count": 11,
   "id": "83061b42",
   "metadata": {},
   "outputs": [
    {
     "data": {
      "text/plain": [
       "['savedModel/nbmodel.joblib']"
      ]
     },
     "execution_count": 11,
     "metadata": {},
     "output_type": "execute_result"
    }
   ],
   "source": [
    "joblib.dump(model_NB, \"savedModel/nbmodel.joblib\")"
   ]
  },
  {
   "cell_type": "code",
   "execution_count": 12,
   "id": "90df64c2-fc8c-4322-abbd-07ab41500a5f",
   "metadata": {},
   "outputs": [],
   "source": [
    "y_pred = model_NB.predict(X_test)"
   ]
  },
  {
   "cell_type": "code",
   "execution_count": 13,
   "id": "d09e5f04-c14c-4675-b4f7-830e54111dd9",
   "metadata": {},
   "outputs": [],
   "source": [
    "def calculate_results(y_test, y_pred) : \n",
    "    result_dict = {}\n",
    "    result_dict[\"accuracy\"] = accuracy_score(y_test, y_pred)\n",
    "\n",
    "    result_dict[ \"f1_micro\" ] = f1_score(y_test, y_pred, average='micro')\n",
    "    result_dict [\"f1_macro\"] = f1_score(y_test, y_pred, average='macro')\n",
    "\n",
    "    result_dict [\"report\"] = classification_report(y_test, y_pred, target_names=[\"anger\",\"fear\",\"joy\",\"sadness\",\"surprise\"], zero_division = 0)\n",
    "\n",
    "    return result_dict"
   ]
  },
  {
   "cell_type": "code",
   "execution_count": 14,
   "id": "81dad77f-c92b-406e-8bef-91d12c248b32",
   "metadata": {},
   "outputs": [],
   "source": [
    "def accuracy_per_label(y_test, y_pred):\n",
    "    accuracies = []\n",
    "    labels = [\"anger\", \"fear\", \"joy\", \"sadness\", \"surprise\"] \n",
    "    for i in range(5):\n",
    "        accuracies.append( accuracy_score(y_test.iloc[:,i], y_pred[:,i]))\n",
    "        \n",
    "        print(F\"Accuracy {labels[i]}: {accuracies[i] }\")\n",
    "    return accuracies"
   ]
  },
  {
   "cell_type": "code",
   "execution_count": 15,
   "id": "15665ee5-3112-4174-a7c0-3d4c65db82d2",
   "metadata": {},
   "outputs": [],
   "source": [
    "results = calculate_results(y_test, y_pred)"
   ]
  },
  {
   "cell_type": "code",
   "execution_count": 16,
   "id": "14a627c1-e480-4206-a32b-167404775aa2",
   "metadata": {},
   "outputs": [
    {
     "name": "stdout",
     "output_type": "stream",
     "text": [
      "Accuracy anger: 0.8700361010830325\n",
      "Accuracy fear: 0.6389891696750902\n",
      "Accuracy joy: 0.7942238267148014\n",
      "Accuracy sadness: 0.7003610108303249\n",
      "Accuracy surprise: 0.6823104693140795\n"
     ]
    }
   ],
   "source": [
    "accuracies = accuracy_per_label(y_test, y_pred)"
   ]
  },
  {
   "cell_type": "code",
   "execution_count": 17,
   "id": "a02512f1-7acc-4612-8176-9b389b534890",
   "metadata": {},
   "outputs": [
    {
     "name": "stdout",
     "output_type": "stream",
     "text": [
      "0.1624548736462094\n",
      "0.7371841155234657\n"
     ]
    }
   ],
   "source": [
    "accuracy = accuracy_score(y_test,y_pred)\n",
    "print(accuracy)\n",
    "print( np.mean(accuracies))"
   ]
  },
  {
   "cell_type": "code",
   "execution_count": 18,
   "id": "07c046c7-548d-45cb-a07a-ae1dfdd2c66b",
   "metadata": {},
   "outputs": [
    {
     "name": "stdout",
     "output_type": "stream",
     "text": [
      "0.4716981132075472\n",
      "0.1712754540588825\n"
     ]
    }
   ],
   "source": [
    "print(results [\"f1_micro\"])\n",
    "print(results[\"f1_macro\"])"
   ]
  },
  {
   "cell_type": "code",
   "execution_count": 19,
   "id": "af7d8053-3e20-4704-8a4e-d05f3612a547",
   "metadata": {},
   "outputs": [
    {
     "name": "stdout",
     "output_type": "stream",
     "text": [
      "              precision    recall  f1-score   support\n",
      "\n",
      "       anger       0.00      0.00      0.00        72\n",
      "        fear       0.63      0.96      0.76       330\n",
      "         joy       1.00      0.01      0.02       115\n",
      "     sadness       0.57      0.02      0.05       167\n",
      "    surprise       1.00      0.02      0.03       179\n",
      "\n",
      "   micro avg       0.63      0.38      0.47       863\n",
      "   macro avg       0.64      0.20      0.17       863\n",
      "weighted avg       0.69      0.38      0.31       863\n",
      " samples avg       0.57      0.35      0.41       863\n",
      "\n"
     ]
    }
   ],
   "source": [
    "print(results[\"report\"])"
   ]
  },
  {
   "cell_type": "markdown",
   "id": "81441f24-dfd1-4566-a0b7-7050f0ee277a",
   "metadata": {},
   "source": [
    "## Trying Logistic Regression"
   ]
  },
  {
   "cell_type": "code",
   "execution_count": 20,
   "id": "7f44f245-3ec7-4bff-8b9a-566191221d11",
   "metadata": {},
   "outputs": [],
   "source": [
    "clf = MultiOutputClassifier(LogisticRegression(solver='liblinear'))\n",
    "vectorizer = TfidfVectorizer()\n",
    "X_train_tfidf = vectorizer.fit_transform(X_train)\n",
    "X_test_tfidf = vectorizer.transform(X_test)\n",
    "clf.fit(X_train_tfidf, y_train)\n",
    "y_pred_lr = clf.predict(X_test_tfidf)"
   ]
  },
  {
   "cell_type": "code",
   "execution_count": 21,
   "id": "a18e5f3c-2ec0-402d-8fca-d2f966e0e9da",
   "metadata": {},
   "outputs": [
    {
     "name": "stdout",
     "output_type": "stream",
     "text": [
      "Accuracy anger: 0.8700361010830325\n",
      "Accuracy fear: 0.644404332129964\n",
      "Accuracy joy: 0.8014440433212996\n",
      "Accuracy sadness: 0.723826714801444\n",
      "Accuracy surprise: 0.7346570397111913\n"
     ]
    }
   ],
   "source": [
    "\n",
    "accuracies_lr = accuracy_per_label(y_test, y_pred_lr)"
   ]
  },
  {
   "cell_type": "code",
   "execution_count": 22,
   "id": "c4a7bb8d-b83b-41f1-82a9-9ee775443d83",
   "metadata": {},
   "outputs": [
    {
     "name": "stdout",
     "output_type": "stream",
     "text": [
      "0.1624548736462094\n",
      "0.7548736462093864\n"
     ]
    }
   ],
   "source": [
    "accuracy_score(y_test,y_pred_lr)\n",
    "print(accuracy)\n",
    "print( np.mean(accuracies_lr))"
   ]
  },
  {
   "cell_type": "code",
   "execution_count": 23,
   "id": "9a4c6f81-f335-4455-ab9f-8682a368881a",
   "metadata": {},
   "outputs": [
    {
     "name": "stdout",
     "output_type": "stream",
     "text": [
      "0.5061818181818182\n",
      "0.2894000023683524\n"
     ]
    }
   ],
   "source": [
    "results_lr = calculate_results(y_test,y_pred_lr)\n",
    "print(results_lr[\"f1_micro\"])\n",
    "print(results_lr[\"f1_macro\"])\n"
   ]
  }
 ],
 "metadata": {
  "kernelspec": {
   "display_name": ".venv",
   "language": "python",
   "name": "python3"
  },
  "language_info": {
   "codemirror_mode": {
    "name": "ipython",
    "version": 3
   },
   "file_extension": ".py",
   "mimetype": "text/x-python",
   "name": "python",
   "nbconvert_exporter": "python",
   "pygments_lexer": "ipython3",
   "version": "3.11.9"
  }
 },
 "nbformat": 4,
 "nbformat_minor": 5
}
