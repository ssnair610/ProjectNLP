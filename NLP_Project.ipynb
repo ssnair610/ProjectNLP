{
 "cells": [
  {
   "cell_type": "code",
   "execution_count": 3,
   "id": "8db2e544-41db-4c50-8dbc-d1d092b8be5c",
   "metadata": {},
   "outputs": [],
   "source": [
    "import pandas as pd\n",
    "import numpy as np\n",
    "import spacy\n",
    "import nltk"
   ]
  },
  {
   "cell_type": "code",
   "execution_count": 4,
   "id": "010e6e78-da78-4830-a4ab-54bbd240f64c",
   "metadata": {},
   "outputs": [],
   "source": [
    "import matplotlib.pyplot as plt\n",
    "from sklearn.model_selection import train_test_split\n",
    "from sklearn.pipeline import make_pipeline\n",
    "from sklearn.feature_extraction.text import TfidfVectorizer\n",
    "from sklearn.naive_bayes import MultinomialNB\n",
    "from sklearn.multiclass import OneVsRestClassifier\n",
    "from sklearn.metrics import accuracy_score, classification_report, f1_score"
   ]
  },
  {
   "cell_type": "markdown",
   "id": "c398fb1c-6f48-442e-9491-4643d08534be",
   "metadata": {},
   "source": [
    "## Data Analysis"
   ]
  },
  {
   "cell_type": "code",
   "execution_count": 5,
   "id": "53c644a4-4afa-4f7e-9453-9742fd12ceda",
   "metadata": {},
   "outputs": [],
   "source": [
    "def read_data(filename, type = \"csv\"):\n",
    "    if(type == \"csv\"):\n",
    "        data = pd.read_csv(filename)  \n",
    "        data_df = pd.DataFrame(data)   \n",
    "        return data_df\n",
    "    \n",
    "    elif (type == \"excel\"):\n",
    "        data = pd.read_excel(filename)\n",
    "        data_df = pd.DataFrame(data)\n",
    "        return data_df"
   ]
  },
  {
   "cell_type": "code",
   "execution_count": 6,
   "id": "58d0b961-013e-4664-8ac9-ec7f88461ed1",
   "metadata": {},
   "outputs": [],
   "source": [
    "datapath = \"C:\\\\Documents\\\\Masters\\\\Third Semester\\\\NLP\\\\NLP_Project\\\\Project\\\\Data\\\\track-a.csv\"\n",
    "track_a = read_data(datapath)"
   ]
  },
  {
   "cell_type": "code",
   "execution_count": 7,
   "id": "03e36597-0ddf-4bc4-8c4c-24536750b379",
   "metadata": {},
   "outputs": [
    {
     "data": {
      "text/html": [
       "<div>\n",
       "<style scoped>\n",
       "    .dataframe tbody tr th:only-of-type {\n",
       "        vertical-align: middle;\n",
       "    }\n",
       "\n",
       "    .dataframe tbody tr th {\n",
       "        vertical-align: top;\n",
       "    }\n",
       "\n",
       "    .dataframe thead th {\n",
       "        text-align: right;\n",
       "    }\n",
       "</style>\n",
       "<table border=\"1\" class=\"dataframe\">\n",
       "  <thead>\n",
       "    <tr style=\"text-align: right;\">\n",
       "      <th></th>\n",
       "      <th>id</th>\n",
       "      <th>text</th>\n",
       "      <th>anger</th>\n",
       "      <th>fear</th>\n",
       "      <th>joy</th>\n",
       "      <th>sadness</th>\n",
       "      <th>surprise</th>\n",
       "    </tr>\n",
       "  </thead>\n",
       "  <tbody>\n",
       "    <tr>\n",
       "      <th>0</th>\n",
       "      <td>eng_train_track_a_00001</td>\n",
       "      <td>Colorado, middle of nowhere.</td>\n",
       "      <td>0</td>\n",
       "      <td>1</td>\n",
       "      <td>0</td>\n",
       "      <td>0</td>\n",
       "      <td>1</td>\n",
       "    </tr>\n",
       "    <tr>\n",
       "      <th>1</th>\n",
       "      <td>eng_train_track_a_00002</td>\n",
       "      <td>This involved swimming a pretty large lake tha...</td>\n",
       "      <td>0</td>\n",
       "      <td>1</td>\n",
       "      <td>0</td>\n",
       "      <td>0</td>\n",
       "      <td>0</td>\n",
       "    </tr>\n",
       "    <tr>\n",
       "      <th>2</th>\n",
       "      <td>eng_train_track_a_00003</td>\n",
       "      <td>It was one of my most shameful experiences.</td>\n",
       "      <td>0</td>\n",
       "      <td>1</td>\n",
       "      <td>0</td>\n",
       "      <td>1</td>\n",
       "      <td>0</td>\n",
       "    </tr>\n",
       "    <tr>\n",
       "      <th>3</th>\n",
       "      <td>eng_train_track_a_00004</td>\n",
       "      <td>After all, I had vegetables coming out my ears...</td>\n",
       "      <td>0</td>\n",
       "      <td>0</td>\n",
       "      <td>0</td>\n",
       "      <td>0</td>\n",
       "      <td>0</td>\n",
       "    </tr>\n",
       "    <tr>\n",
       "      <th>4</th>\n",
       "      <td>eng_train_track_a_00005</td>\n",
       "      <td>Then the screaming started.</td>\n",
       "      <td>0</td>\n",
       "      <td>1</td>\n",
       "      <td>0</td>\n",
       "      <td>1</td>\n",
       "      <td>1</td>\n",
       "    </tr>\n",
       "    <tr>\n",
       "      <th>...</th>\n",
       "      <td>...</td>\n",
       "      <td>...</td>\n",
       "      <td>...</td>\n",
       "      <td>...</td>\n",
       "      <td>...</td>\n",
       "      <td>...</td>\n",
       "      <td>...</td>\n",
       "    </tr>\n",
       "    <tr>\n",
       "      <th>2763</th>\n",
       "      <td>eng_train_track_a_02764</td>\n",
       "      <td>She cants her hip against my waist into my sid...</td>\n",
       "      <td>0</td>\n",
       "      <td>0</td>\n",
       "      <td>1</td>\n",
       "      <td>0</td>\n",
       "      <td>1</td>\n",
       "    </tr>\n",
       "    <tr>\n",
       "      <th>2764</th>\n",
       "      <td>eng_train_track_a_02765</td>\n",
       "      <td>I then did the dishes, whitened my teeth, watc...</td>\n",
       "      <td>0</td>\n",
       "      <td>0</td>\n",
       "      <td>0</td>\n",
       "      <td>0</td>\n",
       "      <td>0</td>\n",
       "    </tr>\n",
       "    <tr>\n",
       "      <th>2765</th>\n",
       "      <td>eng_train_track_a_02766</td>\n",
       "      <td>It just kind of gradually vanished over a coup...</td>\n",
       "      <td>0</td>\n",
       "      <td>0</td>\n",
       "      <td>0</td>\n",
       "      <td>0</td>\n",
       "      <td>1</td>\n",
       "    </tr>\n",
       "    <tr>\n",
       "      <th>2766</th>\n",
       "      <td>eng_train_track_a_02767</td>\n",
       "      <td>I didn't look out of my hands.</td>\n",
       "      <td>0</td>\n",
       "      <td>1</td>\n",
       "      <td>0</td>\n",
       "      <td>0</td>\n",
       "      <td>0</td>\n",
       "    </tr>\n",
       "    <tr>\n",
       "      <th>2767</th>\n",
       "      <td>eng_train_track_a_02768</td>\n",
       "      <td>`` I'm fine, '' Amanda said forcefully, shrugg...</td>\n",
       "      <td>1</td>\n",
       "      <td>0</td>\n",
       "      <td>0</td>\n",
       "      <td>0</td>\n",
       "      <td>0</td>\n",
       "    </tr>\n",
       "  </tbody>\n",
       "</table>\n",
       "<p>2768 rows × 7 columns</p>\n",
       "</div>"
      ],
      "text/plain": [
       "                           id  \\\n",
       "0     eng_train_track_a_00001   \n",
       "1     eng_train_track_a_00002   \n",
       "2     eng_train_track_a_00003   \n",
       "3     eng_train_track_a_00004   \n",
       "4     eng_train_track_a_00005   \n",
       "...                       ...   \n",
       "2763  eng_train_track_a_02764   \n",
       "2764  eng_train_track_a_02765   \n",
       "2765  eng_train_track_a_02766   \n",
       "2766  eng_train_track_a_02767   \n",
       "2767  eng_train_track_a_02768   \n",
       "\n",
       "                                                   text  anger  fear  joy  \\\n",
       "0                          Colorado, middle of nowhere.      0     1    0   \n",
       "1     This involved swimming a pretty large lake tha...      0     1    0   \n",
       "2           It was one of my most shameful experiences.      0     1    0   \n",
       "3     After all, I had vegetables coming out my ears...      0     0    0   \n",
       "4                           Then the screaming started.      0     1    0   \n",
       "...                                                 ...    ...   ...  ...   \n",
       "2763  She cants her hip against my waist into my sid...      0     0    1   \n",
       "2764  I then did the dishes, whitened my teeth, watc...      0     0    0   \n",
       "2765  It just kind of gradually vanished over a coup...      0     0    0   \n",
       "2766                     I didn't look out of my hands.      0     1    0   \n",
       "2767  `` I'm fine, '' Amanda said forcefully, shrugg...      1     0    0   \n",
       "\n",
       "      sadness  surprise  \n",
       "0           0         1  \n",
       "1           0         0  \n",
       "2           1         0  \n",
       "3           0         0  \n",
       "4           1         1  \n",
       "...       ...       ...  \n",
       "2763        0         1  \n",
       "2764        0         0  \n",
       "2765        0         1  \n",
       "2766        0         0  \n",
       "2767        0         0  \n",
       "\n",
       "[2768 rows x 7 columns]"
      ]
     },
     "execution_count": 7,
     "metadata": {},
     "output_type": "execute_result"
    }
   ],
   "source": [
    "track_a"
   ]
  },
  {
   "cell_type": "code",
   "execution_count": 8,
   "id": "eaa87c98-f598-4297-82a5-d2541b873bf2",
   "metadata": {},
   "outputs": [],
   "source": [
    "def plot_data(data, plot_type = \"line\"):\n",
    "    if plot_type == \"bar\" :\n",
    "        plt.bar(data.index, data)\n",
    "        plt.show\n",
    "    else :\n",
    "        plt.plot(data)\n",
    "        plt.show"
   ]
  },
  {
   "cell_type": "code",
   "execution_count": 9,
   "id": "65abddc0-7526-4712-8830-2d335fb1a96d",
   "metadata": {},
   "outputs": [
    {
     "data": {
      "image/png": "[encoded data removed]",
      "text/plain": [
       "<Figure size 640x480 with 1 Axes>"
      ]
     },
     "metadata": {},
     "output_type": "display_data"
    }
   ],
   "source": [
    "plot_data(track_a.sum()[2:], \"bar\")"
   ]
  },
  {
   "cell_type": "markdown",
   "id": "cb0679ec-2d4e-46e6-89e3-c572e1eb2054",
   "metadata": {},
   "source": [
    "## Train Test Split"
   ]
  },
  {
   "cell_type": "code",
   "execution_count": 10,
   "id": "6b485d2f-ced4-403e-a904-fe0cd7717f46",
   "metadata": {},
   "outputs": [],
   "source": [
    "X = track_a.iloc[:, 1]\n",
    "y = track_a.iloc[:, 2:]\n",
    "test_size = 0.20"
   ]
  },
  {
   "cell_type": "code",
   "execution_count": 11,
   "id": "d6d250d5-8332-464d-93b0-77250085fad8",
   "metadata": {},
   "outputs": [],
   "source": [
    "X_train, X_test, y_train, y_test = train_test_split(X,y, test_size= test_size, random_state= 42)"
   ]
  },
  {
   "cell_type": "markdown",
   "id": "d30842bb-e3ca-44ce-aabf-e0ec34057a28",
   "metadata": {},
   "source": [
    "## Training Model"
   ]
  },
  {
   "cell_type": "code",
   "execution_count": 12,
   "id": "7170b121-026e-4709-87e5-b9a4435d6fa2",
   "metadata": {},
   "outputs": [],
   "source": [
    "def multinomialNB_classifier(X_train, y_train): \n",
    "    model = make_pipeline(\n",
    "        TfidfVectorizer(),\n",
    "        OneVsRestClassifier(MultinomialNB())\n",
    "    )\n",
    "    model.fit(X_train, y_train)\n",
    "    return model"
   ]
  },
  {
   "cell_type": "code",
   "execution_count": 13,
   "id": "10456e2e-05e7-441a-987e-756fec76eefc",
   "metadata": {},
   "outputs": [],
   "source": [
    "def predict_labels (model, X_test):\n",
    "    return model.predict(X_test)"
   ]
  },
  {
   "cell_type": "code",
   "execution_count": 14,
   "id": "7208a84b-d501-4844-9f19-896fe1f6bc84",
   "metadata": {},
   "outputs": [],
   "source": [
    "model_NB = multinomialNB_classifier(X_train, y_train)"
   ]
  },
  {
   "cell_type": "code",
   "execution_count": 15,
   "id": "81d03217-0d33-40f2-8b08-4a172a7b723c",
   "metadata": {},
   "outputs": [
    {
     "name": "stdout",
     "output_type": "stream",
     "text": [
      "Finding them, I whipped one out and put it in my ear, swabbing.\n",
      "[[0 1 0 0 0]]\n"
     ]
    }
   ],
   "source": [
    "pred = model_NB.predict([X_test.iloc[3]])\n",
    "print(X_test.iloc[2])\n",
    "print(pred)"
   ]
  },
  {
   "cell_type": "code",
   "execution_count": 16,
   "id": "90df64c2-fc8c-4322-abbd-07ab41500a5f",
   "metadata": {},
   "outputs": [],
   "source": [
    "y_pred = model_NB.predict(X_test)"
   ]
  },
  {
   "cell_type": "code",
   "execution_count": 17,
   "id": "d09e5f04-c14c-4675-b4f7-830e54111dd9",
   "metadata": {},
   "outputs": [],
   "source": [
    "def calculate_results(y_test, y_pred) : \n",
    "    result_dict = {}\n",
    "    result_dict[\"accuracy\"] = accuracy_score(y_test, y_pred)\n",
    "    \n",
    "    # F1-score (macro = treats all labels equally, micro = global average)\n",
    "    result_dict[ \"f1_micro\" ] = f1_score(y_test, y_pred, average='micro')\n",
    "    result_dict [\"f1_macro\"] = f1_score(y_test, y_pred, average='macro')\n",
    "    \n",
    "    # Detailed classification report\n",
    "    result_dict [\"report\"] = classification_report(y_test, y_pred, target_names=[\"anger\",\"fear\",\"joy\",\"sadness\",\"surprise\"])\n",
    "\n",
    "    return result_dict"
   ]
  },
  {
   "cell_type": "code",
   "execution_count": 18,
   "id": "81dad77f-c92b-406e-8bef-91d12c248b32",
   "metadata": {},
   "outputs": [],
   "source": [
    "def accuracy_per_label(y_test, y_pred):\n",
    "    accuracies = []\n",
    "    labels = [\"anger\", \"fear\", \"joy\", \"sadness\", \"surprise\"] \n",
    "    for i in range(5):\n",
    "        accuracies.append( accuracy_score(y_test.iloc[:,i], y_pred[:,i]))\n",
    "        \n",
    "        print(F\"Accuracy {labels[i]}: {accuracies[i] }\")\n",
    "    return accuracies"
   ]
  },
  {
   "cell_type": "code",
   "execution_count": 19,
   "id": "15665ee5-3112-4174-a7c0-3d4c65db82d2",
   "metadata": {},
   "outputs": [
    {
     "name": "stderr",
     "output_type": "stream",
     "text": [
      "c:\\Documents\\Masters\\Third Semester\\NLP\\NLP_Project\\ProjectNLP\\.venv\\lib\\site-packages\\sklearn\\metrics\\_classification.py:1706: UndefinedMetricWarning: Precision is ill-defined and being set to 0.0 in labels with no predicted samples. Use `zero_division` parameter to control this behavior.\n",
      "  _warn_prf(average, modifier, f\"{metric.capitalize()} is\", result.shape[0])\n",
      "c:\\Documents\\Masters\\Third Semester\\NLP\\NLP_Project\\ProjectNLP\\.venv\\lib\\site-packages\\sklearn\\metrics\\_classification.py:1706: UndefinedMetricWarning: Precision is ill-defined and being set to 0.0 in samples with no predicted labels. Use `zero_division` parameter to control this behavior.\n",
      "  _warn_prf(average, modifier, f\"{metric.capitalize()} is\", result.shape[0])\n",
      "c:\\Documents\\Masters\\Third Semester\\NLP\\NLP_Project\\ProjectNLP\\.venv\\lib\\site-packages\\sklearn\\metrics\\_classification.py:1706: UndefinedMetricWarning: Recall is ill-defined and being set to 0.0 in samples with no true labels. Use `zero_division` parameter to control this behavior.\n",
      "  _warn_prf(average, modifier, f\"{metric.capitalize()} is\", result.shape[0])\n",
      "c:\\Documents\\Masters\\Third Semester\\NLP\\NLP_Project\\ProjectNLP\\.venv\\lib\\site-packages\\sklearn\\metrics\\_classification.py:1706: UndefinedMetricWarning: F-score is ill-defined and being set to 0.0 in samples with no true nor predicted labels. Use `zero_division` parameter to control this behavior.\n",
      "  _warn_prf(average, modifier, f\"{metric.capitalize()} is\", result.shape[0])\n"
     ]
    }
   ],
   "source": [
    "results = calculate_results(y_test, y_pred)"
   ]
  },
  {
   "cell_type": "code",
   "execution_count": 20,
   "id": "14a627c1-e480-4206-a32b-167404775aa2",
   "metadata": {},
   "outputs": [
    {
     "name": "stdout",
     "output_type": "stream",
     "text": [
      "Accuracy anger: 0.8700361010830325\n",
      "Accuracy fear: 0.6389891696750902\n",
      "Accuracy joy: 0.7942238267148014\n",
      "Accuracy sadness: 0.7003610108303249\n",
      "Accuracy surprise: 0.6823104693140795\n"
     ]
    }
   ],
   "source": [
    "accuracies = accuracy_per_label(y_test, y_pred)"
   ]
  },
  {
   "cell_type": "code",
   "execution_count": 22,
   "id": "a02512f1-7acc-4612-8176-9b389b534890",
   "metadata": {},
   "outputs": [
    {
     "name": "stdout",
     "output_type": "stream",
     "text": [
      "0.1624548736462094\n",
      "0.7371841155234657\n"
     ]
    }
   ],
   "source": [
    "accuracy = accuracy_score(y_test,y_pred)\n",
    "print(accuracy)\n",
    "print( np.mean(accuracies))"
   ]
  },
  {
   "cell_type": "code",
   "execution_count": 24,
   "id": "07c046c7-548d-45cb-a07a-ae1dfdd2c66b",
   "metadata": {},
   "outputs": [
    {
     "name": "stdout",
     "output_type": "stream",
     "text": [
      "0.4716981132075472\n",
      "0.1712754540588825\n"
     ]
    }
   ],
   "source": [
    "print(results [\"f1_micro\"])\n",
    "print(results[\"f1_macro\"])"
   ]
  },
  {
   "cell_type": "code",
   "execution_count": 25,
   "id": "af7d8053-3e20-4704-8a4e-d05f3612a547",
   "metadata": {},
   "outputs": [
    {
     "name": "stdout",
     "output_type": "stream",
     "text": [
      "              precision    recall  f1-score   support\n",
      "\n",
      "       anger       0.00      0.00      0.00        72\n",
      "        fear       0.63      0.96      0.76       330\n",
      "         joy       1.00      0.01      0.02       115\n",
      "     sadness       0.57      0.02      0.05       167\n",
      "    surprise       1.00      0.02      0.03       179\n",
      "\n",
      "   micro avg       0.63      0.38      0.47       863\n",
      "   macro avg       0.64      0.20      0.17       863\n",
      "weighted avg       0.69      0.38      0.31       863\n",
      " samples avg       0.57      0.35      0.41       863\n",
      "\n"
     ]
    }
   ],
   "source": [
    "print(results[\"report\"])"
   ]
  },
  {
   "cell_type": "code",
   "execution_count": 26,
   "id": "176869a1-1a97-4bab-a34f-a44910499619",
   "metadata": {},
   "outputs": [],
   "source": [
    "from sklearn.metrics import confusion_matrix"
   ]
  },
  {
   "cell_type": "markdown",
   "id": "84d79448",
   "metadata": {},
   "source": [
    "shift imports to the top"
   ]
  },
  {
   "cell_type": "code",
   "execution_count": 27,
   "id": "c25d0f09-a2bf-4879-bbd1-641d15c6b1ff",
   "metadata": {},
   "outputs": [
    {
     "data": {
      "text/plain": [
       "array([[482,   0],\n",
       "       [ 72,   0]])"
      ]
     },
     "execution_count": 27,
     "metadata": {},
     "output_type": "execute_result"
    }
   ],
   "source": [
    "confusion_matrix(y_test.iloc[:,0], y_pred[:,0])"
   ]
  },
  {
   "cell_type": "code",
   "execution_count": 28,
   "id": "7119f023-f952-4af3-afbb-f8a634fe3b9d",
   "metadata": {},
   "outputs": [
    {
     "data": {
      "text/plain": [
       "0.8700361010830325"
      ]
     },
     "execution_count": 28,
     "metadata": {},
     "output_type": "execute_result"
    }
   ],
   "source": [
    "482/554"
   ]
  },
  {
   "cell_type": "code",
   "execution_count": 29,
   "id": "b8907d92-7067-4262-8e29-61875dac9bf2",
   "metadata": {},
   "outputs": [
    {
     "data": {
      "text/plain": [
       "id          eng_train_track_a_00001eng_train_track_a_00002...\n",
       "text        Colorado, middle of nowhere.This involved swim...\n",
       "anger                                                     333\n",
       "fear                                                     1611\n",
       "joy                                                       674\n",
       "sadness                                                   878\n",
       "surprise                                                  839\n",
       "dtype: object"
      ]
     },
     "execution_count": 29,
     "metadata": {},
     "output_type": "execute_result"
    }
   ],
   "source": [
    "track_a.sum()"
   ]
  },
  {
   "cell_type": "markdown",
   "id": "81441f24-dfd1-4566-a0b7-7050f0ee277a",
   "metadata": {},
   "source": [
    "## Trying Logistic Regression"
   ]
  },
  {
   "cell_type": "code",
   "execution_count": 30,
   "id": "24966ec8-aacd-4a41-83e0-64b0d19f9a3d",
   "metadata": {},
   "outputs": [],
   "source": [
    "from sklearn.linear_model import LogisticRegression\n",
    "from sklearn.multioutput import MultiOutputClassifier\n",
    "from sklearn.feature_extraction.text import TfidfVectorizer"
   ]
  },
  {
   "cell_type": "code",
   "execution_count": 31,
   "id": "7f44f245-3ec7-4bff-8b9a-566191221d11",
   "metadata": {},
   "outputs": [],
   "source": [
    "clf = MultiOutputClassifier(LogisticRegression(solver='liblinear'))\n",
    "vectorizer = TfidfVectorizer()\n",
    "X_train_tfidf = vectorizer.fit_transform(X_train)\n",
    "X_test_tfidf = vectorizer.transform(X_test)\n",
    "clf.fit(X_train_tfidf, y_train)\n",
    "y_pred_lr = clf.predict(X_test_tfidf)"
   ]
  },
  {
   "cell_type": "code",
   "execution_count": 32,
   "id": "a18e5f3c-2ec0-402d-8fca-d2f966e0e9da",
   "metadata": {},
   "outputs": [
    {
     "name": "stdout",
     "output_type": "stream",
     "text": [
      "Accuracy anger: 0.8700361010830325\n",
      "Accuracy fear: 0.644404332129964\n",
      "Accuracy joy: 0.8014440433212996\n",
      "Accuracy sadness: 0.723826714801444\n",
      "Accuracy surprise: 0.7346570397111913\n"
     ]
    }
   ],
   "source": [
    "\n",
    "accuracies_lr = accuracy_per_label(y_test, y_pred_lr)"
   ]
  },
  {
   "cell_type": "code",
   "execution_count": 33,
   "id": "500368ef-9a39-43ce-bc89-b74e5eed0d97",
   "metadata": {},
   "outputs": [
    {
     "data": {
      "text/html": [
       "<div>\n",
       "<style scoped>\n",
       "    .dataframe tbody tr th:only-of-type {\n",
       "        vertical-align: middle;\n",
       "    }\n",
       "\n",
       "    .dataframe tbody tr th {\n",
       "        vertical-align: top;\n",
       "    }\n",
       "\n",
       "    .dataframe thead th {\n",
       "        text-align: right;\n",
       "    }\n",
       "</style>\n",
       "<table border=\"1\" class=\"dataframe\">\n",
       "  <thead>\n",
       "    <tr style=\"text-align: right;\">\n",
       "      <th></th>\n",
       "      <th>anger</th>\n",
       "      <th>fear</th>\n",
       "      <th>joy</th>\n",
       "      <th>sadness</th>\n",
       "      <th>surprise</th>\n",
       "    </tr>\n",
       "  </thead>\n",
       "  <tbody>\n",
       "    <tr>\n",
       "      <th>1378</th>\n",
       "      <td>0</td>\n",
       "      <td>1</td>\n",
       "      <td>0</td>\n",
       "      <td>0</td>\n",
       "      <td>0</td>\n",
       "    </tr>\n",
       "    <tr>\n",
       "      <th>839</th>\n",
       "      <td>0</td>\n",
       "      <td>1</td>\n",
       "      <td>0</td>\n",
       "      <td>0</td>\n",
       "      <td>1</td>\n",
       "    </tr>\n",
       "    <tr>\n",
       "      <th>2164</th>\n",
       "      <td>0</td>\n",
       "      <td>0</td>\n",
       "      <td>0</td>\n",
       "      <td>0</td>\n",
       "      <td>0</td>\n",
       "    </tr>\n",
       "    <tr>\n",
       "      <th>2619</th>\n",
       "      <td>0</td>\n",
       "      <td>1</td>\n",
       "      <td>0</td>\n",
       "      <td>1</td>\n",
       "      <td>0</td>\n",
       "    </tr>\n",
       "    <tr>\n",
       "      <th>927</th>\n",
       "      <td>0</td>\n",
       "      <td>1</td>\n",
       "      <td>0</td>\n",
       "      <td>0</td>\n",
       "      <td>0</td>\n",
       "    </tr>\n",
       "    <tr>\n",
       "      <th>...</th>\n",
       "      <td>...</td>\n",
       "      <td>...</td>\n",
       "      <td>...</td>\n",
       "      <td>...</td>\n",
       "      <td>...</td>\n",
       "    </tr>\n",
       "    <tr>\n",
       "      <th>874</th>\n",
       "      <td>0</td>\n",
       "      <td>0</td>\n",
       "      <td>1</td>\n",
       "      <td>0</td>\n",
       "      <td>0</td>\n",
       "    </tr>\n",
       "    <tr>\n",
       "      <th>2031</th>\n",
       "      <td>0</td>\n",
       "      <td>1</td>\n",
       "      <td>0</td>\n",
       "      <td>1</td>\n",
       "      <td>0</td>\n",
       "    </tr>\n",
       "    <tr>\n",
       "      <th>100</th>\n",
       "      <td>0</td>\n",
       "      <td>0</td>\n",
       "      <td>0</td>\n",
       "      <td>0</td>\n",
       "      <td>1</td>\n",
       "    </tr>\n",
       "    <tr>\n",
       "      <th>315</th>\n",
       "      <td>0</td>\n",
       "      <td>1</td>\n",
       "      <td>1</td>\n",
       "      <td>0</td>\n",
       "      <td>1</td>\n",
       "    </tr>\n",
       "    <tr>\n",
       "      <th>1740</th>\n",
       "      <td>0</td>\n",
       "      <td>0</td>\n",
       "      <td>0</td>\n",
       "      <td>0</td>\n",
       "      <td>1</td>\n",
       "    </tr>\n",
       "  </tbody>\n",
       "</table>\n",
       "<p>554 rows × 5 columns</p>\n",
       "</div>"
      ],
      "text/plain": [
       "      anger  fear  joy  sadness  surprise\n",
       "1378      0     1    0        0         0\n",
       "839       0     1    0        0         1\n",
       "2164      0     0    0        0         0\n",
       "2619      0     1    0        1         0\n",
       "927       0     1    0        0         0\n",
       "...     ...   ...  ...      ...       ...\n",
       "874       0     0    1        0         0\n",
       "2031      0     1    0        1         0\n",
       "100       0     0    0        0         1\n",
       "315       0     1    1        0         1\n",
       "1740      0     0    0        0         1\n",
       "\n",
       "[554 rows x 5 columns]"
      ]
     },
     "execution_count": 33,
     "metadata": {},
     "output_type": "execute_result"
    }
   ],
   "source": [
    "y_test"
   ]
  },
  {
   "cell_type": "code",
   "execution_count": 34,
   "id": "d37a832c-8b90-4d3c-bc1b-1ba33b815255",
   "metadata": {},
   "outputs": [
    {
     "data": {
      "text/plain": [
       "array([[0, 0, 0, 0, 0],\n",
       "       [0, 1, 0, 0, 0],\n",
       "       [0, 1, 0, 0, 0],\n",
       "       ...,\n",
       "       [0, 1, 0, 0, 1],\n",
       "       [0, 1, 0, 0, 0],\n",
       "       [0, 0, 0, 0, 1]], shape=(554, 5))"
      ]
     },
     "execution_count": 34,
     "metadata": {},
     "output_type": "execute_result"
    }
   ],
   "source": [
    "y_pred_lr"
   ]
  },
  {
   "cell_type": "code",
   "execution_count": 35,
   "id": "c4a7bb8d-b83b-41f1-82a9-9ee775443d83",
   "metadata": {},
   "outputs": [
    {
     "name": "stdout",
     "output_type": "stream",
     "text": [
      "0.1624548736462094\n",
      "0.7548736462093864\n"
     ]
    }
   ],
   "source": [
    "accuracy_score(y_test,y_pred_lr)\n",
    "print(accuracy)\n",
    "print( np.mean(accuracies_lr))"
   ]
  },
  {
   "cell_type": "code",
   "execution_count": 36,
   "id": "9a4c6f81-f335-4455-ab9f-8682a368881a",
   "metadata": {},
   "outputs": [
    {
     "name": "stdout",
     "output_type": "stream",
     "text": [
      "0.5061818181818182\n",
      "0.2894000023683524\n"
     ]
    },
    {
     "name": "stderr",
     "output_type": "stream",
     "text": [
      "c:\\Documents\\Masters\\Third Semester\\NLP\\NLP_Project\\ProjectNLP\\.venv\\lib\\site-packages\\sklearn\\metrics\\_classification.py:1706: UndefinedMetricWarning: Precision is ill-defined and being set to 0.0 in labels with no predicted samples. Use `zero_division` parameter to control this behavior.\n",
      "  _warn_prf(average, modifier, f\"{metric.capitalize()} is\", result.shape[0])\n",
      "c:\\Documents\\Masters\\Third Semester\\NLP\\NLP_Project\\ProjectNLP\\.venv\\lib\\site-packages\\sklearn\\metrics\\_classification.py:1706: UndefinedMetricWarning: Precision is ill-defined and being set to 0.0 in samples with no predicted labels. Use `zero_division` parameter to control this behavior.\n",
      "  _warn_prf(average, modifier, f\"{metric.capitalize()} is\", result.shape[0])\n",
      "c:\\Documents\\Masters\\Third Semester\\NLP\\NLP_Project\\ProjectNLP\\.venv\\lib\\site-packages\\sklearn\\metrics\\_classification.py:1706: UndefinedMetricWarning: Recall is ill-defined and being set to 0.0 in samples with no true labels. Use `zero_division` parameter to control this behavior.\n",
      "  _warn_prf(average, modifier, f\"{metric.capitalize()} is\", result.shape[0])\n",
      "c:\\Documents\\Masters\\Third Semester\\NLP\\NLP_Project\\ProjectNLP\\.venv\\lib\\site-packages\\sklearn\\metrics\\_classification.py:1706: UndefinedMetricWarning: F-score is ill-defined and being set to 0.0 in samples with no true nor predicted labels. Use `zero_division` parameter to control this behavior.\n",
      "  _warn_prf(average, modifier, f\"{metric.capitalize()} is\", result.shape[0])\n"
     ]
    }
   ],
   "source": [
    "results_lr = calculate_results(y_test,y_pred_lr)\n",
    "print(results_lr[\"f1_micro\"])\n",
    "print(results_lr[\"f1_macro\"])\n"
   ]
  },
  {
   "cell_type": "code",
   "execution_count": null,
   "id": "df7b25e9-e214-4ff5-a7a8-6afefc0aad54",
   "metadata": {},
   "outputs": [],
   "source": []
  }
 ],
 "metadata": {
  "kernelspec": {
   "display_name": ".venv",
   "language": "python",
   "name": "python3"
  },
  "language_info": {
   "codemirror_mode": {
    "name": "ipython",
    "version": 3
   },
   "file_extension": ".py",
   "mimetype": "text/x-python",
   "name": "python",
   "nbconvert_exporter": "python",
   "pygments_lexer": "ipython3",
   "version": "3.10.10"
  }
 },
 "nbformat": 4,
 "nbformat_minor": 5
}
