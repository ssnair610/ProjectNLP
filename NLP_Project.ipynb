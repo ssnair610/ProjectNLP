{
 "cells": [
  {
   "cell_type": "markdown",
   "id": "7ba3bfec-659e-4256-8f1f-eb320b07140e",
   "metadata": {},
   "source": [
    "pip install spacy"
   ]
  },
  {
   "cell_type": "markdown",
   "id": "b8f54ce5-7d2a-4f91-a39a-a459d31f11b8",
   "metadata": {},
   "source": [
    "pip install tensorflow"
   ]
  },
  {
   "cell_type": "markdown",
   "id": "0ca3ae37-448e-4e5a-a8f6-06e8947586ef",
   "metadata": {},
   "source": [
    "pip install nltk"
   ]
  },
  {
   "cell_type": "markdown",
   "id": "df3b2696",
   "metadata": {},
   "source": [
    "### Remove pip installs"
   ]
  },
  {
   "cell_type": "code",
   "execution_count": null,
   "id": "8db2e544-41db-4c50-8dbc-d1d092b8be5c",
   "metadata": {},
   "outputs": [],
   "source": [
    "import pandas as pd\n",
    "import numpy as np\n",
    "import spacy\n",
    "import nltk"
   ]
  },
  {
   "cell_type": "code",
   "execution_count": null,
   "id": "010e6e78-da78-4830-a4ab-54bbd240f64c",
   "metadata": {},
   "outputs": [],
   "source": [
    "import matplotlib.pyplot as plt\n",
    "from sklearn.model_selection import train_test_split\n",
    "from sklearn.pipeline import make_pipeline\n",
    "from sklearn.feature_extraction.text import TfidfVectorizer\n",
    "from sklearn.naive_bayes import MultinomialNB\n",
    "from sklearn.multiclass import OneVsRestClassifier\n",
    "from sklearn.metrics import accuracy_score, classification_report, f1_score"
   ]
  },
  {
   "cell_type": "markdown",
   "id": "c398fb1c-6f48-442e-9491-4643d08534be",
   "metadata": {},
   "source": [
    "## Data Analysis"
   ]
  },
  {
   "cell_type": "code",
   "execution_count": null,
   "id": "53c644a4-4afa-4f7e-9453-9742fd12ceda",
   "metadata": {},
   "outputs": [],
   "source": [
    "def read_data(filename, type = \"csv\"):\n",
    "    if(type == \"csv\"):\n",
    "        data = pd.read_csv(filename)  \n",
    "        data_df = pd.DataFrame(data)   \n",
    "        return data_df\n",
    "    \n",
    "    elif (type == \"excel\"):\n",
    "        data = pd.read_excel(filename)\n",
    "        data_df = pd.DataFrame(data)\n",
    "        return data_df"
   ]
  },
  {
   "cell_type": "code",
   "execution_count": null,
   "id": "58d0b961-013e-4664-8ac9-ec7f88461ed1",
   "metadata": {},
   "outputs": [],
   "source": [
    "datapath = \"C:\\\\Documents\\\\Masters\\\\Third Semester\\\\NLP\\\\NLP_Project\\\\Project\\\\Data\\\\track-a.csv\"\n",
    "track_a = read_data(datapath)"
   ]
  },
  {
   "cell_type": "code",
   "execution_count": null,
   "id": "03e36597-0ddf-4bc4-8c4c-24536750b379",
   "metadata": {},
   "outputs": [],
   "source": [
    "track_a"
   ]
  },
  {
   "cell_type": "markdown",
   "id": "1e7cf4c7",
   "metadata": {},
   "source": []
  },
  {
   "cell_type": "code",
   "execution_count": null,
   "id": "eaa87c98-f598-4297-82a5-d2541b873bf2",
   "metadata": {},
   "outputs": [],
   "source": [
    "def plot_data(data, plot_type = \"line\"):\n",
    "    if plot_type == \"bar\" :\n",
    "        plt.bar(data.index, data)\n",
    "        plt.show\n",
    "    else :\n",
    "        plt.plot(data)\n",
    "        plt.show"
   ]
  },
  {
   "cell_type": "code",
   "execution_count": null,
   "id": "65abddc0-7526-4712-8830-2d335fb1a96d",
   "metadata": {},
   "outputs": [],
   "source": [
    "plot_data(track_a.sum()[2:], \"bar\")"
   ]
  },
  {
   "cell_type": "markdown",
   "id": "cb0679ec-2d4e-46e6-89e3-c572e1eb2054",
   "metadata": {},
   "source": [
    "## Train Test Split"
   ]
  },
  {
   "cell_type": "code",
   "execution_count": null,
   "id": "6b485d2f-ced4-403e-a904-fe0cd7717f46",
   "metadata": {},
   "outputs": [],
   "source": [
    "X = track_a.iloc[:, 1]\n",
    "y = track_a.iloc[:, 2:]\n",
    "test_size = 0.20"
   ]
  },
  {
   "cell_type": "code",
   "execution_count": null,
   "id": "d6d250d5-8332-464d-93b0-77250085fad8",
   "metadata": {},
   "outputs": [],
   "source": [
    "X_train, X_test, y_train, y_test = train_test_split(X,y, test_size= test_size, random_state= 42)"
   ]
  },
  {
   "cell_type": "markdown",
   "id": "d30842bb-e3ca-44ce-aabf-e0ec34057a28",
   "metadata": {},
   "source": [
    "## Training Model"
   ]
  },
  {
   "cell_type": "code",
   "execution_count": null,
   "id": "7170b121-026e-4709-87e5-b9a4435d6fa2",
   "metadata": {},
   "outputs": [],
   "source": [
    "def multinomialNB_classifier(X_train, y_train): \n",
    "    model = make_pipeline(\n",
    "        TfidfVectorizer(),\n",
    "        OneVsRestClassifier(MultinomialNB())\n",
    "    )\n",
    "    model.fit(X_train, y_train)\n",
    "    return model"
   ]
  },
  {
   "cell_type": "code",
   "execution_count": null,
   "id": "10456e2e-05e7-441a-987e-756fec76eefc",
   "metadata": {},
   "outputs": [],
   "source": [
    "def predict_labels (model, X_test):\n",
    "    return model.predict(X_test)"
   ]
  },
  {
   "cell_type": "code",
   "execution_count": null,
   "id": "7208a84b-d501-4844-9f19-896fe1f6bc84",
   "metadata": {},
   "outputs": [],
   "source": [
    "model_NB = multinomialNB_classifier(X_train, y_train)"
   ]
  },
  {
   "cell_type": "code",
   "execution_count": null,
   "id": "81d03217-0d33-40f2-8b08-4a172a7b723c",
   "metadata": {},
   "outputs": [],
   "source": [
    "pred = model_NB.predict([X_test.iloc[3]])\n",
    "print(X_test.iloc[2])\n",
    "print(pred)"
   ]
  },
  {
   "cell_type": "code",
   "execution_count": null,
   "id": "90df64c2-fc8c-4322-abbd-07ab41500a5f",
   "metadata": {},
   "outputs": [],
   "source": [
    "y_pred = model_NB.predict(X_test)"
   ]
  },
  {
   "cell_type": "code",
   "execution_count": null,
   "id": "d09e5f04-c14c-4675-b4f7-830e54111dd9",
   "metadata": {},
   "outputs": [],
   "source": [
    "def calculate_results(y_test, y_pred) : \n",
    "    result_dict = {}\n",
    "    result_dict[\"accuracy\"] = accuracy_score(y_test, y_pred)\n",
    "    \n",
    "    # F1-score (macro = treats all labels equally, micro = global average)\n",
    "    result_dict[ \"f1_micro\" ] = f1_score(y_test, y_pred, average='micro')\n",
    "    result_dict [\"f1_macro\"] = f1_score(y_test, y_pred, average='macro')\n",
    "    \n",
    "    # Detailed classification report\n",
    "    result_dict [\"report\"] = classification_report(y_test, y_pred, target_names=[\"anger\",\"fear\",\"joy\",\"sadness\",\"surprise\"])\n",
    "\n",
    "    return result_dict"
   ]
  },
  {
   "cell_type": "code",
   "execution_count": null,
   "id": "81dad77f-c92b-406e-8bef-91d12c248b32",
   "metadata": {},
   "outputs": [],
   "source": [
    "def accuracy_per_label(y_test, y_pred):\n",
    "    accuracies = []\n",
    "    labels = [\"anger\", \"fear\", \"joy\", \"sadness\", \"surprise\"] \n",
    "    for i in range(5):\n",
    "        accuracies.append( accuracy_score(y_test.iloc[:,i], y_pred[:,i]))\n",
    "        \n",
    "        print(F\"Accuracy {labels[i]}: {accuracies[i] }\")\n",
    "    return accuracies"
   ]
  },
  {
   "cell_type": "code",
   "execution_count": null,
   "id": "15665ee5-3112-4174-a7c0-3d4c65db82d2",
   "metadata": {},
   "outputs": [],
   "source": [
    "results = calculate_results(y_test, y_pred)"
   ]
  },
  {
   "cell_type": "code",
   "execution_count": null,
   "id": "14a627c1-e480-4206-a32b-167404775aa2",
   "metadata": {},
   "outputs": [],
   "source": [
    "accuracies = accuracy_per_label(y_test, y_pred)"
   ]
  },
  {
   "cell_type": "code",
   "execution_count": null,
   "id": "a02512f1-7acc-4612-8176-9b389b534890",
   "metadata": {},
   "outputs": [],
   "source": [
    "accuracy_score(y_test,y_pred)\n",
    "print(accuracy)\n",
    "print( np.mean(accuracies))"
   ]
  },
  {
   "cell_type": "code",
   "execution_count": null,
   "id": "07c046c7-548d-45cb-a07a-ae1dfdd2c66b",
   "metadata": {},
   "outputs": [],
   "source": [
    "print(f1_micro)\n",
    "print(f1_macro)"
   ]
  },
  {
   "cell_type": "code",
   "execution_count": null,
   "id": "af7d8053-3e20-4704-8a4e-d05f3612a547",
   "metadata": {},
   "outputs": [],
   "source": [
    "print(report)"
   ]
  },
  {
   "cell_type": "markdown",
   "id": "10ce1142",
   "metadata": {},
   "source": [
    "maybe have a print metric function and call that as a whole ? up to you"
   ]
  },
  {
   "cell_type": "code",
   "execution_count": null,
   "id": "176869a1-1a97-4bab-a34f-a44910499619",
   "metadata": {},
   "outputs": [],
   "source": [
    "from sklearn.metrics import confusion_matrix"
   ]
  },
  {
   "cell_type": "markdown",
   "id": "84d79448",
   "metadata": {},
   "source": [
    "shift imports to the top"
   ]
  },
  {
   "cell_type": "code",
   "execution_count": null,
   "id": "c25d0f09-a2bf-4879-bbd1-641d15c6b1ff",
   "metadata": {},
   "outputs": [],
   "source": [
    "confusion_matrix(y_test.iloc[:,0], y_pred[:,0])"
   ]
  },
  {
   "cell_type": "code",
   "execution_count": null,
   "id": "7119f023-f952-4af3-afbb-f8a634fe3b9d",
   "metadata": {},
   "outputs": [],
   "source": [
    "482/554"
   ]
  },
  {
   "cell_type": "code",
   "execution_count": null,
   "id": "b8907d92-7067-4262-8e29-61875dac9bf2",
   "metadata": {},
   "outputs": [],
   "source": [
    "track_a.sum()"
   ]
  },
  {
   "cell_type": "markdown",
   "id": "81441f24-dfd1-4566-a0b7-7050f0ee277a",
   "metadata": {},
   "source": [
    "## Trying Logistic Regression"
   ]
  },
  {
   "cell_type": "code",
   "execution_count": null,
   "id": "24966ec8-aacd-4a41-83e0-64b0d19f9a3d",
   "metadata": {},
   "outputs": [],
   "source": [
    "from sklearn.linear_model import LogisticRegression\n",
    "from sklearn.multioutput import MultiOutputClassifier\n",
    "from sklearn.feature_extraction.text import TfidfVectorizer"
   ]
  },
  {
   "cell_type": "code",
   "execution_count": null,
   "id": "7f44f245-3ec7-4bff-8b9a-566191221d11",
   "metadata": {},
   "outputs": [],
   "source": [
    "clf = MultiOutputClassifier(LogisticRegression(solver='liblinear'))\n",
    "vectorizer = TfidfVectorizer()\n",
    "X_train_tfidf = vectorizer.fit_transform(X_train)\n",
    "X_test_tfidf = vectorizer.transform(X_test)\n",
    "clf.fit(X_train_tfidf, y_train)\n",
    "y_pred_lr = clf.predict(X_test_tfidf)"
   ]
  },
  {
   "cell_type": "code",
   "execution_count": null,
   "id": "a18e5f3c-2ec0-402d-8fca-d2f966e0e9da",
   "metadata": {},
   "outputs": [],
   "source": [
    "\n",
    "accuracies_lr = accuracy_per_label(y_test, y_pred_lr)"
   ]
  },
  {
   "cell_type": "code",
   "execution_count": null,
   "id": "500368ef-9a39-43ce-bc89-b74e5eed0d97",
   "metadata": {},
   "outputs": [],
   "source": [
    "y_test"
   ]
  },
  {
   "cell_type": "code",
   "execution_count": null,
   "id": "d37a832c-8b90-4d3c-bc1b-1ba33b815255",
   "metadata": {},
   "outputs": [],
   "source": [
    "y_pred_lr"
   ]
  },
  {
   "cell_type": "code",
   "execution_count": null,
   "id": "c4a7bb8d-b83b-41f1-82a9-9ee775443d83",
   "metadata": {},
   "outputs": [],
   "source": [
    "accuracy_score(y_test,y_pred_lr)\n",
    "print(accuracy)\n",
    "print( np.mean(accuracies_lr))"
   ]
  },
  {
   "cell_type": "code",
   "execution_count": null,
   "id": "9a4c6f81-f335-4455-ab9f-8682a368881a",
   "metadata": {},
   "outputs": [],
   "source": [
    "results_lr = calculate_results(y_test,y_pred_lr)\n",
    "print(results_lr[\"f1_micro\"])\n",
    "print(results_lr[\"f1_macro\"])\n"
   ]
  },
  {
   "cell_type": "code",
   "execution_count": null,
   "id": "df7b25e9-e214-4ff5-a7a8-6afefc0aad54",
   "metadata": {},
   "outputs": [],
   "source": []
  }
 ],
 "metadata": {
  "kernelspec": {
   "display_name": ".venv",
   "language": "python",
   "name": "python3"
  },
  "language_info": {
   "codemirror_mode": {
    "name": "ipython",
    "version": 3
   },
   "file_extension": ".py",
   "mimetype": "text/x-python",
   "name": "python",
   "nbconvert_exporter": "python",
   "pygments_lexer": "ipython3",
   "version": "3.10.10"
  }
 },
 "nbformat": 4,
 "nbformat_minor": 5
}
