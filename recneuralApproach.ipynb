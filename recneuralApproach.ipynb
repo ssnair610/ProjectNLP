{
 "cells": [
  {
   "cell_type": "code",
   "execution_count": null,
   "id": "9a3c0664",
   "metadata": {},
   "outputs": [],
   "source": [
    "import os\n",
    "import re\n",
    "import time\n",
    "import pandas as pd\n",
    "import numpy as np\n",
    "from collections import Counter\n",
    "\n",
    "import spacy\n",
    "from sklearn.model_selection import train_test_split\n",
    "\n",
    "import torch\n",
    "import torch.nn as nn\n",
    "import torch.optim as optim\n",
    "from torch.utils.data import Dataset, DataLoader\n",
    "from torch import Tensor\n",
    "from torch.nn.utils.rnn import pack_padded_sequence, pad_packed_sequence\n",
    "from typing import Optional\n",
    "from torch.amp.grad_scaler import GradScaler\n",
    "import optuna"
   ]
  },
  {
   "cell_type": "code",
   "execution_count": null,
   "id": "87c74e1f",
   "metadata": {},
   "outputs": [],
   "source": [
    "dataPath = os.path.join(\"Data\",\"track-a.csv\")"
   ]
  },
  {
   "cell_type": "code",
   "execution_count": null,
   "id": "b6a55cb5",
   "metadata": {},
   "outputs": [],
   "source": [
    "dataFrame = pd.read_csv(dataPath)"
   ]
  },
  {
   "cell_type": "code",
   "execution_count": null,
   "id": "95a615c6",
   "metadata": {},
   "outputs": [],
   "source": [
    "nlpModel = spacy.load(\"en_core_web_sm\", disable=[\"parser\", \"ner\"])"
   ]
  },
  {
   "cell_type": "code",
   "execution_count": null,
   "id": "ebc80a73",
   "metadata": {},
   "outputs": [],
   "source": [
    "textColumn = \"text\"\n",
    "labelColumns = [\"anger\", \"fear\", \"joy\", \"sadness\", \"surprise\"]"
   ]
  },
  {
   "cell_type": "code",
   "execution_count": null,
   "id": "4aafa237",
   "metadata": {},
   "outputs": [],
   "source": [
    "def cleanerFunction(text: str) -> str:\n",
    "    tempDoc = nlpModel(text)\n",
    "    tokens = [\n",
    "        tok.lemma_.lower()\n",
    "        for tok in tempDoc\n",
    "        if not tok.is_stop and not tok.is_punct and tok.lemma_ != \"-PRON-\"\n",
    "    ]\n",
    "    return \" \".join(tokens)"
   ]
  },
  {
   "cell_type": "code",
   "execution_count": null,
   "id": "142be880",
   "metadata": {},
   "outputs": [],
   "source": [
    "dataFrame[\"Spacy_text\"] = dataFrame[\"text\"].astype(str).apply(cleanerFunction)"
   ]
  },
  {
   "cell_type": "code",
   "execution_count": null,
   "id": "912e6a6c",
   "metadata": {},
   "outputs": [],
   "source": [
    "userDevice = torch.device(\"cuda\" if torch.cuda.is_available() else \"cpu\")"
   ]
  },
  {
   "cell_type": "code",
   "execution_count": null,
   "id": "599ae6e5",
   "metadata": {},
   "outputs": [],
   "source": [
    "labelColumns = [col for col in [\"anger\", \"fear\", \"joy\", \"sadness\", \"surprise\"] if col in dataFrame]\n",
    "yData = dataFrame[labelColumns].values.astype(np.float32)"
   ]
  },
  {
   "cell_type": "code",
   "execution_count": null,
   "id": "d1b5b430",
   "metadata": {},
   "outputs": [],
   "source": [
    "xAll = dataFrame[\"Spacy_text\"].tolist()\n",
    "xTrain, xVal, yTrain, yVal = train_test_split(xAll, yData, test_size = 0.1, random_state = 69)"
   ]
  },
  {
   "cell_type": "code",
   "execution_count": null,
   "id": "526aae69",
   "metadata": {},
   "outputs": [],
   "source": [
    "xTrain = xTrain.copy()\n",
    "xVal = xVal.copy()"
   ]
  },
  {
   "cell_type": "code",
   "execution_count": null,
   "id": "3de8cb5d",
   "metadata": {},
   "outputs": [],
   "source": [
    "numLabels = yTrain.shape[1]"
   ]
  },
  {
   "cell_type": "code",
   "execution_count": null,
   "id": "4c0c9230",
   "metadata": {},
   "outputs": [],
   "source": [
    "TOKEN_PATTERN = re.compile(r\"\\b\\w+\\b\")"
   ]
  },
  {
   "cell_type": "code",
   "execution_count": null,
   "id": "6bc526de",
   "metadata": {},
   "outputs": [],
   "source": [
    "def simpleTokenize(text: str) -> list:\n",
    "    return TOKEN_PATTERN.findall(text.lower())"
   ]
  },
  {
   "cell_type": "code",
   "execution_count": null,
   "id": "6dab582c",
   "metadata": {},
   "outputs": [],
   "source": [
    "def vocabularyBuilder(texts: list, vocabsize: int = 20000):\n",
    "    counter = Counter()\n",
    "    for t in texts:\n",
    "        tokens = simpleTokenize(t)\n",
    "        counter.update(tokens)\n",
    "    \n",
    "    mostCommon = counter.most_common(vocabsize - 2)\n",
    "    indextoword = [\"<pad>\", \"<unk>\"] + [token for token, _ in mostCommon]\n",
    "    wordtoindex = {w: i for i, w in enumerate(indextoword)}\n",
    "\n",
    "    return wordtoindex, indextoword"
   ]
  },
  {
   "cell_type": "code",
   "execution_count": null,
   "id": "c34acf54",
   "metadata": {},
   "outputs": [],
   "source": [
    "MAX_VOCAB_SIZE = 20000\n",
    "MAX_SEQUENCE_LENGTH = 100\n",
    "\n",
    "wordtoindex, indextoword = vocabularyBuilder(xTrain, vocabsize = MAX_VOCAB_SIZE)\n",
    "vocabSize = len(indextoword)\n",
    "\n",
    "padIndex = wordtoindex[\"<pad>\"]\n",
    "unkIndex = wordtoindex[\"<unk>\"]"
   ]
  },
  {
   "cell_type": "code",
   "execution_count": null,
   "id": "5359bbb3",
   "metadata": {},
   "outputs": [],
   "source": [
    "def encodePadFunction(texts: list, wordtoindex: dict, sequenceLength: int = 100) -> np.ndarray:\n",
    "    encodings = []\n",
    "\n",
    "    for t in texts:\n",
    "        tokens = simpleTokenize(t)\n",
    "        tokenIDs = [wordtoindex.get(tok, unkIndex) for tok in tokens]\n",
    "        if len(tokenIDs) > sequenceLength:\n",
    "            tokenIDs = tokenIDs[:sequenceLength]\n",
    "        else:\n",
    "            tokenIDs = tokenIDs + [padIndex] * (sequenceLength - len(tokenIDs))\n",
    "        encodings.append(tokenIDs)\n",
    "\n",
    "    return np.array(encodings, dtype = np.int64)"
   ]
  },
  {
   "cell_type": "code",
   "execution_count": null,
   "id": "d23f9099",
   "metadata": {},
   "outputs": [],
   "source": [
    "trainEncode = encodePadFunction(xTrain, wordtoindex, sequenceLength = 100)\n",
    "valEncode = encodePadFunction(xVal, wordtoindex, sequenceLength = 100)"
   ]
  },
  {
   "cell_type": "code",
   "execution_count": null,
   "id": "9fce8796",
   "metadata": {},
   "outputs": [],
   "source": [
    "class TextDataset(Dataset):\n",
    "    def __init__(self, encodings: np.ndarray, labels: np.ndarray) -> None:\n",
    "        self.encodings = torch.from_numpy(encodings)\n",
    "        self.labels = torch.from_numpy(labels)\n",
    "\n",
    "    def __len__(self):\n",
    "        return self.encodings.size(0)\n",
    "    \n",
    "    def __getitem__(self, index):\n",
    "        return self.encodings[index], self.labels[index]"
   ]
  },
  {
   "cell_type": "markdown",
   "id": "b2a52a06",
   "metadata": {},
   "source": [
    "## Recurrent Neural Network - LSTM"
   ]
  },
  {
   "cell_type": "code",
   "execution_count": null,
   "id": "2b4b8c3d",
   "metadata": {},
   "outputs": [],
   "source": [
    "class LSTMClassifier(nn.Module):\n",
    "    def __init__(\n",
    "        self,\n",
    "        vocabSize: int,\n",
    "        embeddingDim: int,\n",
    "        hiddenDim: int,\n",
    "        rnnLayers: int,\n",
    "        bidirectional: bool,\n",
    "        dropoutRate: float,\n",
    "        denseUnits: int,\n",
    "        numLabels: int,\n",
    "        padIndex: int,\n",
    "        useAttention: bool = False\n",
    "    ) -> None:\n",
    "        super().__init__()\n",
    "        self.embedding = nn.Embedding(vocabSize, embeddingDim, padding_idx = padIndex)\n",
    "        self.dropoutEmb = nn.Dropout(dropoutRate)\n",
    "        self.lstm = nn.LSTM(\n",
    "            input_size = embeddingDim,\n",
    "            hidden_size = hiddenDim,\n",
    "            num_layers = rnnLayers,\n",
    "            bidirectional = bidirectional,\n",
    "            batch_first = True,\n",
    "            dropout = dropoutRate if rnnLayers > 1 else 0.0\n",
    "        )\n",
    "\n",
    "        self.use_attention = useAttention\n",
    "        directionFactor = 2 if bidirectional else 1\n",
    "        if useAttention:\n",
    "            self.attn_linear = nn.Linear(hiddenDim * directionFactor, hiddenDim * directionFactor)\n",
    "            self.attn_v = nn.Linear(hiddenDim * directionFactor, 1, bias = False)\n",
    "\n",
    "        self.fc1 = nn.Linear(hiddenDim * directionFactor, denseUnits)\n",
    "        self.bn1 = nn.BatchNorm1d(denseUnits)\n",
    "        self.relu = nn.ReLU()\n",
    "        self.dropoutFc = nn.Dropout(dropoutRate)\n",
    "        self.fc_out = nn.Linear(denseUnits, numLabels)\n",
    "\n",
    "    def forward(self, x: torch.LongTensor) -> Tensor:\n",
    "        pad_idx = self.embedding.padding_idx\n",
    "        lengths = (x != pad_idx).sum(dim = 1)\n",
    "\n",
    "        embTensor: Tensor = self.embedding(x)  # type: ignore\n",
    "        embTensor = self.dropout_emb(embTensor)   #type: ignore\n",
    "\n",
    "        packed = pack_padded_sequence(embTensor, lengths.cpu(), batch_first = True, enforce_sorted = False)\n",
    "        rnnOut, _ = self.lstm(packed)\n",
    "        rnnOut, _ = pad_packed_sequence(rnnOut, batch_first = True)\n",
    "\n",
    "        if self.use_attention:\n",
    "            scores = torch.tanh(self.attn_linear(rnnOut))\n",
    "            weights = torch.softmax(self.attn_v(scores), dim = 1)\n",
    "            finalFeat = (weights * rnnOut).sum(dim = 1)\n",
    "        else:\n",
    "            idx = torch.arange(x.size(0), device = x.device)\n",
    "            finalFeat = rnnOut[idx, lengths - 1]\n",
    "\n",
    "        h: Tensor = self.fc1(finalFeat) #type: ignore\n",
    "        h = self.bn1(h)\n",
    "        h = self.relu(h)\n",
    "        h = self.dropout_fc(h)  #type: ignore\n",
    "        logits: Tensor = self.output_layer(h)   #type: ignore\n",
    "        return logits"
   ]
  },
  {
   "cell_type": "code",
   "execution_count": null,
   "id": "1127454d",
   "metadata": {},
   "outputs": [],
   "source": [
    "def epochTrain(model, dataloader, optimizer, criterion, device):\n",
    "    model.train()\n",
    "    totalLoss = 0.0\n",
    "    for batchInputs, batchLabels in dataloader:\n",
    "        batchInputs = batchInputs.to(device)\n",
    "        batchLabels = batchLabels.to(device)\n",
    "\n",
    "        optimizer.zero_grad()\n",
    "        logits = model(batchInputs)\n",
    "        loss = criterion(logits, batchLabels)\n",
    "        loss.backward()\n",
    "\n",
    "        nn.utils.clip_grad_norm_(model.parameters(), max_norm = 1.0)\n",
    "        optimizer.step()\n",
    "\n",
    "        totalLoss += loss.item() * batchInputs.size(0)\n",
    "    \n",
    "    return totalLoss / len(dataloader.dataset)"
   ]
  },
  {
   "cell_type": "code",
   "execution_count": null,
   "id": "5df36a71",
   "metadata": {},
   "outputs": [],
   "source": [
    "def evaluateModel(model, dataloader, criterion, device):\n",
    "    model.eval()\n",
    "    totalLoss = 0.0\n",
    "    with torch.no_grad():\n",
    "        for batchInputs, batchLabels in dataloader:\n",
    "            batchInputs = batchInputs.to(device)\n",
    "            batchLabels = batchLabels.to(device)\n",
    "\n",
    "            logits = model(batchInputs)\n",
    "            loss = criterion(logits, batchLabels)\n",
    "            totalLoss += loss.item() * batchInputs.size(0)\n",
    "\n",
    "    return totalLoss / len(dataloader.dataset)"
   ]
  },
  {
   "cell_type": "code",
   "execution_count": null,
   "id": "65fffcea",
   "metadata": {},
   "outputs": [],
   "source": [
    "freq = np.maximum(yTrain.sum(axis = 0) / len(yTrain), 1e-4)\n",
    "classWeights = 1.0 / freq\n",
    "classWeights = classWeights / classWeights.sum()\n",
    "weightTensor = torch.FloatTensor(classWeights).to(userDevice)"
   ]
  },
  {
   "cell_type": "code",
   "execution_count": null,
   "id": "6b76a75e",
   "metadata": {},
   "outputs": [],
   "source": [
    "def objectiveLSTM(trial):\n",
    "    embeddingDim  = trial.suggest_categorical(\"embeddingDim\", [64, 128, 256])\n",
    "    hiddenDim = trial.suggest_int(\"hiddenDim\", 32, 256, step = 16)\n",
    "    rnnLayers = trial.suggest_int(\"rnnLayers\", 1, 5)\n",
    "    bidirectional = trial.suggest_categorical(\"bidirectional\", [False, True])\n",
    "    dropoutRate = trial.suggest_float(\"dropoutRate\", 0.2, 0.6, step = 0.1)\n",
    "    denseUnits = trial.suggest_int(\"denseUnits\", 32, 256, step = 16)\n",
    "    learnRate = trial.suggest_float(\"learnRate\", 1e-4, 1e-2, log = True)\n",
    "    weightDecay = trial.suggest_float(\"weightDecay\", 1e-6, 1e-2, log = True)\n",
    "    batchSize = trial.suggest_categorical(\"batchSize\", [32, 64, 128, 256])\n",
    "    epochs = trial.suggest_categorical(\"epochs\", [3, 5, 7, 9])\n",
    "    optName = trial.suggest_categorical(\"optimizer\", [\"Adam\", \"RMSprop\", \"SGD\"])\n",
    "    useScheduler = trial.suggest_categorical(\"useScheduler\", [False, True])\n",
    "    if optName == \"SGD\":\n",
    "        sgdvar = trial.suggest_float(\"momentum\", 0.1, 0.9)\n",
    "\n",
    "    trainDataset = TextDataset(trainEncode, yTrain)\n",
    "    valDataset = TextDataset(valEncode, yVal)\n",
    "\n",
    "    trainLoader = DataLoader(trainDataset, batch_size = batchSize, shuffle = True)\n",
    "    valLoader = DataLoader(valDataset, batch_size = batchSize, shuffle = True)\n",
    "\n",
    "    model = LSTMClassifier(vocabSize, embeddingDim, hiddenDim, rnnLayers, bidirectional, dropoutRate, denseUnits, numLabels, padIndex).to(userDevice)\n",
    "\n",
    "    if optName == \"Adam\":\n",
    "        optimizer = optim.Adam(model.parameters(), lr = learnRate, weight_decay = weightDecay)\n",
    "    elif optName == \"RMSprop\":\n",
    "        optimizer = optim.RMSprop(model.parameters(), lr = learnRate, weight_decay = weightDecay)\n",
    "    else:\n",
    "        optimizer = optim.SGD(model.parameters(), lr = learnRate, momentum = sgdvar) # type: ignore\n",
    "\n",
    "    criterionOption = nn.BCEWithLogitsLoss(pos_weight = weightTensor)\n",
    "\n",
    "    bestvalLoss = float(\"inf\")\n",
    "    counterVar = 0\n",
    "    bestState = None\n",
    "\n",
    "    if useScheduler:\n",
    "        scheduler = optim.lr_scheduler.ReduceLROnPlateau(optimizer, mode = \"min\", factor = 0.5, patience = 1)\n",
    "\n",
    "    for epoch in range(1, epochs + 1):\n",
    "        trainLoss = epochTrain(model, trainLoader, optimizer, criterionOption, userDevice)\n",
    "        valLoss = evaluateModel(model, valLoader, criterionOption, userDevice)\n",
    "\n",
    "        if useScheduler:\n",
    "            scheduler.step(valLoss) # type: ignore\n",
    "\n",
    "        trial.report(valLoss, epoch)\n",
    "\n",
    "        if trial.should_prune():\n",
    "            raise optuna.exceptions.TrialPruned()\n",
    "        \n",
    "        if valLoss < bestvalLoss:\n",
    "            bestvalLoss = valLoss\n",
    "            counterVar = 0\n",
    "            bestState = {k: v.cpu() for k, v in model.state_dict().items()}\n",
    "        else:\n",
    "            counterVar += 1\n",
    "            if counterVar >= 2:\n",
    "                break\n",
    "\n",
    "    model.load_state_dict(bestState) # type: ignore\n",
    "    return bestvalLoss"
   ]
  },
  {
   "cell_type": "code",
   "execution_count": null,
   "id": "089355b5",
   "metadata": {},
   "outputs": [],
   "source": [
    "def _objectiveLSTM(trial):\n",
    "    return objectiveLSTM(trial)"
   ]
  },
  {
   "cell_type": "code",
   "execution_count": null,
   "id": "dcf69fe7",
   "metadata": {},
   "outputs": [],
   "source": [
    "studyLSTM = optuna.create_study(direction = \"minimize\", sampler = optuna.samplers.TPESampler(seed = 42))"
   ]
  },
  {
   "cell_type": "code",
   "execution_count": null,
   "id": "76ec32aa",
   "metadata": {},
   "outputs": [],
   "source": [
    "studyLSTM.optimize(_objectiveLSTM, n_trials = 500)"
   ]
  },
  {
   "cell_type": "code",
   "execution_count": null,
   "id": "a72360d2",
   "metadata": {},
   "outputs": [],
   "source": [
    "print(\"\\nOptuna Best Trial:\")\n",
    "best = studyLSTM.best_trial\n",
    "print(f\"Validation Loss: {best.value:.4f}\")\n",
    "for key, val in best.params.items():\n",
    "    print(f\"  {key}: {val}\")\n",
    "print(\"\\n\")\n",
    "\n",
    "best_embeddingDim = best.params[\"embeddingDim\"]\n",
    "best_hiddenDim = best.params[\"hiddenDim\"]\n",
    "best_rnnLayers = best.params[\"rnnLayers\"]\n",
    "best_bidirectional = best.params[\"bidirectional\"]\n",
    "best_dropoutRate = best.params[\"dropoutRate\"]\n",
    "best_denseUnits = best.params[\"denseUnits\"]\n",
    "best_learnRate = best.params[\"learnRate\"]\n",
    "best_weightDecay = best.params[\"weightDecay\"]\n",
    "best_batchSize = best.params[\"batchSize\"]\n",
    "best_epochs = best.params[\"epochs\"]\n",
    "best_optName = best.params[\"optimizer\"]\n",
    "best_use_scheduler = best.params[\"useScheduler\"]\n",
    "if best_optName == \"SGD\":\n",
    "    best_momentum = best.params[\"momentum\"]"
   ]
  },
  {
   "cell_type": "code",
   "execution_count": null,
   "id": "ffa75612",
   "metadata": {},
   "outputs": [],
   "source": [
    "finalTrainDataset = TextDataset(trainEncode, yTrain)\n",
    "finalValDataset = TextDataset(valEncode, yVal)\n",
    "\n",
    "finalTrainLoader = DataLoader(finalTrainDataset, batch_size = best_batchSize, shuffle = True)\n",
    "finalValLoader = DataLoader(finalValDataset, batch_size = best_batchSize, shuffle = False)"
   ]
  },
  {
   "cell_type": "code",
   "execution_count": null,
   "id": "2d1a30f6",
   "metadata": {},
   "outputs": [],
   "source": [
    "finalModelLSTM = LSTMClassifier(\n",
    "    vocabSize = vocabSize,\n",
    "    embeddingDim = best_embeddingDim,\n",
    "    hiddenDim = best_hiddenDim,\n",
    "    rnnLayers = best_rnnLayers,\n",
    "    bidirectional = best_bidirectional,\n",
    "    dropoutRate = best_dropoutRate,\n",
    "    denseUnits = best_denseUnits,\n",
    "    numLabels = numLabels,\n",
    "    padIndex = padIndex\n",
    ").to(userDevice)\n",
    "\n",
    "if best_optName == \"Adam\":\n",
    "    finalOptimizer = optim.Adam(finalModelLSTM.parameters(), lr = best_learnRate, weight_decay = best_weightDecay)\n",
    "elif best_optName == \"RMSprop\":\n",
    "    finalOptimizer = optim.RMSprop(finalModelLSTM.parameters(), lr = best_learnRate, weight_decay = best_weightDecay)\n",
    "else:\n",
    "    finalOptimizer = optim.SGD(finalModelLSTM.parameters(), lr = best_learnRate, momentum = best_momentum, weight_decay = best_weightDecay)\n",
    "\n",
    "finalCriterion = nn.BCEWithLogitsLoss(pos_weight = weightTensor)\n",
    "\n",
    "if best_use_scheduler:\n",
    "    finalScheduler = optim.lr_scheduler.ReduceLROnPlateau(finalOptimizer, mode = \"min\", factor = 0.5, patience = 1)"
   ]
  },
  {
   "cell_type": "code",
   "execution_count": null,
   "id": "95b65981",
   "metadata": {},
   "outputs": [],
   "source": [
    "bestValLossFinal = float(\"inf\")\n",
    "patienceCtr = 0\n",
    "bestStateFinal = None"
   ]
  },
  {
   "cell_type": "code",
   "execution_count": null,
   "id": "9edb7821",
   "metadata": {},
   "outputs": [],
   "source": [
    "for epoch in range(1, best_epochs + 1):\n",
    "    trainLoss = epochTrain(finalModelLSTM, finalTrainLoader, finalOptimizer, finalCriterion, userDevice)\n",
    "    valLoss = evaluateModel(finalModelLSTM, finalValLoader,   finalCriterion, userDevice)\n",
    "    print(f\"Final Epoch {epoch:02d} | Train Loss: {trainLoss:.4f} | Val Loss: {valLoss:.4f}\")\n",
    "\n",
    "    if best_use_scheduler:\n",
    "        finalScheduler.step(valLoss)\n",
    "\n",
    "    if valLoss < bestValLossFinal:\n",
    "        bestValLossFinal = valLoss\n",
    "        patienceCtr = 0\n",
    "        bestStateFinal = {k: v.cpu() for k, v in finalModelLSTM.state_dict().items()}\n",
    "    else:\n",
    "        patienceCtr += 1\n",
    "        if patienceCtr >= 3:\n",
    "            print(f\"Early stopping at epoch {epoch}\")\n",
    "            break"
   ]
  },
  {
   "cell_type": "code",
   "execution_count": null,
   "id": "c3afce23",
   "metadata": {},
   "outputs": [],
   "source": [
    "finalModelLSTM.load_state_dict(bestStateFinal)"
   ]
  },
  {
   "cell_type": "code",
   "execution_count": null,
   "id": "0cb71edd",
   "metadata": {},
   "outputs": [],
   "source": [
    "finalModelLSTM.eval()\n",
    "runningLoss = 0.0\n",
    "correct = 0\n",
    "total = 0\n",
    "with torch.no_grad():\n",
    "    for batchInputs, batchLabels in finalValLoader:\n",
    "        batchInputs = batchInputs.to(userDevice)\n",
    "        batchLabels = batchLabels.to(userDevice)\n",
    "\n",
    "        logits = finalModelLSTM(batchInputs)\n",
    "        loss = finalCriterion(logits, batchLabels)\n",
    "        runningLoss += loss.item() * batchInputs.size(0)\n",
    "\n",
    "        preds = (torch.sigmoid(logits) >= 0.5).float()\n",
    "        correct += (preds == batchLabels).sum().item()\n",
    "        total += batchLabels.numel()\n",
    "\n",
    "finalValLoss = runningLoss / len(finalValDataset)\n",
    "finalValAcc  = correct / total\n",
    "print(f\"\\nFinal Model -> Val Loss: {finalValLoss:.4f}, Val Accuracy: {finalValAcc:.4f}\")"
   ]
  },
  {
   "cell_type": "code",
   "execution_count": null,
   "id": "2db283fb",
   "metadata": {},
   "outputs": [],
   "source": [
    "os.makedirs(\"savedModel\", exist_ok = True)\n",
    "torch.save({\n",
    "    \"model_state_dict\": finalModelLSTM.state_dict(),\n",
    "    \"wordtoindex\": wordtoindex,\n",
    "    \"indextoword\": indextoword,\n",
    "    \"padIndex\": padIndex,\n",
    "    \"max_sequence_length\": MAX_SEQUENCE_LENGTH\n",
    "}, \"savedModel/rnnLSTM_emotion_classifier_optuna.pth\")\n",
    "print(\"Saved final model + vocab to savedModel/rnnLSTM_emotion_classifier_optuna.pth\")"
   ]
  },
  {
   "cell_type": "markdown",
   "id": "d1652dea",
   "metadata": {},
   "source": [
    "## Recurrent Neural Network - GRU\n"
   ]
  },
  {
   "cell_type": "code",
   "execution_count": null,
   "id": "dffa5909",
   "metadata": {},
   "outputs": [],
   "source": [
    "class GRUClassifier(nn.Module):\n",
    "    def __init__(\n",
    "        self,\n",
    "        vocabSize: int,\n",
    "        embeddingDim: int,\n",
    "        hiddenDim: int,\n",
    "        rnnLayers: int,\n",
    "        bidirectional: bool,\n",
    "        dropoutRate: float,\n",
    "        denseUnits: int,\n",
    "        numLabels: int,\n",
    "        padIndex: int,\n",
    "        useAttention: bool = False\n",
    "    ):\n",
    "        super().__init__()\n",
    "        self.embedding: nn.Embedding = nn.Embedding(vocabSize, embeddingDim, padding_idx = padIndex)\n",
    "        self.dropout_emb: nn.Dropout = nn.Dropout(dropoutRate)\n",
    "        self.gru: nn.GRU = nn.GRU(\n",
    "            input_size = embeddingDim,\n",
    "            hidden_size = hiddenDim,\n",
    "            num_layers = rnnLayers,\n",
    "            bidirectional = bidirectional,\n",
    "            batch_first = True,\n",
    "            dropout = dropoutRate if rnnLayers > 1 else 0.0\n",
    "        )\n",
    "\n",
    "        self.use_attention: bool = useAttention\n",
    "        factor = 2 if bidirectional else 1\n",
    "        if useAttention:\n",
    "            self.attn_linear: nn.Linear = nn.Linear(hiddenDim * factor, hiddenDim * factor)\n",
    "            self.attn_v:      nn.Linear = nn.Linear(hiddenDim * factor, 1, bias = False)\n",
    "\n",
    "        self.fc1: nn.Linear = nn.Linear(hiddenDim * factor, denseUnits)\n",
    "        self.bn1: nn.BatchNorm1d = nn.BatchNorm1d(denseUnits)\n",
    "        self.relu: nn.ReLU = nn.ReLU()\n",
    "        self.dropout_fc: nn.Dropout = nn.Dropout(dropoutRate)\n",
    "        self.output_layer: nn.Linear = nn.Linear(denseUnits, numLabels)\n",
    "\n",
    "    def forward(self, x: torch.LongTensor) -> Tensor:\n",
    "        lengths = (x != self.embedding.padding_idx).sum(dim = 1)\n",
    "        lengths = torch.clamp(lengths, min = 1)\n",
    "\n",
    "        emb = self.dropout_emb(self.embedding(x))\n",
    "\n",
    "        packed = pack_padded_sequence(emb, lengths.cpu(), batch_first = True, enforce_sorted = False)\n",
    "        rnnOut, _ = self.gru(packed)\n",
    "        rnnOut, _ = pad_packed_sequence(rnnOut, batch_first = True)\n",
    "\n",
    "        if self.use_attention:\n",
    "            scores = torch.tanh(self.attn_linear(rnnOut))\n",
    "            weights = torch.softmax(self.attn_v(scores), dim = 1)\n",
    "            finalFeat = (weights * rnnOut).sum(dim = 1)\n",
    "        else:\n",
    "            idx = torch.arange(x.size(0), device = x.device)\n",
    "            finalFeat = rnnOut[idx, lengths - 1]\n",
    "\n",
    "        h: Tensor = self.fc1(finalFeat)\n",
    "        h = self.bn1(h)\n",
    "        h = self.relu(h)\n",
    "        h = self.dropout_fc(h)\n",
    "        logits: Tensor = self.output_layer(h)\n",
    "        return logits"
   ]
  },
  {
   "cell_type": "code",
   "execution_count": null,
   "id": "abc8dddf",
   "metadata": {},
   "outputs": [],
   "source": [
    "def objectiveGRU(trial):\n",
    "    embeddingDim = trial.suggest_categorical(\"gru_embeddingDim\", [64, 128, 256, 512])\n",
    "    hiddenDim = trial.suggest_int(\"gru_hiddenDim\", 32, 256,step = 16)\n",
    "    rnnLayers = trial.suggest_int(\"gru_layers\", 1, 9)\n",
    "    bidirectional = trial.suggest_categorical(\"gru_bidirectional\", [False, True])\n",
    "    dropoutRate = trial.suggest_float(\"gru_dropoutRate\", 0.2, 0.6, step = 0.1)\n",
    "    denseUnits = trial.suggest_int(\"gru_denseUnits\", 32, 256, step = 16)\n",
    "    learnRate = trial.suggest_float(\"gru_learnRate\", 1e-4, 1e-2, log = True)\n",
    "    weightDecay = trial.suggest_float(\"gru_weightDecay\", 1e-6, 1e-2, log = True)\n",
    "    batchSize = trial.suggest_categorical(\"gru_batchSize\", [32, 64, 128, 256])\n",
    "    epochs = trial.suggest_categorical(\"gru_epochs\", [3, 5, 7, 9])\n",
    "    optimizerName = trial.suggest_categorical(\"gru_optimizer\", [\"AdamW\", \"Adam\", \"RMSprop\", \"SGD\"])\n",
    "    useScheduler = trial.suggest_categorical(\"gru_useScheduler\", [False, True])\n",
    "    useAttention = trial.suggest_categorical(\"gru_attn\", [False, True])\n",
    "    if optimizerName == \"SGD\":\n",
    "        momentum = trial.suggest_float(\"gru_mom\", 0.1, 0.9)\n",
    "\n",
    "    trainDataset = TextDataset(trainEncode, yTrain)\n",
    "    valDataset = TextDataset(valEncode, yVal)\n",
    "\n",
    "    trainLoader = DataLoader(trainDataset, batch_size = batchSize, shuffle = True)\n",
    "    valLoader = DataLoader(valDataset, batch_size = batchSize, shuffle = True)\n",
    "\n",
    "    model = GRUClassifier(vocabSize,\n",
    "        embeddingDim,\n",
    "        hiddenDim,\n",
    "        rnnLayers,\n",
    "        bidirectional,\n",
    "        dropoutRate,\n",
    "        denseUnits,\n",
    "        numLabels,\n",
    "        padIndex,\n",
    "        useAttention\n",
    "    ).to(userDevice)\n",
    "\n",
    "    if optimizerName == \"AdamW\":\n",
    "        optimizer = optim.AdamW(model.parameters(), lr = learnRate, weight_decay = weightDecay)\n",
    "    elif optimizerName == \"Adam\":\n",
    "        optimizer = optim.Adam(model.parameters(),lr = learnRate, weight_decay = weightDecay)\n",
    "    elif optimizerName == \"RMSprop\":\n",
    "        optimizer = optim.RMSprop(model.parameters(), lr = learnRate, weight_decay = weightDecay)\n",
    "    else:\n",
    "        optimizer = optim.SGD(model.parameters(),lr = learnRate, momentum = momentum, weight_decay = weightDecay)   #type: ignore\n",
    "\n",
    "    criterionOption = nn.BCEWithLogitsLoss(pos_weight = weightTensor)\n",
    "    \n",
    "    if useScheduler:\n",
    "        scheduler = optim.lr_scheduler.ReduceLROnPlateau(optimizer, mode = \"min\", factor = 0.5, patience = 1)\n",
    "\n",
    "\n",
    "    bestValLoss = float(\"inf\")\n",
    "    counterVar = 0\n",
    "    bestState = None\n",
    "\n",
    "    for epoch in range(1, epochs + 1):\n",
    "        trainLoss = epochTrain(model, trainLoader, optimizer, criterionOption, userDevice)\n",
    "        valLoss = evaluateModel(model, valLoader, criterionOption, userDevice)\n",
    "\n",
    "        if useScheduler:\n",
    "            scheduler.step(valLoss)  # type: ignore\n",
    "\n",
    "        trial.report(valLoss, epoch)\n",
    "        if trial.should_prune():\n",
    "            raise optuna.exceptions.TrialPruned()\n",
    "\n",
    "        if valLoss < bestValLoss: #type: ignore\n",
    "            bestValLoss = valLoss\n",
    "            counterVar  = 0\n",
    "            bestState   = {k: v.cpu() for k, v in model.state_dict().items()}\n",
    "        else:\n",
    "            counterVar += 1\n",
    "            if counterVar >= 2:\n",
    "                break\n",
    "\n",
    "    model.load_state_dict(bestState)  # type: ignore\n",
    "    return bestValLoss"
   ]
  },
  {
   "cell_type": "code",
   "execution_count": null,
   "id": "428f0918",
   "metadata": {},
   "outputs": [],
   "source": [
    "def _objectiveGRU(trial):\n",
    "    return objectiveGRU(trial)"
   ]
  },
  {
   "cell_type": "code",
   "execution_count": null,
   "id": "22ec05e4",
   "metadata": {},
   "outputs": [],
   "source": [
    "studyGRU = optuna.create_study(direction = \"minimize\", sampler = optuna.samplers.TPESampler(seed = 42))"
   ]
  },
  {
   "cell_type": "code",
   "execution_count": null,
   "id": "ce3b5f10",
   "metadata": {},
   "outputs": [],
   "source": [
    "studyGRU.optimize(_objectiveGRU, n_trials = 500)"
   ]
  },
  {
   "cell_type": "code",
   "execution_count": null,
   "id": "b122a329",
   "metadata": {},
   "outputs": [],
   "source": [
    "print(\"\\nOptuna Best Trial:\")\n",
    "best = studyGRU.best_trial\n",
    "print(f\"Validation Loss: {best.value:.4f}\")\n",
    "for key, val in best.params.items():\n",
    "    print(f\"  {key}: {val}\")\n",
    "print(\"\\n\")\n",
    "\n",
    "best_embeddingDim = best.params[\"gru_embeddingDim\"]\n",
    "best_hiddenDim = best.params[\"gru_hiddenDim\"]\n",
    "best_rnnLayers = best.params[\"gru_rnnLayers\"]\n",
    "best_bidirectional = best.params[\"gru_bidirectional\"]\n",
    "best_dropoutRate = best.params[\"gru_dropoutRate\"]\n",
    "best_denseUnits = best.params[\"gru_denseUnits\"]\n",
    "best_learnRate = best.params[\"gru_learnRate\"]\n",
    "best_weightDecay = best.params[\"gru_weightDecay\"]\n",
    "best_batchSize = best.params[\"gru_batchSize\"]\n",
    "best_epochs = best.params[\"gru_epochs\"]\n",
    "best_optName = best.params[\"gru_optimizer\"]\n",
    "best_use_scheduler = best.params[\"gru_useScheduler\"]\n",
    "best_useAttention = best.params[\"gru_attn\"]\n",
    "if best_optName == \"SGD\":\n",
    "    best_momentum = best.params[\"momentum\"]"
   ]
  },
  {
   "cell_type": "code",
   "execution_count": null,
   "id": "a7f379ab",
   "metadata": {},
   "outputs": [],
   "source": [
    "finalTrainDataset = TextDataset(trainEncode, yTrain)\n",
    "finalValDataset = TextDataset(valEncode, yVal)\n",
    "\n",
    "finalTrainLoader = DataLoader(finalTrainDataset, batch_size = best_batchSize, shuffle = True)\n",
    "finalValLoader = DataLoader(finalValDataset, batch_size = best_batchSize, shuffle = False)"
   ]
  },
  {
   "cell_type": "code",
   "execution_count": null,
   "id": "7ed4e575",
   "metadata": {},
   "outputs": [],
   "source": [
    "finalModelGRU = GRUClassifier(vocabSize,\n",
    "        best_embeddingDim,\n",
    "        best_hiddenDim,\n",
    "        best_rnnLayers,\n",
    "        best_bidirectional,\n",
    "        best_dropoutRate,\n",
    "        best_denseUnits,\n",
    "        numLabels,\n",
    "        padIndex,\n",
    "        best_useAttention\n",
    "    ).to(userDevice)\n",
    "\n",
    "if best_optName == \"AdamW\":\n",
    "    optimizer = optim.AdamW(finalModelGRU.parameters(), lr = best_learnRate, weight_decay = best_weightDecay)\n",
    "elif best_optName == \"Adam\":\n",
    "    optimizer = optim.Adam(finalModelGRU.parameters(),lr = best_learnRate, weight_decay = best_weightDecay)\n",
    "elif best_optName == \"RMSprop\":\n",
    "    optimizer = optim.RMSprop(finalModelGRU.parameters(), lr = best_learnRate, weight_decay = best_weightDecay)\n",
    "else:\n",
    "    optimizer = optim.SGD(finalModelGRU.parameters(),lr = best_learnRate, momentum = best_momentum, weight_decay = best_weightDecay)   #type: ignore\n",
    "\n",
    "finalCriterion = nn.BCEWithLogitsLoss(pos_weight = weightTensor)\n",
    "\n",
    "if best_use_scheduler:\n",
    "    finalScheduler = optim.lr_scheduler.ReduceLROnPlateau(finalOptimizer, mode = \"min\", factor = 0.5, patience = 1)"
   ]
  },
  {
   "cell_type": "code",
   "execution_count": null,
   "id": "6124ceec",
   "metadata": {},
   "outputs": [],
   "source": [
    "bestValLossFinal = float(\"inf\")\n",
    "patienceCtr = 0\n",
    "bestStateFinal = None"
   ]
  },
  {
   "cell_type": "code",
   "execution_count": null,
   "id": "746c0da9",
   "metadata": {},
   "outputs": [],
   "source": [
    "for epoch in range(1, best_epochs + 1):\n",
    "    trainLoss = epochTrain(finalModelGRU, finalTrainLoader, finalOptimizer, finalCriterion, userDevice)\n",
    "    valLoss = evaluateModel(finalModelGRU, finalValLoader,   finalCriterion, userDevice)\n",
    "    print(f\"Final Epoch {epoch:02d} | Train Loss: {trainLoss:.4f} | Val Loss: {valLoss:.4f}\")\n",
    "\n",
    "    if best_use_scheduler:\n",
    "        finalScheduler.step(valLoss)\n",
    "\n",
    "    if valLoss < bestValLossFinal:\n",
    "        bestValLossFinal = valLoss\n",
    "        patienceCtr = 0\n",
    "        bestStateFinal = {k: v.cpu() for k, v in finalModelGRU.state_dict().items()}\n",
    "    else:\n",
    "        patienceCtr += 1\n",
    "        if patienceCtr >= 3:\n",
    "            print(f\"Early stopping at epoch {epoch}\")\n",
    "            break"
   ]
  },
  {
   "cell_type": "code",
   "execution_count": null,
   "id": "5aa4cdbe",
   "metadata": {},
   "outputs": [],
   "source": [
    "finalModelGRU.load_state_dict(bestStateFinal)"
   ]
  },
  {
   "cell_type": "code",
   "execution_count": null,
   "id": "ffb142be",
   "metadata": {},
   "outputs": [],
   "source": [
    "finalModelGRU.eval()\n",
    "runningLoss = 0.0\n",
    "correct = 0\n",
    "total = 0\n",
    "with torch.no_grad():\n",
    "    for batchInputs, batchLabels in finalValLoader:\n",
    "        batchInputs = batchInputs.to(userDevice)\n",
    "        batchLabels = batchLabels.to(userDevice)\n",
    "\n",
    "        logits = finalModelGRU(batchInputs)\n",
    "        loss = finalCriterion(logits, batchLabels)\n",
    "        runningLoss += loss.item() * batchInputs.size(0)\n",
    "\n",
    "        preds = (torch.sigmoid(logits) >= 0.5).float()\n",
    "        correct += (preds == batchLabels).sum().item()\n",
    "        total += batchLabels.numel()\n",
    "\n",
    "finalValLoss = runningLoss / len(finalValDataset)\n",
    "finalValAcc  = correct / total\n",
    "print(f\"\\nFinal Model -> Val Loss: {finalValLoss:.4f}, Val Accuracy: {finalValAcc:.4f}\")"
   ]
  },
  {
   "cell_type": "code",
   "execution_count": null,
   "id": "cd4e3193",
   "metadata": {},
   "outputs": [],
   "source": [
    "os.makedirs(\"savedModel\", exist_ok = True)\n",
    "torch.save({\n",
    "    \"model_state_dict\": finalModelGRU.state_dict(),\n",
    "    \"wordtoindex\": wordtoindex,\n",
    "    \"indextoword\": indextoword,\n",
    "    \"padIndex\": padIndex,\n",
    "    \"max_sequence_length\": MAX_SEQUENCE_LENGTH\n",
    "}, \"savedModel/rnnGRU_emotion_classifier_optuna.pth\")\n",
    "print(\"Saved final model + vocab to savedModel/rnnGRU_emotion_classifier_optuna.pth\")"
   ]
  }
 ],
 "metadata": {
  "kernelspec": {
   "display_name": ".venv",
   "language": "python",
   "name": "python3"
  },
  "language_info": {
   "codemirror_mode": {
    "name": "ipython",
    "version": 3
   },
   "file_extension": ".py",
   "mimetype": "text/x-python",
   "name": "python",
   "nbconvert_exporter": "python",
   "pygments_lexer": "ipython3",
   "version": "3.10.11"
  }
 },
 "nbformat": 4,
 "nbformat_minor": 5
}
