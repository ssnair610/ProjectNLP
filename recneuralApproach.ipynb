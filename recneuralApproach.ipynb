{
 "cells": [
  {
   "cell_type": "code",
   "execution_count": null,
   "id": "9a3c0664",
   "metadata": {},
   "outputs": [],
   "source": [
    "import os\n",
    "import re\n",
    "import time\n",
    "import pandas as pd\n",
    "import numpy as np\n",
    "from collections import Counter\n",
    "\n",
    "import spacy\n",
    "from sklearn.model_selection import train_test_split\n",
    "\n",
    "import torch\n",
    "import torch.nn as nn\n",
    "import torch.optim as optim\n",
    "from torch.utils.data import Dataset, DataLoader\n",
    "\n",
    "import optuna"
   ]
  },
  {
   "cell_type": "code",
   "execution_count": null,
   "id": "87c74e1f",
   "metadata": {},
   "outputs": [],
   "source": [
    "dataPath = \"Data\\\\track-a.csv\""
   ]
  },
  {
   "cell_type": "code",
   "execution_count": null,
   "id": "b6a55cb5",
   "metadata": {},
   "outputs": [],
   "source": [
    "dataFrame = pd.read_csv(dataPath)"
   ]
  },
  {
   "cell_type": "code",
   "execution_count": null,
   "id": "95a615c6",
   "metadata": {},
   "outputs": [],
   "source": [
    "nlpModel = spacy.load(\"en_core_web_sm\", disable=[\"parser\", \"ner\"])"
   ]
  },
  {
   "cell_type": "code",
   "execution_count": null,
   "id": "ebc80a73",
   "metadata": {},
   "outputs": [],
   "source": [
    "textColumn = \"text\"\n",
    "labelColumns = [\"anger\", \"fear\", \"joy\", \"sadness\", \"surprise\"]"
   ]
  },
  {
   "cell_type": "code",
   "execution_count": null,
   "id": "4aafa237",
   "metadata": {},
   "outputs": [],
   "source": [
    "def cleanerFunction(text: str) -> str:\n",
    "    tempDoc = nlpModel(text)\n",
    "    tokens = [\n",
    "        tok.lemma_.lower()\n",
    "        for tok in tempDoc\n",
    "        if not tok.is_stop and not tok.is_punct and tok.lemma_ != \"-PRON-\"\n",
    "    ]\n",
    "    return \" \".join(tokens)"
   ]
  },
  {
   "cell_type": "code",
   "execution_count": null,
   "id": "142be880",
   "metadata": {},
   "outputs": [],
   "source": [
    "dataFrame[\"Spacy_text\"] = dataFrame[\"text\"].astype(str).apply(cleanerFunction)"
   ]
  },
  {
   "cell_type": "code",
   "execution_count": null,
   "id": "912e6a6c",
   "metadata": {},
   "outputs": [],
   "source": [
    "userDevice = torch.device(\"cuda\" if torch.cuda.is_available() else \"cpu\")"
   ]
  },
  {
   "cell_type": "code",
   "execution_count": null,
   "id": "599ae6e5",
   "metadata": {},
   "outputs": [],
   "source": [
    "labelColumns = [col for col in [\"anger\", \"fear\", \"joy\", \"sadness\", \"surprise\"] if col in dataFrame]\n",
    "yData = dataFrame[labelColumns].values.astype(np.float32)"
   ]
  },
  {
   "cell_type": "code",
   "execution_count": null,
   "id": "d1b5b430",
   "metadata": {},
   "outputs": [],
   "source": [
    "xAll = dataFrame[\"Spacy_text\"].tolist()\n",
    "xTrain, xVal, yTrain, yVal = train_test_split(xAll, yData, test_size = 0.1, random_state = 69)"
   ]
  },
  {
   "cell_type": "code",
   "execution_count": null,
   "id": "526aae69",
   "metadata": {},
   "outputs": [],
   "source": [
    "xTrain = xTrain.copy()\n",
    "xVal = xVal.copy()"
   ]
  },
  {
   "cell_type": "code",
   "execution_count": null,
   "id": "3de8cb5d",
   "metadata": {},
   "outputs": [],
   "source": [
    "numLabels = yTrain.shape[1]"
   ]
  },
  {
   "cell_type": "code",
   "execution_count": null,
   "id": "4c0c9230",
   "metadata": {},
   "outputs": [],
   "source": [
    "TOKEN_PATTERN = re.compile(r\"\\b\\w+\\b\")"
   ]
  },
  {
   "cell_type": "code",
   "execution_count": null,
   "id": "6bc526de",
   "metadata": {},
   "outputs": [],
   "source": [
    "def simpleTokenize(text: str) -> list:\n",
    "    return TOKEN_PATTERN.findall(text.lower())"
   ]
  },
  {
   "cell_type": "code",
   "execution_count": null,
   "id": "6dab582c",
   "metadata": {},
   "outputs": [],
   "source": [
    "def vocabularyBuilder(texts: list, vocabsize: int = 20000):\n",
    "    counter = Counter()\n",
    "    for t in texts:\n",
    "        tokens = simpleTokenize(t)\n",
    "        counter.update(tokens)\n",
    "    \n",
    "    mostCommon = counter.most_common(vocabsize - 2)\n",
    "    indextoword = [\"<pad>\", \"<unk>\"] + [token for token, _ in mostCommon]\n",
    "    wordtoindex = {w: i for i, w in enumerate(indextoword)}\n",
    "\n",
    "    return wordtoindex, indextoword"
   ]
  },
  {
   "cell_type": "code",
   "execution_count": null,
   "id": "c34acf54",
   "metadata": {},
   "outputs": [],
   "source": [
    "MAX_VOCAB_SIZE = 20000\n",
    "MAX_SEQUENCE_LENGTH = 100\n",
    "\n",
    "wordtoindex, indextoword = vocabularyBuilder(xTrain, vocabsize = MAX_VOCAB_SIZE)\n",
    "vocabSize = len(indextoword)\n",
    "\n",
    "padIndex = wordtoindex[\"<pad>\"]\n",
    "unkIndex = wordtoindex[\"<unk>\"]"
   ]
  },
  {
   "cell_type": "code",
   "execution_count": null,
   "id": "5359bbb3",
   "metadata": {},
   "outputs": [],
   "source": [
    "def encodePadFunction(texts: list, wordtoindex: dict, sequenceLength: int = 100) -> np.ndarray:\n",
    "    encodings = []\n",
    "\n",
    "    for t in texts:\n",
    "        tokens = simpleTokenize(t)\n",
    "        tokenIDs = [wordtoindex.get(tok, unkIndex) for tok in tokens]\n",
    "        if len(tokenIDs) > sequenceLength:\n",
    "            tokenIDs = tokenIDs[:sequenceLength]\n",
    "        else:\n",
    "            tokenIDs = tokenIDs + [padIndex] * (sequenceLength - len(tokenIDs))\n",
    "        encodings.append(tokenIDs)\n",
    "\n",
    "    return np.array(encodings, dtype = np.int64)"
   ]
  },
  {
   "cell_type": "code",
   "execution_count": null,
   "id": "d23f9099",
   "metadata": {},
   "outputs": [],
   "source": [
    "trainEncode = encodePadFunction(xTrain, wordtoindex, sequenceLength = 100)\n",
    "valEncode = encodePadFunction(xVal, wordtoindex, sequenceLength = 100)"
   ]
  },
  {
   "cell_type": "code",
   "execution_count": null,
   "id": "9fce8796",
   "metadata": {},
   "outputs": [],
   "source": [
    "class TextDataset(Dataset):\n",
    "    def __init__(self, encodings: np.ndarray, labels: np.ndarray) -> None:\n",
    "        self.encodings = torch.from_numpy(encodings)\n",
    "        self.labels = torch.from_numpy(labels)\n",
    "\n",
    "    def __len__(self):\n",
    "        return self.encodings.size(0)\n",
    "    \n",
    "    def __getitem__(self, index):\n",
    "        return self.encodings[index], self.labels[index]"
   ]
  },
  {
   "cell_type": "markdown",
   "id": "b2a52a06",
   "metadata": {},
   "source": [
    "## Recurrent Neural Network"
   ]
  },
  {
   "cell_type": "code",
   "execution_count": null,
   "id": "2b4b8c3d",
   "metadata": {},
   "outputs": [],
   "source": [
    "class RNNClassifier(nn.Module):\n",
    "    def __init__(\n",
    "        self,\n",
    "        vocabSize: int,\n",
    "        embeddingDim: int,\n",
    "        hiddenDim: int,\n",
    "        rnnLayers: int,\n",
    "        bidirectional: bool,\n",
    "        dropoutRate: float,\n",
    "        denseUnits: int,\n",
    "        numLabels: int,\n",
    "        padIndex: int\n",
    "    ) -> None:\n",
    "        super().__init__()\n",
    "        self.embedding = nn.Embedding(vocabSize, embeddingDim, padding_idx = padIndex)\n",
    "        self.dropoutEmb = nn.Dropout(dropoutRate)\n",
    "        self.rnn = nn.LSTM(\n",
    "            input_size = embeddingDim,\n",
    "            hidden_size = hiddenDim,\n",
    "            num_layers = rnnLayers,\n",
    "            bidirectional = bidirectional,\n",
    "            batch_first = True,\n",
    "            dropout = dropoutRate if rnnLayers > 1 else 0.0\n",
    "        )\n",
    "        directionFactor = 2 if bidirectional else 1\n",
    "        self.fc1 = nn.Linear(hiddenDim * directionFactor, denseUnits)\n",
    "        self.bn1 = nn.BatchNorm1d(denseUnits)\n",
    "        self.relu = nn.ReLU()\n",
    "        self.dropoutFc = nn.Dropout(dropoutRate)\n",
    "        self.fc_out = nn.Linear(denseUnits, numLabels)\n",
    "\n",
    "    def forward(self, x):\n",
    "        emb = self.embedding(x)\n",
    "        emb = self.dropoutEmb(emb)\n",
    "        rnn_out, _ = self.rnn(emb)\n",
    "        final_feat = rnn_out[:, -1, :]\n",
    "        h = self.fc1(final_feat)\n",
    "        h = self.bn1(h)\n",
    "        h = self.relu(h)\n",
    "        h = self.dropoutFc(h)\n",
    "        logits = self.fc_out(h)\n",
    "        return logits"
   ]
  },
  {
   "cell_type": "code",
   "execution_count": null,
   "id": "1127454d",
   "metadata": {},
   "outputs": [],
   "source": [
    "def epochTrain(model, dataloader, optimizer, criterion, device):\n",
    "    model.train()\n",
    "    totalLoss = 0.0\n",
    "    for batchInputs, batchLabels in dataloader:\n",
    "        batchInputs = batchInputs.to(device)\n",
    "        batchLabels = batchLabels.to(device)\n",
    "\n",
    "        optimizer.zero_grad()\n",
    "        logits = model(batchInputs)\n",
    "        loss = criterion(logits, batchLabels)\n",
    "        loss.backward()\n",
    "\n",
    "        nn.utils.clip_grad_norm_(model.parameters(), max_norm=1.0)\n",
    "        optimizer.step()\n",
    "\n",
    "        totalLoss += loss.item() * batchInputs.size(0)\n",
    "    \n",
    "    return totalLoss / len(dataloader.dataset)"
   ]
  },
  {
   "cell_type": "code",
   "execution_count": null,
   "id": "5df36a71",
   "metadata": {},
   "outputs": [],
   "source": [
    "def evaluateModel(model, dataloader, criterion, device):\n",
    "    model.eval()\n",
    "    totalLoss = 0.0\n",
    "    with torch.no_grad():\n",
    "        for batchInputs, batchLabels in dataloader:\n",
    "            batchInputs = batchInputs.to(device)\n",
    "            batchLabels = batchLabels.to(device)\n",
    "\n",
    "            logits = model(batchInputs)\n",
    "            loss = criterion(logits, batchLabels)\n",
    "            totalLoss += loss.item() * batchInputs.size(0)\n",
    "\n",
    "    return totalLoss / len(dataloader.dataset)"
   ]
  },
  {
   "cell_type": "code",
   "execution_count": null,
   "id": "65fffcea",
   "metadata": {},
   "outputs": [],
   "source": [
    "freq = np.maximum(yTrain.sum(axis = 0) / len(yTrain), 1e-4)\n",
    "class_weights = 1.0 / freq\n",
    "class_weights = class_weights / class_weights.sum()\n",
    "weight_tensor = torch.FloatTensor(class_weights).to(userDevice)"
   ]
  },
  {
   "cell_type": "code",
   "execution_count": null,
   "id": "6b76a75e",
   "metadata": {},
   "outputs": [],
   "source": [
    "def objective(trial):\n",
    "    embeddingDim  = trial.suggest_categorical(\"embeddingDim\", [64, 128, 256])\n",
    "    hiddenDim = trial.suggest_int(\"hiddenDim\", 32, 256, step = 16)\n",
    "    rnnLayers = trial.suggest_int(\"rnnLayers\", 1, 5)\n",
    "    bidirectional = trial.suggest_categorical(\"bidirectional\", [False, True])\n",
    "    dropoutRate = trial.suggest_float(\"dropoutRate\", 0.2, 0.6, step = 0.1)\n",
    "    denseUnits = trial.suggest_int(\"denseUnits\", 32, 256, step = 16)\n",
    "    learnRate = trial.suggest_float(\"learnRate\", 1e-4, 1e-2, log = True)\n",
    "    weightDecay = trial.suggest_float(\"weightDecay\", 1e-6, 1e-2, log = True)\n",
    "    batchSize = trial.suggest_categorical(\"batchSize\", [32, 64, 128, 256])\n",
    "    epochs = trial.suggest_categorical(\"epochs\", [3, 5, 7, 9])\n",
    "    optName = trial.suggest_categorical(\"optimizer\", [\"Adam\", \"RMSprop\", \"SGD\"])\n",
    "    use_scheduler = trial.suggest_categorical(\"use_scheduler\", [False, True])\n",
    "    if optName == \"SGD\":\n",
    "        sgdvar = trial.suggest_float(\"momentum\", 0.1, 0.9)\n",
    "\n",
    "    trainDataset = TextDataset(trainEncode, yTrain)\n",
    "    valDataset = TextDataset(valEncode, yVal)\n",
    "\n",
    "    trainLoader = DataLoader(trainDataset, batch_size = batchSize, shuffle = True)\n",
    "    valLoader = DataLoader(valDataset, batch_size = batchSize, shuffle = True)\n",
    "\n",
    "    model = RNNClassifier(vocabSize, embeddingDim, hiddenDim, rnnLayers, bidirectional, dropoutRate, denseUnits, numLabels, padIndex).to(userDevice)\n",
    "\n",
    "    if optName == \"Adam\":\n",
    "        optimizer = optim.Adam(model.parameters(), lr = learnRate, weight_decay = weightDecay)\n",
    "    elif optName == \"RMSprop\":\n",
    "        optimizer = optim.RMSprop(model.parameters(), lr = learnRate, weight_decay = weightDecay)\n",
    "    else:\n",
    "        optimizer = optim.SGD(model.parameters(), lr = learnRate, momentum = sgdvar) # type: ignore\n",
    "\n",
    "    criterionOption = nn.BCEWithLogitsLoss(pos_weight = weight_tensor)\n",
    "\n",
    "    bestvalLoss = float(\"inf\")\n",
    "    counterVar = 0\n",
    "    bestState = None\n",
    "\n",
    "    if use_scheduler:\n",
    "        scheduler = optim.lr_scheduler.ReduceLROnPlateau(optimizer, mode = \"min\", factor = 0.5, patience = 1)\n",
    "\n",
    "    for epoch in range(1, epochs + 1):\n",
    "        trainLoss = epochTrain(model, trainLoader, optimizer, criterionOption, userDevice)\n",
    "        valLoss = evaluateModel(model, valLoader, criterionOption, userDevice)\n",
    "\n",
    "        if use_scheduler:\n",
    "            scheduler.step(valLoss) # type: ignore\n",
    "\n",
    "        trial.report(valLoss, epoch)\n",
    "\n",
    "        if trial.should_prune():\n",
    "            raise optuna.exceptions.TrialPruned()\n",
    "        \n",
    "        if valLoss < bestvalLoss:\n",
    "            bestvalLoss = valLoss\n",
    "            counterVar = 0\n",
    "            bestState = {k: v.cpu() for k, v in model.state_dict().items()}\n",
    "        else:\n",
    "            counterVar += 1\n",
    "            if counterVar >=2:\n",
    "                break\n",
    "\n",
    "    model.load_state_dict(bestState) # type: ignore\n",
    "    return bestvalLoss"
   ]
  },
  {
   "cell_type": "code",
   "execution_count": null,
   "id": "089355b5",
   "metadata": {},
   "outputs": [],
   "source": [
    "def _objective(trial):\n",
    "    return objective(trial)"
   ]
  },
  {
   "cell_type": "code",
   "execution_count": null,
   "id": "dcf69fe7",
   "metadata": {},
   "outputs": [],
   "source": [
    "studyRNN = optuna.create_study(direction = \"minimize\", sampler = optuna.samplers.TPESampler(seed = 42))\n"
   ]
  },
  {
   "cell_type": "code",
   "execution_count": 27,
   "id": "76ec32aa",
   "metadata": {},
   "outputs": [
    {
     "name": "stderr",
     "output_type": "stream",
     "text": [
      "[W 2025-06-07 17:10:00,782] Trial 1 failed with parameters: {'embeddingDim': 128, 'hiddenDim': 144, 'rnnLayers': 3, 'bidirectional': True, 'dropoutRate': 0.2, 'denseUnits': 32, 'learnRate': 0.007902619549708232, 'weightDecay': 0.007286653737491046, 'batchSize': 32, 'epochs': 7, 'optimizer': 'Adam', 'use_scheduler': True} because of the following error: KeyboardInterrupt().\n",
      "Traceback (most recent call last):\n",
      "  File \"d:\\Coding\\Uni Marburg\\ProjectNLP\\.venv\\Lib\\site-packages\\optuna\\study\\_optimize.py\", line 197, in _run_trial\n",
      "    value_or_values = func(trial)\n",
      "                      ^^^^^^^^^^^\n",
      "  File \"C:\\Users\\sshre\\AppData\\Local\\Temp\\ipykernel_17468\\1759998075.py\", line 2, in _objective\n",
      "    return objective(trial)\n",
      "           ^^^^^^^^^^^^^^^^\n",
      "  File \"C:\\Users\\sshre\\AppData\\Local\\Temp\\ipykernel_17468\\3726456976.py\", line 42, in objective\n",
      "    trainLoss = epochTrain(model, trainLoader, optimizer, criterionOption, userDevice)\n",
      "                ^^^^^^^^^^^^^^^^^^^^^^^^^^^^^^^^^^^^^^^^^^^^^^^^^^^^^^^^^^^^^^^^^^^^^^\n",
      "  File \"C:\\Users\\sshre\\AppData\\Local\\Temp\\ipykernel_17468\\2913959787.py\", line 11, in epochTrain\n",
      "    loss.backward()\n",
      "  File \"d:\\Coding\\Uni Marburg\\ProjectNLP\\.venv\\Lib\\site-packages\\torch\\_tensor.py\", line 648, in backward\n",
      "    torch.autograd.backward(\n",
      "  File \"d:\\Coding\\Uni Marburg\\ProjectNLP\\.venv\\Lib\\site-packages\\torch\\autograd\\__init__.py\", line 353, in backward\n",
      "    _engine_run_backward(\n",
      "  File \"d:\\Coding\\Uni Marburg\\ProjectNLP\\.venv\\Lib\\site-packages\\torch\\autograd\\graph.py\", line 824, in _engine_run_backward\n",
      "    return Variable._execution_engine.run_backward(  # Calls into the C++ engine to run the backward pass\n",
      "           ^^^^^^^^^^^^^^^^^^^^^^^^^^^^^^^^^^^^^^^^^^^^^^^^^^^^^^^^^^^^^^^^^^^^^^^^^^^^^^^^^^^^^^^^^^^^^^\n",
      "KeyboardInterrupt\n",
      "[W 2025-06-07 17:10:00,839] Trial 1 failed with value None.\n"
     ]
    },
    {
     "ename": "KeyboardInterrupt",
     "evalue": "",
     "output_type": "error",
     "traceback": [
      "\u001b[31m---------------------------------------------------------------------------\u001b[39m",
      "\u001b[31mKeyboardInterrupt\u001b[39m                         Traceback (most recent call last)",
      "\u001b[36mCell\u001b[39m\u001b[36m \u001b[39m\u001b[32mIn[27]\u001b[39m\u001b[32m, line 1\u001b[39m\n\u001b[32m----> \u001b[39m\u001b[32m1\u001b[39m \u001b[43mstudyRNN\u001b[49m\u001b[43m.\u001b[49m\u001b[43moptimize\u001b[49m\u001b[43m(\u001b[49m\u001b[43m_objective\u001b[49m\u001b[43m,\u001b[49m\u001b[43m \u001b[49m\u001b[43mn_trials\u001b[49m\u001b[43m \u001b[49m\u001b[43m=\u001b[49m\u001b[43m \u001b[49m\u001b[32;43m500\u001b[39;49m\u001b[43m)\u001b[49m\n",
      "\u001b[36mFile \u001b[39m\u001b[32md:\\Coding\\Uni Marburg\\ProjectNLP\\.venv\\Lib\\site-packages\\optuna\\study\\study.py:475\u001b[39m, in \u001b[36mStudy.optimize\u001b[39m\u001b[34m(self, func, n_trials, timeout, n_jobs, catch, callbacks, gc_after_trial, show_progress_bar)\u001b[39m\n\u001b[32m    373\u001b[39m \u001b[38;5;28;01mdef\u001b[39;00m\u001b[38;5;250m \u001b[39m\u001b[34moptimize\u001b[39m(\n\u001b[32m    374\u001b[39m     \u001b[38;5;28mself\u001b[39m,\n\u001b[32m    375\u001b[39m     func: ObjectiveFuncType,\n\u001b[32m   (...)\u001b[39m\u001b[32m    382\u001b[39m     show_progress_bar: \u001b[38;5;28mbool\u001b[39m = \u001b[38;5;28;01mFalse\u001b[39;00m,\n\u001b[32m    383\u001b[39m ) -> \u001b[38;5;28;01mNone\u001b[39;00m:\n\u001b[32m    384\u001b[39m \u001b[38;5;250m    \u001b[39m\u001b[33;03m\"\"\"Optimize an objective function.\u001b[39;00m\n\u001b[32m    385\u001b[39m \n\u001b[32m    386\u001b[39m \u001b[33;03m    Optimization is done by choosing a suitable set of hyperparameter values from a given\u001b[39;00m\n\u001b[32m   (...)\u001b[39m\u001b[32m    473\u001b[39m \u001b[33;03m            If nested invocation of this method occurs.\u001b[39;00m\n\u001b[32m    474\u001b[39m \u001b[33;03m    \"\"\"\u001b[39;00m\n\u001b[32m--> \u001b[39m\u001b[32m475\u001b[39m     \u001b[43m_optimize\u001b[49m\u001b[43m(\u001b[49m\n\u001b[32m    476\u001b[39m \u001b[43m        \u001b[49m\u001b[43mstudy\u001b[49m\u001b[43m=\u001b[49m\u001b[38;5;28;43mself\u001b[39;49m\u001b[43m,\u001b[49m\n\u001b[32m    477\u001b[39m \u001b[43m        \u001b[49m\u001b[43mfunc\u001b[49m\u001b[43m=\u001b[49m\u001b[43mfunc\u001b[49m\u001b[43m,\u001b[49m\n\u001b[32m    478\u001b[39m \u001b[43m        \u001b[49m\u001b[43mn_trials\u001b[49m\u001b[43m=\u001b[49m\u001b[43mn_trials\u001b[49m\u001b[43m,\u001b[49m\n\u001b[32m    479\u001b[39m \u001b[43m        \u001b[49m\u001b[43mtimeout\u001b[49m\u001b[43m=\u001b[49m\u001b[43mtimeout\u001b[49m\u001b[43m,\u001b[49m\n\u001b[32m    480\u001b[39m \u001b[43m        \u001b[49m\u001b[43mn_jobs\u001b[49m\u001b[43m=\u001b[49m\u001b[43mn_jobs\u001b[49m\u001b[43m,\u001b[49m\n\u001b[32m    481\u001b[39m \u001b[43m        \u001b[49m\u001b[43mcatch\u001b[49m\u001b[43m=\u001b[49m\u001b[38;5;28;43mtuple\u001b[39;49m\u001b[43m(\u001b[49m\u001b[43mcatch\u001b[49m\u001b[43m)\u001b[49m\u001b[43m \u001b[49m\u001b[38;5;28;43;01mif\u001b[39;49;00m\u001b[43m \u001b[49m\u001b[38;5;28;43misinstance\u001b[39;49m\u001b[43m(\u001b[49m\u001b[43mcatch\u001b[49m\u001b[43m,\u001b[49m\u001b[43m \u001b[49m\u001b[43mIterable\u001b[49m\u001b[43m)\u001b[49m\u001b[43m \u001b[49m\u001b[38;5;28;43;01melse\u001b[39;49;00m\u001b[43m \u001b[49m\u001b[43m(\u001b[49m\u001b[43mcatch\u001b[49m\u001b[43m,\u001b[49m\u001b[43m)\u001b[49m\u001b[43m,\u001b[49m\n\u001b[32m    482\u001b[39m \u001b[43m        \u001b[49m\u001b[43mcallbacks\u001b[49m\u001b[43m=\u001b[49m\u001b[43mcallbacks\u001b[49m\u001b[43m,\u001b[49m\n\u001b[32m    483\u001b[39m \u001b[43m        \u001b[49m\u001b[43mgc_after_trial\u001b[49m\u001b[43m=\u001b[49m\u001b[43mgc_after_trial\u001b[49m\u001b[43m,\u001b[49m\n\u001b[32m    484\u001b[39m \u001b[43m        \u001b[49m\u001b[43mshow_progress_bar\u001b[49m\u001b[43m=\u001b[49m\u001b[43mshow_progress_bar\u001b[49m\u001b[43m,\u001b[49m\n\u001b[32m    485\u001b[39m \u001b[43m    \u001b[49m\u001b[43m)\u001b[49m\n",
      "\u001b[36mFile \u001b[39m\u001b[32md:\\Coding\\Uni Marburg\\ProjectNLP\\.venv\\Lib\\site-packages\\optuna\\study\\_optimize.py:63\u001b[39m, in \u001b[36m_optimize\u001b[39m\u001b[34m(study, func, n_trials, timeout, n_jobs, catch, callbacks, gc_after_trial, show_progress_bar)\u001b[39m\n\u001b[32m     61\u001b[39m \u001b[38;5;28;01mtry\u001b[39;00m:\n\u001b[32m     62\u001b[39m     \u001b[38;5;28;01mif\u001b[39;00m n_jobs == \u001b[32m1\u001b[39m:\n\u001b[32m---> \u001b[39m\u001b[32m63\u001b[39m         \u001b[43m_optimize_sequential\u001b[49m\u001b[43m(\u001b[49m\n\u001b[32m     64\u001b[39m \u001b[43m            \u001b[49m\u001b[43mstudy\u001b[49m\u001b[43m,\u001b[49m\n\u001b[32m     65\u001b[39m \u001b[43m            \u001b[49m\u001b[43mfunc\u001b[49m\u001b[43m,\u001b[49m\n\u001b[32m     66\u001b[39m \u001b[43m            \u001b[49m\u001b[43mn_trials\u001b[49m\u001b[43m,\u001b[49m\n\u001b[32m     67\u001b[39m \u001b[43m            \u001b[49m\u001b[43mtimeout\u001b[49m\u001b[43m,\u001b[49m\n\u001b[32m     68\u001b[39m \u001b[43m            \u001b[49m\u001b[43mcatch\u001b[49m\u001b[43m,\u001b[49m\n\u001b[32m     69\u001b[39m \u001b[43m            \u001b[49m\u001b[43mcallbacks\u001b[49m\u001b[43m,\u001b[49m\n\u001b[32m     70\u001b[39m \u001b[43m            \u001b[49m\u001b[43mgc_after_trial\u001b[49m\u001b[43m,\u001b[49m\n\u001b[32m     71\u001b[39m \u001b[43m            \u001b[49m\u001b[43mreseed_sampler_rng\u001b[49m\u001b[43m=\u001b[49m\u001b[38;5;28;43;01mFalse\u001b[39;49;00m\u001b[43m,\u001b[49m\n\u001b[32m     72\u001b[39m \u001b[43m            \u001b[49m\u001b[43mtime_start\u001b[49m\u001b[43m=\u001b[49m\u001b[38;5;28;43;01mNone\u001b[39;49;00m\u001b[43m,\u001b[49m\n\u001b[32m     73\u001b[39m \u001b[43m            \u001b[49m\u001b[43mprogress_bar\u001b[49m\u001b[43m=\u001b[49m\u001b[43mprogress_bar\u001b[49m\u001b[43m,\u001b[49m\n\u001b[32m     74\u001b[39m \u001b[43m        \u001b[49m\u001b[43m)\u001b[49m\n\u001b[32m     75\u001b[39m     \u001b[38;5;28;01melse\u001b[39;00m:\n\u001b[32m     76\u001b[39m         \u001b[38;5;28;01mif\u001b[39;00m n_jobs == -\u001b[32m1\u001b[39m:\n",
      "\u001b[36mFile \u001b[39m\u001b[32md:\\Coding\\Uni Marburg\\ProjectNLP\\.venv\\Lib\\site-packages\\optuna\\study\\_optimize.py:160\u001b[39m, in \u001b[36m_optimize_sequential\u001b[39m\u001b[34m(study, func, n_trials, timeout, catch, callbacks, gc_after_trial, reseed_sampler_rng, time_start, progress_bar)\u001b[39m\n\u001b[32m    157\u001b[39m         \u001b[38;5;28;01mbreak\u001b[39;00m\n\u001b[32m    159\u001b[39m \u001b[38;5;28;01mtry\u001b[39;00m:\n\u001b[32m--> \u001b[39m\u001b[32m160\u001b[39m     frozen_trial = \u001b[43m_run_trial\u001b[49m\u001b[43m(\u001b[49m\u001b[43mstudy\u001b[49m\u001b[43m,\u001b[49m\u001b[43m \u001b[49m\u001b[43mfunc\u001b[49m\u001b[43m,\u001b[49m\u001b[43m \u001b[49m\u001b[43mcatch\u001b[49m\u001b[43m)\u001b[49m\n\u001b[32m    161\u001b[39m \u001b[38;5;28;01mfinally\u001b[39;00m:\n\u001b[32m    162\u001b[39m     \u001b[38;5;66;03m# The following line mitigates memory problems that can be occurred in some\u001b[39;00m\n\u001b[32m    163\u001b[39m     \u001b[38;5;66;03m# environments (e.g., services that use computing containers such as GitHub Actions).\u001b[39;00m\n\u001b[32m    164\u001b[39m     \u001b[38;5;66;03m# Please refer to the following PR for further details:\u001b[39;00m\n\u001b[32m    165\u001b[39m     \u001b[38;5;66;03m# https://github.com/optuna/optuna/pull/325.\u001b[39;00m\n\u001b[32m    166\u001b[39m     \u001b[38;5;28;01mif\u001b[39;00m gc_after_trial:\n",
      "\u001b[36mFile \u001b[39m\u001b[32md:\\Coding\\Uni Marburg\\ProjectNLP\\.venv\\Lib\\site-packages\\optuna\\study\\_optimize.py:248\u001b[39m, in \u001b[36m_run_trial\u001b[39m\u001b[34m(study, func, catch)\u001b[39m\n\u001b[32m    241\u001b[39m         \u001b[38;5;28;01massert\u001b[39;00m \u001b[38;5;28;01mFalse\u001b[39;00m, \u001b[33m\"\u001b[39m\u001b[33mShould not reach.\u001b[39m\u001b[33m\"\u001b[39m\n\u001b[32m    243\u001b[39m \u001b[38;5;28;01mif\u001b[39;00m (\n\u001b[32m    244\u001b[39m     frozen_trial.state == TrialState.FAIL\n\u001b[32m    245\u001b[39m     \u001b[38;5;129;01mand\u001b[39;00m func_err \u001b[38;5;129;01mis\u001b[39;00m \u001b[38;5;129;01mnot\u001b[39;00m \u001b[38;5;28;01mNone\u001b[39;00m\n\u001b[32m    246\u001b[39m     \u001b[38;5;129;01mand\u001b[39;00m \u001b[38;5;129;01mnot\u001b[39;00m \u001b[38;5;28misinstance\u001b[39m(func_err, catch)\n\u001b[32m    247\u001b[39m ):\n\u001b[32m--> \u001b[39m\u001b[32m248\u001b[39m     \u001b[38;5;28;01mraise\u001b[39;00m func_err\n\u001b[32m    249\u001b[39m \u001b[38;5;28;01mreturn\u001b[39;00m frozen_trial\n",
      "\u001b[36mFile \u001b[39m\u001b[32md:\\Coding\\Uni Marburg\\ProjectNLP\\.venv\\Lib\\site-packages\\optuna\\study\\_optimize.py:197\u001b[39m, in \u001b[36m_run_trial\u001b[39m\u001b[34m(study, func, catch)\u001b[39m\n\u001b[32m    195\u001b[39m \u001b[38;5;28;01mwith\u001b[39;00m get_heartbeat_thread(trial._trial_id, study._storage):\n\u001b[32m    196\u001b[39m     \u001b[38;5;28;01mtry\u001b[39;00m:\n\u001b[32m--> \u001b[39m\u001b[32m197\u001b[39m         value_or_values = \u001b[43mfunc\u001b[49m\u001b[43m(\u001b[49m\u001b[43mtrial\u001b[49m\u001b[43m)\u001b[49m\n\u001b[32m    198\u001b[39m     \u001b[38;5;28;01mexcept\u001b[39;00m exceptions.TrialPruned \u001b[38;5;28;01mas\u001b[39;00m e:\n\u001b[32m    199\u001b[39m         \u001b[38;5;66;03m# TODO(mamu): Handle multi-objective cases.\u001b[39;00m\n\u001b[32m    200\u001b[39m         state = TrialState.PRUNED\n",
      "\u001b[36mCell\u001b[39m\u001b[36m \u001b[39m\u001b[32mIn[25]\u001b[39m\u001b[32m, line 2\u001b[39m, in \u001b[36m_objective\u001b[39m\u001b[34m(trial)\u001b[39m\n\u001b[32m      1\u001b[39m \u001b[38;5;28;01mdef\u001b[39;00m\u001b[38;5;250m \u001b[39m\u001b[34m_objective\u001b[39m(trial):\n\u001b[32m----> \u001b[39m\u001b[32m2\u001b[39m     \u001b[38;5;28;01mreturn\u001b[39;00m \u001b[43mobjective\u001b[49m\u001b[43m(\u001b[49m\u001b[43mtrial\u001b[49m\u001b[43m)\u001b[49m\n",
      "\u001b[36mCell\u001b[39m\u001b[36m \u001b[39m\u001b[32mIn[24]\u001b[39m\u001b[32m, line 42\u001b[39m, in \u001b[36mobjective\u001b[39m\u001b[34m(trial)\u001b[39m\n\u001b[32m     39\u001b[39m     scheduler = optim.lr_scheduler.ReduceLROnPlateau(optimizer, mode = \u001b[33m\"\u001b[39m\u001b[33mmin\u001b[39m\u001b[33m\"\u001b[39m, factor = \u001b[32m0.5\u001b[39m, patience = \u001b[32m1\u001b[39m)\n\u001b[32m     41\u001b[39m \u001b[38;5;28;01mfor\u001b[39;00m epoch \u001b[38;5;129;01min\u001b[39;00m \u001b[38;5;28mrange\u001b[39m(\u001b[32m1\u001b[39m, epochs + \u001b[32m1\u001b[39m):\n\u001b[32m---> \u001b[39m\u001b[32m42\u001b[39m     trainLoss = \u001b[43mepochTrain\u001b[49m\u001b[43m(\u001b[49m\u001b[43mmodel\u001b[49m\u001b[43m,\u001b[49m\u001b[43m \u001b[49m\u001b[43mtrainLoader\u001b[49m\u001b[43m,\u001b[49m\u001b[43m \u001b[49m\u001b[43moptimizer\u001b[49m\u001b[43m,\u001b[49m\u001b[43m \u001b[49m\u001b[43mcriterionOption\u001b[49m\u001b[43m,\u001b[49m\u001b[43m \u001b[49m\u001b[43muserDevice\u001b[49m\u001b[43m)\u001b[49m\n\u001b[32m     43\u001b[39m     valLoss = evaluateModel(model, valLoader, criterionOption, userDevice)\n\u001b[32m     45\u001b[39m     \u001b[38;5;28;01mif\u001b[39;00m use_scheduler:\n",
      "\u001b[36mCell\u001b[39m\u001b[36m \u001b[39m\u001b[32mIn[21]\u001b[39m\u001b[32m, line 11\u001b[39m, in \u001b[36mepochTrain\u001b[39m\u001b[34m(model, dataloader, optimizer, criterion, device)\u001b[39m\n\u001b[32m      9\u001b[39m logits = model(batchInputs)\n\u001b[32m     10\u001b[39m loss = criterion(logits, batchLabels)\n\u001b[32m---> \u001b[39m\u001b[32m11\u001b[39m \u001b[43mloss\u001b[49m\u001b[43m.\u001b[49m\u001b[43mbackward\u001b[49m\u001b[43m(\u001b[49m\u001b[43m)\u001b[49m\n\u001b[32m     13\u001b[39m nn.utils.clip_grad_norm_(model.parameters(), max_norm=\u001b[32m1.0\u001b[39m)\n\u001b[32m     14\u001b[39m optimizer.step()\n",
      "\u001b[36mFile \u001b[39m\u001b[32md:\\Coding\\Uni Marburg\\ProjectNLP\\.venv\\Lib\\site-packages\\torch\\_tensor.py:648\u001b[39m, in \u001b[36mTensor.backward\u001b[39m\u001b[34m(self, gradient, retain_graph, create_graph, inputs)\u001b[39m\n\u001b[32m    638\u001b[39m \u001b[38;5;28;01mif\u001b[39;00m has_torch_function_unary(\u001b[38;5;28mself\u001b[39m):\n\u001b[32m    639\u001b[39m     \u001b[38;5;28;01mreturn\u001b[39;00m handle_torch_function(\n\u001b[32m    640\u001b[39m         Tensor.backward,\n\u001b[32m    641\u001b[39m         (\u001b[38;5;28mself\u001b[39m,),\n\u001b[32m   (...)\u001b[39m\u001b[32m    646\u001b[39m         inputs=inputs,\n\u001b[32m    647\u001b[39m     )\n\u001b[32m--> \u001b[39m\u001b[32m648\u001b[39m \u001b[43mtorch\u001b[49m\u001b[43m.\u001b[49m\u001b[43mautograd\u001b[49m\u001b[43m.\u001b[49m\u001b[43mbackward\u001b[49m\u001b[43m(\u001b[49m\n\u001b[32m    649\u001b[39m \u001b[43m    \u001b[49m\u001b[38;5;28;43mself\u001b[39;49m\u001b[43m,\u001b[49m\u001b[43m \u001b[49m\u001b[43mgradient\u001b[49m\u001b[43m,\u001b[49m\u001b[43m \u001b[49m\u001b[43mretain_graph\u001b[49m\u001b[43m,\u001b[49m\u001b[43m \u001b[49m\u001b[43mcreate_graph\u001b[49m\u001b[43m,\u001b[49m\u001b[43m \u001b[49m\u001b[43minputs\u001b[49m\u001b[43m=\u001b[49m\u001b[43minputs\u001b[49m\n\u001b[32m    650\u001b[39m \u001b[43m\u001b[49m\u001b[43m)\u001b[49m\n",
      "\u001b[36mFile \u001b[39m\u001b[32md:\\Coding\\Uni Marburg\\ProjectNLP\\.venv\\Lib\\site-packages\\torch\\autograd\\__init__.py:353\u001b[39m, in \u001b[36mbackward\u001b[39m\u001b[34m(tensors, grad_tensors, retain_graph, create_graph, grad_variables, inputs)\u001b[39m\n\u001b[32m    348\u001b[39m     retain_graph = create_graph\n\u001b[32m    350\u001b[39m \u001b[38;5;66;03m# The reason we repeat the same comment below is that\u001b[39;00m\n\u001b[32m    351\u001b[39m \u001b[38;5;66;03m# some Python versions print out the first line of a multi-line function\u001b[39;00m\n\u001b[32m    352\u001b[39m \u001b[38;5;66;03m# calls in the traceback and some print out the last line\u001b[39;00m\n\u001b[32m--> \u001b[39m\u001b[32m353\u001b[39m \u001b[43m_engine_run_backward\u001b[49m\u001b[43m(\u001b[49m\n\u001b[32m    354\u001b[39m \u001b[43m    \u001b[49m\u001b[43mtensors\u001b[49m\u001b[43m,\u001b[49m\n\u001b[32m    355\u001b[39m \u001b[43m    \u001b[49m\u001b[43mgrad_tensors_\u001b[49m\u001b[43m,\u001b[49m\n\u001b[32m    356\u001b[39m \u001b[43m    \u001b[49m\u001b[43mretain_graph\u001b[49m\u001b[43m,\u001b[49m\n\u001b[32m    357\u001b[39m \u001b[43m    \u001b[49m\u001b[43mcreate_graph\u001b[49m\u001b[43m,\u001b[49m\n\u001b[32m    358\u001b[39m \u001b[43m    \u001b[49m\u001b[43minputs\u001b[49m\u001b[43m,\u001b[49m\n\u001b[32m    359\u001b[39m \u001b[43m    \u001b[49m\u001b[43mallow_unreachable\u001b[49m\u001b[43m=\u001b[49m\u001b[38;5;28;43;01mTrue\u001b[39;49;00m\u001b[43m,\u001b[49m\n\u001b[32m    360\u001b[39m \u001b[43m    \u001b[49m\u001b[43maccumulate_grad\u001b[49m\u001b[43m=\u001b[49m\u001b[38;5;28;43;01mTrue\u001b[39;49;00m\u001b[43m,\u001b[49m\n\u001b[32m    361\u001b[39m \u001b[43m\u001b[49m\u001b[43m)\u001b[49m\n",
      "\u001b[36mFile \u001b[39m\u001b[32md:\\Coding\\Uni Marburg\\ProjectNLP\\.venv\\Lib\\site-packages\\torch\\autograd\\graph.py:824\u001b[39m, in \u001b[36m_engine_run_backward\u001b[39m\u001b[34m(t_outputs, *args, **kwargs)\u001b[39m\n\u001b[32m    822\u001b[39m     unregister_hooks = _register_logging_hooks_on_whole_graph(t_outputs)\n\u001b[32m    823\u001b[39m \u001b[38;5;28;01mtry\u001b[39;00m:\n\u001b[32m--> \u001b[39m\u001b[32m824\u001b[39m     \u001b[38;5;28;01mreturn\u001b[39;00m \u001b[43mVariable\u001b[49m\u001b[43m.\u001b[49m\u001b[43m_execution_engine\u001b[49m\u001b[43m.\u001b[49m\u001b[43mrun_backward\u001b[49m\u001b[43m(\u001b[49m\u001b[43m  \u001b[49m\u001b[38;5;66;43;03m# Calls into the C++ engine to run the backward pass\u001b[39;49;00m\n\u001b[32m    825\u001b[39m \u001b[43m        \u001b[49m\u001b[43mt_outputs\u001b[49m\u001b[43m,\u001b[49m\u001b[43m \u001b[49m\u001b[43m*\u001b[49m\u001b[43margs\u001b[49m\u001b[43m,\u001b[49m\u001b[43m \u001b[49m\u001b[43m*\u001b[49m\u001b[43m*\u001b[49m\u001b[43mkwargs\u001b[49m\n\u001b[32m    826\u001b[39m \u001b[43m    \u001b[49m\u001b[43m)\u001b[49m  \u001b[38;5;66;03m# Calls into the C++ engine to run the backward pass\u001b[39;00m\n\u001b[32m    827\u001b[39m \u001b[38;5;28;01mfinally\u001b[39;00m:\n\u001b[32m    828\u001b[39m     \u001b[38;5;28;01mif\u001b[39;00m attach_logging_hooks:\n",
      "\u001b[31mKeyboardInterrupt\u001b[39m: "
     ]
    }
   ],
   "source": [
    "studyRNN.optimize(_objective, n_trials = 500)"
   ]
  },
  {
   "cell_type": "code",
   "execution_count": null,
   "id": "a72360d2",
   "metadata": {},
   "outputs": [],
   "source": [
    "print(\"\\nOptuna Best Trial:\")\n",
    "best = studyRNN.best_trial\n",
    "print(f\"Validation Loss: {best.value:.4f}\")\n",
    "for key, val in best.params.items():\n",
    "    print(f\"  {key}: {val}\")\n",
    "print(\"\\n\")\n",
    "\n",
    "best_embeddingDim = best.params[\"embeddingDim\"]\n",
    "best_hiddenDim = best.params[\"hiddenDim\"]\n",
    "best_rnnLayers = best.params[\"rnnLayers\"]\n",
    "best_bidirectional = best.params[\"bidirectional\"]\n",
    "best_dropoutRate = best.params[\"dropoutRate\"]\n",
    "best_denseUnits = best.params[\"denseUnits\"]\n",
    "best_learnRate = best.params[\"learnRate\"]\n",
    "best_weightDecay = best.params[\"weightDecay\"]\n",
    "best_batchSize = best.params[\"batchSize\"]\n",
    "best_epochs = best.params[\"epochs\"]\n",
    "best_optName = best.params[\"optimizer\"]\n",
    "best_use_scheduler = best.params[\"use_scheduler\"]\n",
    "if best_optName == \"SGD\":\n",
    "    best_momentum = best.params[\"momentum\"]"
   ]
  },
  {
   "cell_type": "code",
   "execution_count": null,
   "id": "ffa75612",
   "metadata": {},
   "outputs": [],
   "source": [
    "finalTrainDataset = TextDataset(trainEncode, yTrain)\n",
    "finalValDataset = TextDataset(valEncode, yVal)\n",
    "\n",
    "finalTrainLoader = DataLoader(finalTrainDataset, batch_size = best_batchSize, shuffle = True)\n",
    "finalValLoader = DataLoader(finalValDataset, batch_size = best_batchSize, shuffle = False)"
   ]
  },
  {
   "cell_type": "code",
   "execution_count": null,
   "id": "2d1a30f6",
   "metadata": {},
   "outputs": [],
   "source": [
    "finalModel = RNNClassifier(\n",
    "    vocabSize = vocabSize,\n",
    "    embeddingDim = best_embeddingDim,\n",
    "    hiddenDim = best_hiddenDim,\n",
    "    rnnLayers = best_rnnLayers,\n",
    "    bidirectional = best_bidirectional,\n",
    "    dropoutRate = best_dropoutRate,\n",
    "    denseUnits = best_denseUnits,\n",
    "    numLabels = numLabels,\n",
    "    padIndex = padIndex\n",
    ").to(userDevice)\n",
    "\n",
    "if best_optName == \"Adam\":\n",
    "    finalOptimizer = optim.Adam(finalModel.parameters(), lr = best_learnRate, weight_decay = best_weightDecay)\n",
    "elif best_optName == \"RMSprop\":\n",
    "    finalOptimizer = optim.RMSprop(finalModel.parameters(), lr = best_learnRate, weight_decay = best_weightDecay)\n",
    "else:\n",
    "    finalOptimizer = optim.SGD(finalModel.parameters(), lr = best_learnRate, momentum = best_momentum, weight_decay = best_weightDecay)\n",
    "\n",
    "finalCriterion = nn.BCEWithLogitsLoss(pos_weight = weight_tensor)\n",
    "\n",
    "if best_use_scheduler:\n",
    "    finalScheduler = optim.lr_scheduler.ReduceLROnPlateau(finalOptimizer, mode = \"min\", factor = 0.5, patience = 1)"
   ]
  },
  {
   "cell_type": "code",
   "execution_count": null,
   "id": "95b65981",
   "metadata": {},
   "outputs": [],
   "source": [
    "bestValLossFinal = float(\"inf\")\n",
    "patienceCtr = 0\n",
    "bestStateFinal = None"
   ]
  },
  {
   "cell_type": "code",
   "execution_count": null,
   "id": "9edb7821",
   "metadata": {},
   "outputs": [],
   "source": [
    "for epoch in range(1, best_epochs + 1):\n",
    "    trainLoss = epochTrain(finalModel, finalTrainLoader, finalOptimizer, finalCriterion, userDevice)\n",
    "    valLoss = evaluateModel(finalModel, finalValLoader,   finalCriterion, userDevice)\n",
    "    print(f\"Final Epoch {epoch:02d} | Train Loss: {trainLoss:.4f} | Val Loss: {valLoss:.4f}\")\n",
    "\n",
    "    if best_use_scheduler:\n",
    "        finalScheduler.step(valLoss)\n",
    "\n",
    "    if valLoss < bestValLossFinal:\n",
    "        bestValLossFinal = valLoss\n",
    "        patienceCtr = 0\n",
    "        bestStateFinal = {k: v.cpu() for k, v in finalModel.state_dict().items()}\n",
    "    else:\n",
    "        patienceCtr += 1\n",
    "        if patienceCtr >= 3:\n",
    "            print(f\"Early stopping at epoch {epoch}\")\n",
    "            break"
   ]
  },
  {
   "cell_type": "code",
   "execution_count": null,
   "id": "c3afce23",
   "metadata": {},
   "outputs": [],
   "source": [
    "finalModel.load_state_dict(bestStateFinal)"
   ]
  },
  {
   "cell_type": "code",
   "execution_count": null,
   "id": "0cb71edd",
   "metadata": {},
   "outputs": [],
   "source": [
    "finalModel.eval()\n",
    "runningLoss = 0.0\n",
    "correct = 0\n",
    "total = 0\n",
    "with torch.no_grad():\n",
    "    for batchInputs, batchLabels in finalValLoader:\n",
    "        batchInputs = batchInputs.to(userDevice)\n",
    "        batchLabels = batchLabels.to(userDevice)\n",
    "\n",
    "        logits = finalModel(batchInputs)\n",
    "        loss = finalCriterion(logits, batchLabels)\n",
    "        runningLoss += loss.item() * batchInputs.size(0)\n",
    "\n",
    "        preds = (torch.sigmoid(logits) >= 0.5).float()\n",
    "        correct += (preds == batchLabels).sum().item()\n",
    "        total += batchLabels.numel()\n",
    "\n",
    "finalValLoss = runningLoss / len(finalValDataset)\n",
    "finalValAcc  = correct / total\n",
    "print(f\"\\nFinal Model -> Val Loss: {finalValLoss:.4f}, Val Accuracy: {finalValAcc:.4f}\")"
   ]
  },
  {
   "cell_type": "code",
   "execution_count": null,
   "id": "2db283fb",
   "metadata": {},
   "outputs": [],
   "source": [
    "os.makedirs(\"savedModel\", exist_ok = True)\n",
    "torch.save({\n",
    "    \"model_state_dict\": finalModel.state_dict(),\n",
    "    \"wordtoindex\": wordtoindex,\n",
    "    \"indextoword\": indextoword,\n",
    "    \"padIndex\": padIndex,\n",
    "    \"max_sequence_length\": MAX_SEQUENCE_LENGTH\n",
    "}, \"savedModel/rnn_emotion_classifier_optuna.pth\")\n",
    "print(\"Saved final model + vocab to savedModel/rnn_emotion_classifier_optuna.pth\")"
   ]
  }
 ],
 "metadata": {
  "kernelspec": {
   "display_name": ".venv",
   "language": "python",
   "name": "python3"
  },
  "language_info": {
   "codemirror_mode": {
    "name": "ipython",
    "version": 3
   },
   "file_extension": ".py",
   "mimetype": "text/x-python",
   "name": "python",
   "nbconvert_exporter": "python",
   "pygments_lexer": "ipython3",
   "version": "3.11.9"
  }
 },
 "nbformat": 4,
 "nbformat_minor": 5
}
