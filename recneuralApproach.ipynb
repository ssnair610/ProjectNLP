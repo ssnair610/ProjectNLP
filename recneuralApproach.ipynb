{
 "cells": [
  {
   "cell_type": "code",
   "execution_count": null,
   "id": "9a3c0664",
   "metadata": {},
   "outputs": [],
   "source": [
    "import os\n",
    "import re\n",
    "import time\n",
    "import pandas as pd\n",
    "import numpy as np\n",
    "from collections import Counter\n",
    "\n",
    "import spacy\n",
    "from sklearn.model_selection import train_test_split\n",
    "\n",
    "import torch\n",
    "import torch.nn as nn\n",
    "import torch.optim as optim\n",
    "from torch.utils.data import Dataset, DataLoader\n",
    "\n",
    "import optuna"
   ]
  },
  {
   "cell_type": "code",
   "execution_count": null,
   "id": "87c74e1f",
   "metadata": {},
   "outputs": [],
   "source": [
    "dataPath = \"Data\\\\track-a.csv\""
   ]
  },
  {
   "cell_type": "code",
   "execution_count": null,
   "id": "b6a55cb5",
   "metadata": {},
   "outputs": [],
   "source": [
    "dataFrame = pd.read_csv(dataPath)"
   ]
  },
  {
   "cell_type": "code",
   "execution_count": null,
   "id": "95a615c6",
   "metadata": {},
   "outputs": [],
   "source": [
    "nlpModel = spacy.load(\"en_core_web_sm\", disable=[\"parser\", \"ner\"])"
   ]
  },
  {
   "cell_type": "code",
   "execution_count": null,
   "id": "ebc80a73",
   "metadata": {},
   "outputs": [],
   "source": [
    "textColumn = \"text\"\n",
    "labelColumns = [\"anger\", \"fear\", \"joy\", \"sadness\", \"surprise\"]"
   ]
  },
  {
   "cell_type": "code",
   "execution_count": null,
   "id": "4aafa237",
   "metadata": {},
   "outputs": [],
   "source": [
    "def cleanerFunction(text: str) -> str:\n",
    "    tempDoc = nlpModel(text)\n",
    "    tokens = [\n",
    "        tok.lemma_.lower()\n",
    "        for tok in tempDoc\n",
    "        if not tok.is_stop and not tok.is_punct and tok.lemma_ != \"-PRON-\"\n",
    "    ]\n",
    "    return \" \".join(tokens)"
   ]
  },
  {
   "cell_type": "code",
   "execution_count": null,
   "id": "142be880",
   "metadata": {},
   "outputs": [],
   "source": [
    "dataFrame[\"Spacy_text\"] = dataFrame[\"text\"].astype(str).apply(cleanerFunction)"
   ]
  },
  {
   "cell_type": "code",
   "execution_count": null,
   "id": "912e6a6c",
   "metadata": {},
   "outputs": [],
   "source": [
    "userDevice = torch.device(\"cuda\" if torch.cuda.is_available() else \"cpu\")"
   ]
  },
  {
   "cell_type": "code",
   "execution_count": null,
   "id": "599ae6e5",
   "metadata": {},
   "outputs": [],
   "source": [
    "labelColumns = [col for col in [\"anger\", \"fear\", \"joy\", \"sadness\", \"surprise\"] if col in dataFrame]\n",
    "yData = dataFrame[labelColumns].values.astype(np.float32)"
   ]
  },
  {
   "cell_type": "code",
   "execution_count": null,
   "id": "d1b5b430",
   "metadata": {},
   "outputs": [],
   "source": [
    "xAll = dataFrame[\"Spacy_text\"].tolist()\n",
    "xTrain, xVal, yTrain, yVal = train_test_split(xAll, yData, test_size = 0.1, random_state = 69)"
   ]
  },
  {
   "cell_type": "code",
   "execution_count": null,
   "id": "526aae69",
   "metadata": {},
   "outputs": [],
   "source": [
    "xTrain = xTrain.copy()\n",
    "xVal = xVal.copy()"
   ]
  },
  {
   "cell_type": "code",
   "execution_count": null,
   "id": "3de8cb5d",
   "metadata": {},
   "outputs": [],
   "source": [
    "numLabels = yTrain.shape[1]"
   ]
  },
  {
   "cell_type": "code",
   "execution_count": null,
   "id": "4c0c9230",
   "metadata": {},
   "outputs": [],
   "source": [
    "TOKEN_PATTERN = re.compile(r\"\\b\\w+\\b\")"
   ]
  },
  {
   "cell_type": "code",
   "execution_count": null,
   "id": "6bc526de",
   "metadata": {},
   "outputs": [],
   "source": [
    "def simpleTokenize(text: str) -> list:\n",
    "    return TOKEN_PATTERN.findall(text.lower())"
   ]
  },
  {
   "cell_type": "code",
   "execution_count": null,
   "id": "6dab582c",
   "metadata": {},
   "outputs": [],
   "source": [
    "def vocabularyBuilder(texts: list, vocabsize: int = 20000):\n",
    "    counter = Counter()\n",
    "    for t in texts:\n",
    "        tokens = simpleTokenize(t)\n",
    "        counter.update(tokens)\n",
    "    \n",
    "    mostCommon = counter.most_common(vocabsize - 2)\n",
    "    indextoword = [\"<pad>\", \"<unk>\"] + [token for token, _ in mostCommon]\n",
    "    wordtoindex = {w: i for i, w in enumerate(indextoword)}\n",
    "\n",
    "    return wordtoindex, indextoword"
   ]
  },
  {
   "cell_type": "code",
   "execution_count": null,
   "id": "c34acf54",
   "metadata": {},
   "outputs": [],
   "source": [
    "MAX_VOCAB_SIZE = 20000\n",
    "MAX_SEQUENCE_LENGTH = 100\n",
    "\n",
    "wordtoindex, indextoword = vocabularyBuilder(xTrain, vocabsize = MAX_VOCAB_SIZE)\n",
    "vocabSize = len(indextoword)\n",
    "\n",
    "padIndex = wordtoindex[\"<pad>\"]\n",
    "unkIndex = wordtoindex[\"<unk>\"]"
   ]
  },
  {
   "cell_type": "code",
   "execution_count": null,
   "id": "5359bbb3",
   "metadata": {},
   "outputs": [],
   "source": [
    "def encodePadFunction(texts: list, wordtoindex: dict, sequenceLength: int = 100) -> np.ndarray:\n",
    "    encodings = []\n",
    "\n",
    "    for t in texts:\n",
    "        tokens = simpleTokenize(t)\n",
    "        tokenIDs = [wordtoindex.get(tok, unkIndex) for tok in tokens]\n",
    "        if len(tokenIDs) > sequenceLength:\n",
    "            tokenIDs = tokenIDs[:sequenceLength]\n",
    "        else:\n",
    "            tokenIDs = tokenIDs + [padIndex] * (sequenceLength - len(tokenIDs))\n",
    "        encodings.append(tokenIDs)\n",
    "\n",
    "    return np.array(encodings, dtype = np.int64)"
   ]
  },
  {
   "cell_type": "code",
   "execution_count": null,
   "id": "d23f9099",
   "metadata": {},
   "outputs": [],
   "source": [
    "trainEncode = encodePadFunction(xTrain, wordtoindex, sequenceLength = 100)\n",
    "valEncode = encodePadFunction(xVal, wordtoindex, sequenceLength = 100)"
   ]
  },
  {
   "cell_type": "code",
   "execution_count": null,
   "id": "9fce8796",
   "metadata": {},
   "outputs": [],
   "source": [
    "class TextDataset(Dataset):\n",
    "    def __init__(self, encodings: np.ndarray, labels: np.ndarray) -> None:\n",
    "        self.encodings = torch.from_numpy(encodings)\n",
    "        self.labels = torch.from_numpy(labels)\n",
    "\n",
    "    def __len__(self):\n",
    "        return self.encodings.size(0)\n",
    "    \n",
    "    def __getitem__(self, index):\n",
    "        return self.encodings[index], self.labels[index]"
   ]
  },
  {
   "cell_type": "markdown",
   "id": "b2a52a06",
   "metadata": {},
   "source": [
    "## Recurrent Neural Network"
   ]
  },
  {
   "cell_type": "code",
   "execution_count": null,
   "id": "2b4b8c3d",
   "metadata": {},
   "outputs": [],
   "source": [
    "class RNNClassifier(nn.Module):\n",
    "    def __init__(\n",
    "        self,\n",
    "        vocabSize: int,\n",
    "        embeddingDim: int,\n",
    "        hiddenDim: int,\n",
    "        rnnLayers: int,\n",
    "        bidirectional: bool,\n",
    "        dropoutRate: float,\n",
    "        denseUnits: int,\n",
    "        numLabels: int,\n",
    "        padIndex: int\n",
    "    ) -> None:\n",
    "        super().__init__()\n",
    "        self.embedding = nn.Embedding(vocabSize, embeddingDim, padding_idx = padIndex)\n",
    "        self.dropoutEmb = nn.Dropout(dropoutRate)\n",
    "        self.rnn = nn.LSTM(\n",
    "            input_size = embeddingDim,\n",
    "            hidden_size = hiddenDim,\n",
    "            num_layers = rnnLayers,\n",
    "            bidirectional = bidirectional,\n",
    "            batch_first = True,\n",
    "            dropout = dropoutRate if rnnLayers > 1 else 0.0\n",
    "        )\n",
    "        directionFactor = 2 if bidirectional else 1\n",
    "        self.fc1 = nn.Linear(hiddenDim * directionFactor, denseUnits)\n",
    "        self.bn1 = nn.BatchNorm1d(denseUnits)\n",
    "        self.relu = nn.ReLU()\n",
    "        self.dropoutFc = nn.Dropout(dropoutRate)\n",
    "        self.fc_out = nn.Linear(denseUnits, numLabels)\n",
    "\n",
    "    def forward(self, x):\n",
    "        emb = self.embedding(x)\n",
    "        emb = self.dropoutEmb(emb)\n",
    "        rnn_out, _ = self.rnn(emb)\n",
    "        final_feat = rnn_out[:, -1, :]\n",
    "        h = self.fc1(final_feat)\n",
    "        h = self.bn1(h)\n",
    "        h = self.relu(h)\n",
    "        h = self.dropoutFc(h)\n",
    "        logits = self.fc_out(h)\n",
    "        return logits"
   ]
  },
  {
   "cell_type": "code",
   "execution_count": null,
   "id": "1127454d",
   "metadata": {},
   "outputs": [],
   "source": [
    "def epochTrain(model, dataloader, optimizer, criterion, device):\n",
    "    model.train()\n",
    "    totalLoss = 0.0\n",
    "    for batchInputs, batchLabels in dataloader:\n",
    "        batchInputs = batchInputs.to(device)\n",
    "        batchLabels = batchLabels.to(device)\n",
    "\n",
    "        optimizer.zero_grad()\n",
    "        logits = model(batchInputs)\n",
    "        loss = criterion(logits, batchLabels)\n",
    "        loss.backward()\n",
    "\n",
    "        nn.utils.clip_grad_norm_(model.parameters(), max_norm = 1.0)\n",
    "        optimizer.step()\n",
    "\n",
    "        totalLoss += loss.item() * batchInputs.size(0)\n",
    "    \n",
    "    return totalLoss / len(dataloader.dataset)"
   ]
  },
  {
   "cell_type": "code",
   "execution_count": null,
   "id": "5df36a71",
   "metadata": {},
   "outputs": [],
   "source": [
    "def evaluateModel(model, dataloader, criterion, device):\n",
    "    model.eval()\n",
    "    totalLoss = 0.0\n",
    "    with torch.no_grad():\n",
    "        for batchInputs, batchLabels in dataloader:\n",
    "            batchInputs = batchInputs.to(device)\n",
    "            batchLabels = batchLabels.to(device)\n",
    "\n",
    "            logits = model(batchInputs)\n",
    "            loss = criterion(logits, batchLabels)\n",
    "            totalLoss += loss.item() * batchInputs.size(0)\n",
    "\n",
    "    return totalLoss / len(dataloader.dataset)"
   ]
  },
  {
   "cell_type": "code",
   "execution_count": null,
   "id": "65fffcea",
   "metadata": {},
   "outputs": [],
   "source": [
    "freq = np.maximum(yTrain.sum(axis = 0) / len(yTrain), 1e-4)\n",
    "class_weights = 1.0 / freq\n",
    "class_weights = class_weights / class_weights.sum()\n",
    "weight_tensor = torch.FloatTensor(class_weights).to(userDevice)"
   ]
  },
  {
   "cell_type": "code",
   "execution_count": null,
   "id": "6b76a75e",
   "metadata": {},
   "outputs": [],
   "source": [
    "def objective(trial):\n",
    "    embeddingDim  = trial.suggest_categorical(\"embeddingDim\", [64, 128, 256])\n",
    "    hiddenDim = trial.suggest_int(\"hiddenDim\", 32, 256, step = 16)\n",
    "    rnnLayers = trial.suggest_int(\"rnnLayers\", 1, 5)\n",
    "    bidirectional = trial.suggest_categorical(\"bidirectional\", [False, True])\n",
    "    dropoutRate = trial.suggest_float(\"dropoutRate\", 0.2, 0.6, step = 0.1)\n",
    "    denseUnits = trial.suggest_int(\"denseUnits\", 32, 256, step = 16)\n",
    "    learnRate = trial.suggest_float(\"learnRate\", 1e-4, 1e-2, log = True)\n",
    "    weightDecay = trial.suggest_float(\"weightDecay\", 1e-6, 1e-2, log = True)\n",
    "    batchSize = trial.suggest_categorical(\"batchSize\", [32, 64, 128, 256])\n",
    "    epochs = trial.suggest_categorical(\"epochs\", [3, 5, 7, 9])\n",
    "    optName = trial.suggest_categorical(\"optimizer\", [\"Adam\", \"RMSprop\", \"SGD\"])\n",
    "    use_scheduler = trial.suggest_categorical(\"use_scheduler\", [False, True])\n",
    "    if optName == \"SGD\":\n",
    "        sgdvar = trial.suggest_float(\"momentum\", 0.1, 0.9)\n",
    "\n",
    "    trainDataset = TextDataset(trainEncode, yTrain)\n",
    "    valDataset = TextDataset(valEncode, yVal)\n",
    "\n",
    "    trainLoader = DataLoader(trainDataset, batch_size = batchSize, shuffle = True)\n",
    "    valLoader = DataLoader(valDataset, batch_size = batchSize, shuffle = True)\n",
    "\n",
    "    model = RNNClassifier(vocabSize, embeddingDim, hiddenDim, rnnLayers, bidirectional, dropoutRate, denseUnits, numLabels, padIndex).to(userDevice)\n",
    "\n",
    "    if optName == \"Adam\":\n",
    "        optimizer = optim.Adam(model.parameters(), lr = learnRate, weight_decay = weightDecay)\n",
    "    elif optName == \"RMSprop\":\n",
    "        optimizer = optim.RMSprop(model.parameters(), lr = learnRate, weight_decay = weightDecay)\n",
    "    else:\n",
    "        optimizer = optim.SGD(model.parameters(), lr = learnRate, momentum = sgdvar) # type: ignore\n",
    "\n",
    "    criterionOption = nn.BCEWithLogitsLoss(pos_weight = weight_tensor)\n",
    "\n",
    "    bestvalLoss = float(\"inf\")\n",
    "    counterVar = 0\n",
    "    bestState = None\n",
    "\n",
    "    if use_scheduler:\n",
    "        scheduler = optim.lr_scheduler.ReduceLROnPlateau(optimizer, mode = \"min\", factor = 0.5, patience = 1)\n",
    "\n",
    "    for epoch in range(1, epochs + 1):\n",
    "        trainLoss = epochTrain(model, trainLoader, optimizer, criterionOption, userDevice)\n",
    "        valLoss = evaluateModel(model, valLoader, criterionOption, userDevice)\n",
    "\n",
    "        if use_scheduler:\n",
    "            scheduler.step(valLoss) # type: ignore\n",
    "\n",
    "        trial.report(valLoss, epoch)\n",
    "\n",
    "        if trial.should_prune():\n",
    "            raise optuna.exceptions.TrialPruned()\n",
    "        \n",
    "        if valLoss < bestvalLoss:\n",
    "            bestvalLoss = valLoss\n",
    "            counterVar = 0\n",
    "            bestState = {k: v.cpu() for k, v in model.state_dict().items()}\n",
    "        else:\n",
    "            counterVar += 1\n",
    "            if counterVar >= 2:\n",
    "                break\n",
    "\n",
    "    model.load_state_dict(bestState) # type: ignore\n",
    "    return bestvalLoss"
   ]
  },
  {
   "cell_type": "code",
   "execution_count": null,
   "id": "089355b5",
   "metadata": {},
   "outputs": [],
   "source": [
    "def _objective(trial):\n",
    "    return objective(trial)"
   ]
  },
  {
   "cell_type": "code",
   "execution_count": null,
   "id": "dcf69fe7",
   "metadata": {},
   "outputs": [],
   "source": [
    "studyRNN = optuna.create_study(direction = \"minimize\", sampler = optuna.samplers.TPESampler(seed = 42))\n"
   ]
  },
  {
   "cell_type": "code",
   "execution_count": null,
   "id": "76ec32aa",
   "metadata": {},
   "outputs": [],
   "source": [
    "studyRNN.optimize(_objective, n_trials = 500)"
   ]
  },
  {
   "cell_type": "code",
   "execution_count": null,
   "id": "a72360d2",
   "metadata": {},
   "outputs": [],
   "source": [
    "print(\"\\nOptuna Best Trial:\")\n",
    "best = studyRNN.best_trial\n",
    "print(f\"Validation Loss: {best.value:.4f}\")\n",
    "for key, val in best.params.items():\n",
    "    print(f\"  {key}: {val}\")\n",
    "print(\"\\n\")\n",
    "\n",
    "best_embeddingDim = best.params[\"embeddingDim\"]\n",
    "best_hiddenDim = best.params[\"hiddenDim\"]\n",
    "best_rnnLayers = best.params[\"rnnLayers\"]\n",
    "best_bidirectional = best.params[\"bidirectional\"]\n",
    "best_dropoutRate = best.params[\"dropoutRate\"]\n",
    "best_denseUnits = best.params[\"denseUnits\"]\n",
    "best_learnRate = best.params[\"learnRate\"]\n",
    "best_weightDecay = best.params[\"weightDecay\"]\n",
    "best_batchSize = best.params[\"batchSize\"]\n",
    "best_epochs = best.params[\"epochs\"]\n",
    "best_optName = best.params[\"optimizer\"]\n",
    "best_use_scheduler = best.params[\"use_scheduler\"]\n",
    "if best_optName == \"SGD\":\n",
    "    best_momentum = best.params[\"momentum\"]"
   ]
  },
  {
   "cell_type": "code",
   "execution_count": null,
   "id": "ffa75612",
   "metadata": {},
   "outputs": [],
   "source": [
    "finalTrainDataset = TextDataset(trainEncode, yTrain)\n",
    "finalValDataset = TextDataset(valEncode, yVal)\n",
    "\n",
    "finalTrainLoader = DataLoader(finalTrainDataset, batch_size = best_batchSize, shuffle = True)\n",
    "finalValLoader = DataLoader(finalValDataset, batch_size = best_batchSize, shuffle = False)"
   ]
  },
  {
   "cell_type": "code",
   "execution_count": null,
   "id": "2d1a30f6",
   "metadata": {},
   "outputs": [],
   "source": [
    "finalModel = RNNClassifier(\n",
    "    vocabSize = vocabSize,\n",
    "    embeddingDim = best_embeddingDim,\n",
    "    hiddenDim = best_hiddenDim,\n",
    "    rnnLayers = best_rnnLayers,\n",
    "    bidirectional = best_bidirectional,\n",
    "    dropoutRate = best_dropoutRate,\n",
    "    denseUnits = best_denseUnits,\n",
    "    numLabels = numLabels,\n",
    "    padIndex = padIndex\n",
    ").to(userDevice)\n",
    "\n",
    "if best_optName == \"Adam\":\n",
    "    finalOptimizer = optim.Adam(finalModel.parameters(), lr = best_learnRate, weight_decay = best_weightDecay)\n",
    "elif best_optName == \"RMSprop\":\n",
    "    finalOptimizer = optim.RMSprop(finalModel.parameters(), lr = best_learnRate, weight_decay = best_weightDecay)\n",
    "else:\n",
    "    finalOptimizer = optim.SGD(finalModel.parameters(), lr = best_learnRate, momentum = best_momentum, weight_decay = best_weightDecay)\n",
    "\n",
    "finalCriterion = nn.BCEWithLogitsLoss(pos_weight = weight_tensor)\n",
    "\n",
    "if best_use_scheduler:\n",
    "    finalScheduler = optim.lr_scheduler.ReduceLROnPlateau(finalOptimizer, mode = \"min\", factor = 0.5, patience = 1)"
   ]
  },
  {
   "cell_type": "code",
   "execution_count": null,
   "id": "95b65981",
   "metadata": {},
   "outputs": [],
   "source": [
    "bestValLossFinal = float(\"inf\")\n",
    "patienceCtr = 0\n",
    "bestStateFinal = None"
   ]
  },
  {
   "cell_type": "code",
   "execution_count": null,
   "id": "9edb7821",
   "metadata": {},
   "outputs": [],
   "source": [
    "for epoch in range(1, best_epochs + 1):\n",
    "    trainLoss = epochTrain(finalModel, finalTrainLoader, finalOptimizer, finalCriterion, userDevice)\n",
    "    valLoss = evaluateModel(finalModel, finalValLoader,   finalCriterion, userDevice)\n",
    "    print(f\"Final Epoch {epoch:02d} | Train Loss: {trainLoss:.4f} | Val Loss: {valLoss:.4f}\")\n",
    "\n",
    "    if best_use_scheduler:\n",
    "        finalScheduler.step(valLoss)\n",
    "\n",
    "    if valLoss < bestValLossFinal:\n",
    "        bestValLossFinal = valLoss\n",
    "        patienceCtr = 0\n",
    "        bestStateFinal = {k: v.cpu() for k, v in finalModel.state_dict().items()}\n",
    "    else:\n",
    "        patienceCtr += 1\n",
    "        if patienceCtr >= 3:\n",
    "            print(f\"Early stopping at epoch {epoch}\")\n",
    "            break"
   ]
  },
  {
   "cell_type": "code",
   "execution_count": null,
   "id": "c3afce23",
   "metadata": {},
   "outputs": [],
   "source": [
    "finalModel.load_state_dict(bestStateFinal)"
   ]
  },
  {
   "cell_type": "code",
   "execution_count": null,
   "id": "0cb71edd",
   "metadata": {},
   "outputs": [],
   "source": [
    "finalModel.eval()\n",
    "runningLoss = 0.0\n",
    "correct = 0\n",
    "total = 0\n",
    "with torch.no_grad():\n",
    "    for batchInputs, batchLabels in finalValLoader:\n",
    "        batchInputs = batchInputs.to(userDevice)\n",
    "        batchLabels = batchLabels.to(userDevice)\n",
    "\n",
    "        logits = finalModel(batchInputs)\n",
    "        loss = finalCriterion(logits, batchLabels)\n",
    "        runningLoss += loss.item() * batchInputs.size(0)\n",
    "\n",
    "        preds = (torch.sigmoid(logits) >= 0.5).float()\n",
    "        correct += (preds == batchLabels).sum().item()\n",
    "        total += batchLabels.numel()\n",
    "\n",
    "finalValLoss = runningLoss / len(finalValDataset)\n",
    "finalValAcc  = correct / total\n",
    "print(f\"\\nFinal Model -> Val Loss: {finalValLoss:.4f}, Val Accuracy: {finalValAcc:.4f}\")"
   ]
  },
  {
   "cell_type": "code",
   "execution_count": null,
   "id": "2db283fb",
   "metadata": {},
   "outputs": [],
   "source": [
    "os.makedirs(\"savedModel\", exist_ok = True)\n",
    "torch.save({\n",
    "    \"model_state_dict\": finalModel.state_dict(),\n",
    "    \"wordtoindex\": wordtoindex,\n",
    "    \"indextoword\": indextoword,\n",
    "    \"padIndex\": padIndex,\n",
    "    \"max_sequence_length\": MAX_SEQUENCE_LENGTH\n",
    "}, \"savedModel/rnn_emotion_classifier_optuna.pth\")\n",
    "print(\"Saved final model + vocab to savedModel/rnn_emotion_classifier_optuna.pth\")"
   ]
  }
 ],
 "metadata": {
  "kernelspec": {
   "display_name": ".venv",
   "language": "python",
   "name": "python3"
  },
  "language_info": {
   "codemirror_mode": {
    "name": "ipython",
    "version": 3
   },
   "file_extension": ".py",
   "mimetype": "text/x-python",
   "name": "python",
   "nbconvert_exporter": "python",
   "pygments_lexer": "ipython3",
   "version": "3.11.9"
  }
 },
 "nbformat": 4,
 "nbformat_minor": 5
}
