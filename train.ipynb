{
 "cells": [
  {
   "cell_type": "code",
   "execution_count": 2,
   "id": "3d1ff056",
   "metadata": {},
   "outputs": [],
   "source": [
    "import os\n",
    "import re\n",
    "import pandas as pd\n",
    "import numpy as np\n",
    "from collections import Counter\n",
    "\n",
    "import spacy\n",
    "from nltk.corpus import stopwords\n",
    "\n",
    "import torch\n",
    "import torch.nn as nn\n",
    "from torch.nn.utils.rnn import pack_padded_sequence, pad_packed_sequence\n",
    "from torch import Tensor\n",
    "\n",
    "from sklearn.feature_extraction.text import CountVectorizer \n",
    "from sklearn.metrics import multilabel_confusion_matrix\n",
    "from sklearn.model_selection import train_test_split\n",
    "from sklearn.exceptions import InconsistentVersionWarning # type: ignore\n",
    "\n",
    "import joblib\n",
    "import warnings\n",
    "import plotly.graph_objects as go"
   ]
  },
  {
   "cell_type": "code",
   "execution_count": 3,
   "id": "12b4a147",
   "metadata": {},
   "outputs": [],
   "source": [
    "dataPath = os.path.join(\"Data\", \"track-a.csv\")"
   ]
  },
  {
   "cell_type": "code",
   "execution_count": 4,
   "id": "504f5218",
   "metadata": {},
   "outputs": [],
   "source": [
    "dataFrame = pd.read_csv(dataPath)"
   ]
  },
  {
   "cell_type": "code",
   "execution_count": 5,
   "id": "34521e02",
   "metadata": {},
   "outputs": [],
   "source": [
    "nlpModel = spacy.load(\"en_core_web_sm\", disable=[\"parser\",\"ner\"])"
   ]
  },
  {
   "cell_type": "code",
   "execution_count": 6,
   "id": "174306cc",
   "metadata": {},
   "outputs": [],
   "source": [
    "stop_words = set(stopwords.words('english'))"
   ]
  },
  {
   "cell_type": "code",
   "execution_count": 7,
   "id": "75bc303c",
   "metadata": {},
   "outputs": [],
   "source": [
    "def cleanerFunction(text):\n",
    "    tempDoc = nlpModel(text)\n",
    "    token = [\n",
    "        tok.lemma_.lower()\n",
    "        for tok in tempDoc\n",
    "        if not tok.is_stop and not tok.is_punct and tok.lemma_ != \"-PRON-\"\n",
    "    ]\n",
    "    return \" \".join(token)"
   ]
  },
  {
   "cell_type": "code",
   "execution_count": 8,
   "id": "235811ba",
   "metadata": {},
   "outputs": [],
   "source": [
    "def clean_text_svm(text):\n",
    "    text = str(text).lower()\n",
    "    text = re.sub(r'http\\S+', '', text)\n",
    "    text = re.sub(r'[^a-z\\s]', '', text)\n",
    "    text = re.sub(r'\\s+', ' ', text)\n",
    "    text = ' '.join([w for w in text.split() if w not in stop_words])\n",
    "    return text.strip()"
   ]
  },
  {
   "cell_type": "code",
   "execution_count": 9,
   "id": "db73cb35",
   "metadata": {},
   "outputs": [],
   "source": [
    "dataFrame[\"Spacy_text\"] = dataFrame[\"text\"].astype(str).apply(cleanerFunction)"
   ]
  },
  {
   "cell_type": "code",
   "execution_count": 10,
   "id": "a8d34042",
   "metadata": {},
   "outputs": [],
   "source": [
    "label_columns = [\"anger\", \"fear\", \"joy\", \"sadness\", \"surprise\"]\n",
    "labelColumns = [col for col in label_columns if col in dataFrame]\n",
    "yData = dataFrame[labelColumns].values.astype(np.float32)"
   ]
  },
  {
   "cell_type": "code",
   "execution_count": 11,
   "id": "712fc7e2",
   "metadata": {},
   "outputs": [],
   "source": [
    "xAll = dataFrame[\"Spacy_text\"].tolist()\n",
    "xTrain, xVal, yTrain, yVal = train_test_split(xAll, yData, test_size = 0.1, random_state = 69)"
   ]
  },
  {
   "cell_type": "code",
   "execution_count": 12,
   "id": "67a3dc64",
   "metadata": {},
   "outputs": [],
   "source": [
    "xTrain = xTrain.copy()\n",
    "xVal = xVal.copy()\n",
    "\n",
    "numLabels = yTrain.shape[1]"
   ]
  },
  {
   "cell_type": "code",
   "execution_count": 13,
   "id": "f8d276d5",
   "metadata": {},
   "outputs": [],
   "source": [
    "userDevice = torch.device(\"cuda\" if torch.cuda.is_available() else \"cpu\")"
   ]
  },
  {
   "cell_type": "code",
   "execution_count": 14,
   "id": "1a548964",
   "metadata": {},
   "outputs": [],
   "source": [
    "TOKEN_PATTERN = re.compile(r\"\\b\\w+\\b\")\n",
    "\n",
    "def simpleTokenize(text: str) -> list:\n",
    "    return TOKEN_PATTERN.findall(text.lower())\n",
    "\n",
    "\n",
    "def vocabularyBuilder(texts: list, vocabsize: int):\n",
    "    counter = Counter()\n",
    "    for t in texts:\n",
    "        tokens = simpleTokenize(t)\n",
    "        counter.update(tokens)\n",
    "    \n",
    "    mostCommon = counter.most_common(vocabsize - 2)\n",
    "    indextoword = [\"<pad>\", \"<unk>\"] + [token for token, _ in mostCommon]\n",
    "    wordtoindex = {w: i for i, w in enumerate(indextoword)}\n",
    "\n",
    "    return wordtoindex, indextoword\n",
    "\n",
    "MAX_VOCAB_SIZE = 20000\n",
    "MAX_SEQUENCE_LENGTH = 100\n",
    "\n",
    "wordtoindex, indextoword = vocabularyBuilder(xTrain, vocabsize = MAX_VOCAB_SIZE)\n",
    "vocabSize = len(indextoword)\n",
    "\n",
    "def encodePadFunction(texts: list, wordtoindex: dict, sequenceLength: int = MAX_SEQUENCE_LENGTH) -> np.ndarray:\n",
    "    encodings = []\n",
    "    padIndex = wordtoindex[\"<pad>\"]\n",
    "    unkIndex = wordtoindex[\"<unk>\"]\n",
    "\n",
    "    for t in texts:\n",
    "        tokens = simpleTokenize(t)\n",
    "        tokenIDs = [wordtoindex.get(tok, unkIndex) for tok in tokens]\n",
    "        if len(tokenIDs) > sequenceLength:\n",
    "            tokenIDs = tokenIDs[:sequenceLength]\n",
    "        else:\n",
    "            tokenIDs = tokenIDs + [padIndex] * (sequenceLength - len(tokenIDs))\n",
    "        encodings.append(tokenIDs)\n",
    "\n",
    "    return np.array(encodings, dtype = np.int64)"
   ]
  },
  {
   "cell_type": "code",
   "execution_count": 15,
   "id": "f697cc94",
   "metadata": {},
   "outputs": [],
   "source": [
    "trainEncode = encodePadFunction(xTrain, wordtoindex, sequenceLength = MAX_SEQUENCE_LENGTH)\n",
    "valEncode = encodePadFunction(xVal, wordtoindex, sequenceLength = MAX_SEQUENCE_LENGTH)"
   ]
  },
  {
   "cell_type": "code",
   "execution_count": 16,
   "id": "6deb6e7e",
   "metadata": {},
   "outputs": [],
   "source": [
    "class feedforwardNeuralNetwork(nn.Module):\n",
    "    def __init__(\n",
    "            self,\n",
    "            vocabSize: int,\n",
    "            embeddingDim: int,\n",
    "            hiddenUnit1: int,\n",
    "            hiddenUnit2: int,\n",
    "            dropoutRate: float,\n",
    "            numLabels: int,\n",
    "            padIndex: int\n",
    "        ) -> None:\n",
    "        super().__init__()\n",
    "        self.embedding = nn.Embedding(vocabSize, embeddingDim, padding_idx = padIndex)\n",
    "        self.dropout1 = nn.Dropout(dropoutRate)\n",
    "        self.fc1 = nn.Linear(embeddingDim, hiddenUnit1)\n",
    "        self.bn1 = nn.BatchNorm1d(hiddenUnit1)\n",
    "        self.relu = nn.ReLU()\n",
    "        self.dropout2 = nn.Dropout(dropoutRate)\n",
    "        self.fc2 = nn.Linear(hiddenUnit1, hiddenUnit2)\n",
    "        self.bn2 = nn.BatchNorm1d(hiddenUnit2)\n",
    "        self.dropout3 = nn.Dropout(dropoutRate)\n",
    "        self.fc_out = nn.Linear(hiddenUnit2, numLabels)\n",
    "\n",
    "    def forward(self, x):\n",
    "        emb = self.embedding(x)             \n",
    "        avgEmb = emb.mean(dim = 1) \n",
    "        h1 = self.fc1(avgEmb)\n",
    "        h1 = self.bn1(h1)\n",
    "        h1 = self.relu(h1)\n",
    "        h1 = self.dropout2(h1)\n",
    "        h2 = self.fc2(h1)\n",
    "        h2 = self.bn2(h2)\n",
    "        h2 = self.relu(h2)\n",
    "        h2 = self.dropout3(h2)\n",
    "        return self.fc_out(h2)"
   ]
  },
  {
   "cell_type": "code",
   "execution_count": 17,
   "id": "87c28119",
   "metadata": {},
   "outputs": [],
   "source": [
    "class LSTMClassifier(nn.Module):\n",
    "    def __init__(\n",
    "        self,\n",
    "        vocabSize: int,\n",
    "        embeddingDim: int,\n",
    "        hiddenDim: int,\n",
    "        rnnLayers: int,\n",
    "        bidirectional: bool,\n",
    "        dropoutRate: float,\n",
    "        denseUnits: int,\n",
    "        numLabels: int,\n",
    "        padIndex: int,\n",
    "        useAttention: bool = False,\n",
    "    ) -> None:\n",
    "        super().__init__()\n",
    "\n",
    "        self.conv1d = nn.Conv1d(\n",
    "            in_channels = embeddingDim,\n",
    "            out_channels = embeddingDim,\n",
    "            kernel_size = 5,\n",
    "            padding = 2\n",
    "        )\n",
    "        self.relu_cnn = nn.ReLU()\n",
    "        self.pool = nn.MaxPool1d(kernel_size = 2)\n",
    "\n",
    "        self.embedding = nn.Embedding(vocabSize, embeddingDim, padding_idx = padIndex)\n",
    "        self.dropout_emb = nn.Dropout(dropoutRate)\n",
    "        self.lstm = nn.LSTM(\n",
    "            input_size = embeddingDim,\n",
    "            hidden_size = hiddenDim,\n",
    "            num_layers = rnnLayers,\n",
    "            bidirectional = bidirectional,\n",
    "            batch_first = True,\n",
    "            dropout = dropoutRate if rnnLayers > 1 else 0.0\n",
    "        )\n",
    "\n",
    "        self.use_attention = useAttention\n",
    "        directionFactor = 2 if bidirectional else 1\n",
    "        if useAttention:\n",
    "            self.attn_linear = nn.Linear(hiddenDim * directionFactor, hiddenDim * directionFactor)\n",
    "            self.attn_v = nn.Linear(hiddenDim * directionFactor, 1, bias = False)\n",
    "\n",
    "        self.fc1 = nn.Linear(hiddenDim * directionFactor, denseUnits)\n",
    "        self.bn1 = nn.BatchNorm1d(denseUnits)\n",
    "        self.relu = nn.ReLU()\n",
    "        self.dropoutFc = nn.Dropout(dropoutRate)\n",
    "        self.output_layer = nn.Linear(denseUnits, numLabels)\n",
    "\n",
    "    def forward(self, x: torch.LongTensor) -> Tensor:\n",
    "        pad_idx = self.embedding.padding_idx\n",
    "        lengths = (x != pad_idx).sum(dim = 1)\n",
    "        lengths = torch.clamp(lengths, min = 1)\n",
    "\n",
    "        embTensor: Tensor = self.embedding(x)  # type: ignore\n",
    "        embTensor = self.dropout_emb(embTensor)   #type: ignore\n",
    "\n",
    "        c_in = embTensor.transpose(1, 2)              \n",
    "        c_out = self.relu_cnn(self.conv1d(c_in))\n",
    "        c_out = self.pool(c_out)\n",
    "\n",
    "        rnn_in = c_out.transpose(1, 2)\n",
    "        lengths = torch.clamp(lengths // 2, min = 1)\n",
    "\n",
    "        packed = pack_padded_sequence(rnn_in, lengths.cpu(), batch_first = True, enforce_sorted = False)\n",
    "        rnnOut, _ = self.lstm(packed)\n",
    "        rnnOut, _ = pad_packed_sequence(rnnOut, batch_first = True)\n",
    "\n",
    "        if self.use_attention:\n",
    "            scores = torch.tanh(self.attn_linear(rnnOut))\n",
    "            weights = torch.softmax(self.attn_v(scores), dim = 1)\n",
    "            finalFeat = (weights * rnnOut).sum(dim = 1)\n",
    "        else:\n",
    "            idx = torch.arange(x.size(0), device = x.device)\n",
    "            finalFeat = rnnOut[idx, lengths - 1]\n",
    "\n",
    "        h: Tensor = self.fc1(finalFeat) #type: ignore\n",
    "        h = self.bn1(h)\n",
    "        h = self.relu(h)\n",
    "        h = self.dropoutFc(h)  #type: ignore\n",
    "        logits: Tensor = self.output_layer(h)   #type: ignore\n",
    "        return logits"
   ]
  },
  {
   "cell_type": "code",
   "execution_count": 18,
   "id": "bacd4380",
   "metadata": {},
   "outputs": [],
   "source": [
    "class GRUClassifier(nn.Module):\n",
    "    def __init__(\n",
    "        self,\n",
    "        vocabSize: int,\n",
    "        embeddingDim: int,\n",
    "        hiddenDim: int,\n",
    "        rnnLayers: int,\n",
    "        bidirectional: bool,\n",
    "        dropoutRate: float,\n",
    "        denseUnits: int,\n",
    "        numLabels: int,\n",
    "        padIndex: int,\n",
    "        useAttention: bool = False\n",
    "    ):\n",
    "        super().__init__()\n",
    "\n",
    "        self.conv1d = nn.Conv1d(\n",
    "            in_channels = embeddingDim,\n",
    "            out_channels = embeddingDim,\n",
    "            kernel_size = 5,\n",
    "            padding = 2\n",
    "        )\n",
    "        self.relu_cnn = nn.ReLU()\n",
    "        self.pool = nn.MaxPool1d(kernel_size = 2)\n",
    "\n",
    "        self.embedding: nn.Embedding = nn.Embedding(vocabSize, embeddingDim, padding_idx = padIndex)\n",
    "        self.dropout_emb: nn.Dropout = nn.Dropout(dropoutRate)\n",
    "        self.gru: nn.GRU = nn.GRU(\n",
    "            input_size = embeddingDim,\n",
    "            hidden_size = hiddenDim,\n",
    "            num_layers = rnnLayers,\n",
    "            bidirectional = bidirectional,\n",
    "            batch_first = True,\n",
    "            dropout = dropoutRate if rnnLayers > 1 else 0.0\n",
    "        )\n",
    "\n",
    "        self.use_attention: bool = useAttention\n",
    "        factor = 2 if bidirectional else 1\n",
    "        if useAttention:\n",
    "            self.attn_linear: nn.Linear = nn.Linear(hiddenDim * factor, hiddenDim * factor)\n",
    "            self.attn_v: nn.Linear = nn.Linear(hiddenDim * factor, 1, bias = False)\n",
    "\n",
    "        self.fc1: nn.Linear = nn.Linear(hiddenDim * factor, denseUnits)\n",
    "        self.bn1: nn.BatchNorm1d = nn.BatchNorm1d(denseUnits)\n",
    "        self.relu: nn.ReLU = nn.ReLU()\n",
    "        self.dropout_fc: nn.Dropout = nn.Dropout(dropoutRate)\n",
    "        self.output_layer: nn.Linear = nn.Linear(denseUnits, numLabels)\n",
    "\n",
    "    def forward(self, x: torch.LongTensor) -> Tensor:\n",
    "        lengths = (x != self.embedding.padding_idx).sum(dim = 1)\n",
    "        lengths = torch.clamp(lengths, min = 1)\n",
    "\n",
    "        emb = self.dropout_emb(self.embedding(x))\n",
    "\n",
    "        c_in = emb.transpose(1, 2)\n",
    "        c_out = self.relu_cnn(self.conv1d(c_in))\n",
    "        c_out = self.pool(c_out)\n",
    "\n",
    "        rnn_in = c_out.transpose(1, 2)\n",
    "        lengths = torch.clamp(lengths // 2, min = 1)\n",
    "\n",
    "        packed = pack_padded_sequence(rnn_in, lengths.cpu(), batch_first = True, enforce_sorted = False)\n",
    "        rnnOut, _ = self.gru(packed)\n",
    "        rnnOut, _ = pad_packed_sequence(rnnOut, batch_first = True)\n",
    "\n",
    "        if self.use_attention:\n",
    "            scores = torch.tanh(self.attn_linear(rnnOut))\n",
    "            weights = torch.softmax(self.attn_v(scores), dim = 1)\n",
    "            finalFeat = (weights * rnnOut).sum(dim = 1)\n",
    "        else:\n",
    "            idx = torch.arange(x.size(0), device = x.device)\n",
    "            finalFeat = rnnOut[idx, lengths - 1]\n",
    "\n",
    "        h: Tensor = self.fc1(finalFeat)\n",
    "        h = self.bn1(h)\n",
    "        h = self.relu(h)\n",
    "        h = self.dropout_fc(h)\n",
    "        logits: Tensor = self.output_layer(h)\n",
    "        return logits"
   ]
  },
  {
   "cell_type": "code",
   "execution_count": 19,
   "id": "24d69fe8",
   "metadata": {},
   "outputs": [],
   "source": [
    "class metric_calc():\n",
    "\n",
    "    def __init__(self, confusion_mat, log_level, title) -> None:\n",
    "        self.confusion_mat = confusion_mat\n",
    "        self.log_level = log_level\n",
    "        self.title = title\n",
    "        self.accuracy_list = []\n",
    "\n",
    "    def accuracy(self, tp, tn, fp, fn):\n",
    "        return (tp + tn) / (tp + tn + fp + fn)\n",
    "\n",
    "    def precision(self, tp, fp):\n",
    "        return tp / (tp + fp)\n",
    "\n",
    "    def recall(self, tp, fn):\n",
    "        return tp / (tp + fn)\n",
    "\n",
    "    def f1_score(self, tp,fp,fn):\n",
    "        precision_val = self.precision(tp,fp)\n",
    "        recall_val = self.recall(tp,fn)\n",
    "        return 2 * (precision_val * recall_val) / (precision_val + recall_val)\n",
    "\n",
    "    def print_eval(self, title, accuracy, precision, recall, f1_score):\n",
    "        print(f\"{title}\\n\")\n",
    "        print(f\"accuracy: {round(accuracy,4)}\")\n",
    "        print(f\"precision: {round(precision,4)}\")\n",
    "        print(f\"recall: {round(recall,4)}\")\n",
    "        print(f\"f1 Score: {round(f1_score,4)}\")\n",
    "        print(\"=======\\n\")\n",
    "        self.accuracy_list.append(accuracy)\n",
    "\n",
    "\n",
    "    def present_data(self):\n",
    "        total_accuracy = 0\n",
    "        total_precision = 0\n",
    "        total_recall = 0\n",
    "        total_f1_score = 0\n",
    "\n",
    "        for i in range(0, len(self.confusion_mat)):\n",
    "            tp, fp = self.confusion_mat[i][0]\n",
    "            fn, tn = self.confusion_mat[i][1]\n",
    "\n",
    "            accuracy_val = self.accuracy(tp, tn, fp, fn)\n",
    "            precision_val = self.precision(tp, fp)\n",
    "            recall_val = self.recall(tp, fn)\n",
    "            f1_score_val = self.f1_score(tp, fp, fn)\n",
    "\n",
    "            total_accuracy += accuracy_val\n",
    "            total_precision += precision_val\n",
    "            total_recall += recall_val\n",
    "            total_f1_score += f1_score_val\n",
    "\n",
    "            if(self.log_level == \"emotions\"):\n",
    "                self.print_eval(\n",
    "                f\"Emotion: {labelColumns[i]}\",\n",
    "                    accuracy_val,\n",
    "                    precision_val,\n",
    "                    recall_val,\n",
    "                    f1_score_val,\n",
    "                )\n",
    "\n",
    "        avg_accuracy = total_accuracy / len(self.confusion_mat)\n",
    "        avg_precision = total_precision / len(self.confusion_mat)\n",
    "        avg_recall = total_recall / len(self.confusion_mat)\n",
    "        avg_f1_score = total_f1_score / len(self.confusion_mat)\n",
    "\n",
    "        if(self.log_level==\"macro\"):\n",
    "            self.print_eval(\"Macro Average:\", avg_accuracy, avg_precision, avg_recall, avg_f1_score)"
   ]
  },
  {
   "cell_type": "code",
   "execution_count": 20,
   "id": "c7f02916",
   "metadata": {},
   "outputs": [],
   "source": [
    "def predictFNN(csvFile: str):\n",
    "    df = pd.read_csv(csvFile)\n",
    "    texts = df[\"text\"].astype(str).apply(cleanerFunction).tolist()\n",
    "    \n",
    "    ckpt = torch.load(\"savedModel/ffnn.pth\", map_location = \"cpu\")\n",
    "    sd = ckpt[\"model_state_dict\"]\n",
    "    w2i = ckpt[\"wordtoindex\"]\n",
    "    padIndex = ckpt[\"padIndex\"]\n",
    "    maxseqlen = ckpt[\"max_sequence_length\"]\n",
    "\n",
    "    vocabSize, embeddingDim = sd[\"embedding.weight\"].shape\n",
    "    hiddenUnit1 = sd[\"fc1.weight\"].shape[0]\n",
    "    hiddenUnit2 = sd[\"fc2.weight\"].shape[0]\n",
    "    \n",
    "    model = feedforwardNeuralNetwork(\n",
    "        vocabSize = vocabSize,\n",
    "        embeddingDim = embeddingDim,\n",
    "        hiddenUnit1 = hiddenUnit1,\n",
    "        hiddenUnit2 = hiddenUnit2,\n",
    "        dropoutRate = 0.0,\n",
    "        numLabels = numLabels,\n",
    "        padIndex = padIndex\n",
    "    )\n",
    "    model.load_state_dict(sd)\n",
    "    model.eval()\n",
    "\n",
    "    x = encodePadFunction(texts, w2i, maxseqlen)\n",
    "    xTensor = torch.from_numpy(x)\n",
    "\n",
    "    with torch.no_grad():\n",
    "        logits = model(xTensor)\n",
    "        probs = torch.sigmoid(logits)\n",
    "        preds = (probs >= 0.5).long()\n",
    "    return preds.tolist()  \n"
   ]
  },
  {
   "cell_type": "code",
   "execution_count": 21,
   "id": "5c9fa145",
   "metadata": {},
   "outputs": [],
   "source": [
    "def predictLSTM(csv_path: str):\n",
    "    df = pd.read_csv(csv_path)\n",
    "    texts = df[\"text\"].astype(str).apply(cleanerFunction).tolist()\n",
    "\n",
    "    ckpt = torch.load(\"savedModel/rnnLSTM.pth\", map_location = \"cpu\", weights_only = False)\n",
    "    sd = ckpt[\"model_state_dict\"]\n",
    "    w2i = ckpt[\"wordtoindex\"]\n",
    "    pad = ckpt[\"padIndex\"]\n",
    "    maxseqlen = ckpt[\"max_sequence_length\"]\n",
    "    hp = ckpt[\"hyperparameters\"]\n",
    "\n",
    "    vocabSize, embeddingDim = sd[\"embedding.weight\"].shape\n",
    "    numLabels = sd[\"output_layer.weight\"].shape[0]\n",
    "    denseUnits, inFeat = sd[\"fc1.weight\"].shape\n",
    "    factor = 2 if hp[\"lstm_bidirectional\"] else 1\n",
    "    hiddenDim = inFeat // factor\n",
    "\n",
    "    bidirectional = hp[\"lstm_bidirectional\"]\n",
    "    useAttention = hp[\"lstm_useAttention\"]\n",
    "\n",
    "    model = LSTMClassifier(\n",
    "        vocabSize, \n",
    "        embeddingDim,\n",
    "        hiddenDim,\n",
    "        rnnLayers = 1,\n",
    "        bidirectional = bidirectional,\n",
    "        dropoutRate = 0.0,\n",
    "        denseUnits = denseUnits,\n",
    "        numLabels = numLabels,\n",
    "        padIndex = pad,\n",
    "        useAttention = useAttention\n",
    "    )\n",
    "    model.load_state_dict(sd, strict = False)\n",
    "    model.eval()\n",
    "\n",
    "    x = encodePadFunction(texts, w2i, maxseqlen)\n",
    "    xTensor = torch.from_numpy(x)\n",
    "\n",
    "    with torch.no_grad():\n",
    "        logits = model(xTensor)\n",
    "        probs = torch.sigmoid(logits)\n",
    "    \n",
    "    preds = (probs >= 0.5).int()\n",
    "    return preds.tolist()  "
   ]
  },
  {
   "cell_type": "code",
   "execution_count": 22,
   "id": "c15a5e2b",
   "metadata": {},
   "outputs": [],
   "source": [
    "def predictGRU(csv_path: str):\n",
    "    df = pd.read_csv(csv_path)\n",
    "    texts = df[\"text\"].astype(str).apply(cleanerFunction).tolist()\n",
    "\n",
    "    ckpt = torch.load(\"savedModel/rnnGRU.pth\", map_location = \"cpu\", weights_only = False)\n",
    "    sd = ckpt[\"model_state_dict\"]\n",
    "    w2i = ckpt[\"wordtoindex\"]\n",
    "    pad = ckpt[\"padIndex\"]\n",
    "    maxseqlen = ckpt[\"max_sequence_length\"]\n",
    "    hp = ckpt[\"hyperparameters\"]\n",
    "\n",
    "    vocabSize, embeddingDim = sd[\"embedding.weight\"].shape\n",
    "    numLabels = sd[\"output_layer.weight\"].shape[0]\n",
    "    denseUnits, inFeat = sd[\"fc1.weight\"].shape\n",
    "\n",
    "    bidirectional = hp[\"gru_bidirectional\"]\n",
    "    useAttention  = hp[\"gru_attn\"]\n",
    "    rnnLayers = hp[\"gru_layers\"]\n",
    "\n",
    "    factor = 2 if bidirectional else 1\n",
    "    hiddenDim = inFeat // factor\n",
    "\n",
    "    model = GRUClassifier(\n",
    "        vocabSize, \n",
    "        embeddingDim,\n",
    "        hiddenDim,\n",
    "        rnnLayers = rnnLayers,\n",
    "        bidirectional = bidirectional,\n",
    "        dropoutRate = 0.0,\n",
    "        denseUnits = denseUnits,\n",
    "        numLabels = numLabels,\n",
    "        padIndex = pad,\n",
    "        useAttention = useAttention\n",
    "    )\n",
    "    model.load_state_dict(sd)\n",
    "    model.eval()\n",
    "\n",
    "    x = encodePadFunction(texts, w2i, maxseqlen)\n",
    "    xTensor = torch.from_numpy(x)\n",
    "\n",
    "    with torch.no_grad():\n",
    "        logits = model(xTensor)\n",
    "        probs = torch.sigmoid(logits)\n",
    "\n",
    "    preds = (probs >= 0.5).int()\n",
    "    return preds.tolist()   "
   ]
  },
  {
   "cell_type": "code",
   "execution_count": 32,
   "id": "9e79163c",
   "metadata": {},
   "outputs": [],
   "source": [
    "def evaluate_nn(csvPath: str, pred, predname):\n",
    "    df = pd.read_csv(csvPath)\n",
    "    label_cols = [\"anger\", \"fear\", \"joy\", \"sadness\", \"surprise\"]\n",
    "    acc_list = []\n",
    "    yTrue = df[label_cols].values.astype(int)\n",
    "\n",
    "    yPred = np.array(pred(csvPath), dtype = int)\n",
    "\n",
    "    hammingAccuracy = (yPred == yTrue).mean()\n",
    "\n",
    "    labelAccuracy = (yPred == yTrue).mean(axis = 0)\n",
    "\n",
    "    print(f\"\\nMetrics from {predname}\")\n",
    "\n",
    "    print(f\"Hamming Accuracy : {hammingAccuracy:.4f}\")\n",
    "    for label, acc in zip(label_cols, labelAccuracy):\n",
    "        print(f\"{label:10s} Accuracy : {acc:.4f}\")\n",
    "        acc_list.append(acc)\n",
    "\n",
    "    return acc_list, hammingAccuracy"
   ]
  },
  {
   "cell_type": "code",
   "execution_count": 24,
   "id": "2bca8890",
   "metadata": {},
   "outputs": [],
   "source": [
    "def evaluate_rfc(csvPath: str, log_level: str):\n",
    "    rfcModel = joblib.load(\"savedModel/rfcmodel.joblib\")\n",
    "    df = pd.read_csv(csvPath)\n",
    "    \n",
    "    if(log_level == \"emotions\"): \n",
    "        title = \"Emotion: {labelColumns[i]}\"\n",
    "    elif(log_level == \"macro\"):\n",
    "        title = \"Macro Average:\"\n",
    "    else:\n",
    "        raise Exception(\"Invalid log level\")\n",
    "\n",
    "    x_texts = df['text']\n",
    "    vectorizer = CountVectorizer()\n",
    "    x_texts_vec = vectorizer.fit_transform(x_texts)\n",
    "    \n",
    "    y_actual = df[label_columns].values.astype(int)\n",
    "\n",
    "    x_train_text, x_test_text, y_train_labels, y_test_labels = train_test_split(x_texts_vec, y_actual, test_size = 0.1)\n",
    "\n",
    "    rfcModel.fit(x_train_text, y_train_labels)\n",
    "    y_pred = rfcModel.predict(x_test_text)\n",
    "\n",
    "    confusion_mat = multilabel_confusion_matrix(y_test_labels, y_pred)\n",
    "\n",
    "    print(\"\\nMetrics from Random Forest Classifier:\")\n",
    "    rfc_metric = metric_calc(confusion_mat, log_level, title)\n",
    "    rfc_metric.present_data()\n",
    "\n",
    "    return rfc_metric"
   ]
  },
  {
   "cell_type": "code",
   "execution_count": 25,
   "id": "358c847c",
   "metadata": {},
   "outputs": [],
   "source": [
    "def evaluate_svm(csvPath: str, log_level: str):\n",
    "    clf_path = os.path.join(\"savedModel\", \"svm_model.joblib\")\n",
    "    vec_path = os.path.join(\"savedModel\", \"vectorizer.joblib\")\n",
    "    clf = joblib.load(clf_path)\n",
    "    vectorizer = joblib.load(vec_path)\n",
    "  \n",
    "    df = pd.read_csv(csvPath)\n",
    "    if 'text' not in df.columns:\n",
    "        raise ValueError(\"Input CSV must have a 'text' column.\")\n",
    "    \n",
    "    if(log_level == \"emotions\"): \n",
    "        title = \"Emotion: {labelColumns[i]}\"\n",
    "    elif(log_level == \"macro\"):\n",
    "        title = \"Macro Average:\"\n",
    "    else:\n",
    "        raise Exception(\"Invalid log level\")\n",
    "\n",
    "    df['clean_text'] = df['text'].fillna('').apply(clean_text_svm)\n",
    "\n",
    "    x_test = vectorizer.transform(df['clean_text'])\n",
    "    y_true = df[label_columns].astype(int)\n",
    "\n",
    "    preds = clf.predict(x_test)\n",
    "    preds = preds.astype(int).tolist()\n",
    "\n",
    "    confusion_mat = multilabel_confusion_matrix(y_true, preds)\n",
    "    \n",
    "    print(\"\\nMetrics from Support Vector Machine:\")\n",
    "    svm_metric = metric_calc(confusion_mat, log_level, title)\n",
    "    svm_metric.present_data()\n",
    "\n",
    "    return svm_metric"
   ]
  },
  {
   "cell_type": "code",
   "execution_count": 26,
   "id": "92d63b9c",
   "metadata": {},
   "outputs": [],
   "source": [
    "warnings.filterwarnings(\"ignore\", category = InconsistentVersionWarning)"
   ]
  },
  {
   "cell_type": "code",
   "execution_count": 27,
   "id": "3af17623",
   "metadata": {},
   "outputs": [],
   "source": [
    "testfile = os.path.join(\"Data\", \"track-a-test-large.csv\")"
   ]
  },
  {
   "cell_type": "code",
   "execution_count": 41,
   "id": "ada5b8f8",
   "metadata": {},
   "outputs": [],
   "source": [
    "def label_plotter(fnn_val, gru_val, lstm_val, rfc_val, svm_val):\n",
    "    model_names = [\"Neural Network: Feed Forward\",\"Neural Network: LSTM\",\"Neural Network: GRU\", \"Random Forest Classifier\", \"Support Vector Machine\"]\n",
    "    label_names = [\"anger\",\"fear\",\"joy\",\"sadness\",\"surprise\"]\n",
    "\n",
    "    z_values = np.stack([fnn_val, lstm_val, gru_val, rfc_val, svm_val], axis = 1)\n",
    "\n",
    "    x_values = np.arange(len(model_names))\n",
    "    y_values = np.arange(len(label_names))\n",
    "\n",
    "    fig = go.Figure(\n",
    "        data = go.Surface(\n",
    "            x = x_values,\n",
    "            y = y_values,\n",
    "            z = z_values,\n",
    "            colorscale = \"Viridis\"\n",
    "        )\n",
    "    )\n",
    "\n",
    "    fig.update_layout(\n",
    "        title = \"Model vs Label Metric Surface\",\n",
    "        scene = dict(\n",
    "            xaxis = dict(\n",
    "                tickmode = \"array\",\n",
    "                tickvals = x_values,\n",
    "                ticktext = model_names,\n",
    "                title = \"Model\"\n",
    "            ),\n",
    "            yaxis = dict(\n",
    "                tickmode = \"array\",\n",
    "                tickvals = y_values,\n",
    "                ticktext = label_names,\n",
    "                title = \"Label\"\n",
    "            ),\n",
    "            zaxis = dict(title = \"Accuracy\")\n",
    "        ),\n",
    "        width = 800,\n",
    "        height = 800,\n",
    "        margin = dict(l = 50, r = 50, b = 50, t = 50)\n",
    "    )\n",
    "\n",
    "    fig.show()"
   ]
  },
  {
   "cell_type": "code",
   "execution_count": 30,
   "id": "a11f8660",
   "metadata": {},
   "outputs": [],
   "source": [
    "def predict():\n",
    "    rfc_val = evaluate_rfc(testfile, \"emotions\")\n",
    "    fnn_val, fnn_total_acc = evaluate_nn(testfile, predictFNN, \"FNN\")\n",
    "    gru_val, gru_total_acc = evaluate_nn(testfile, predictGRU, \"GRU\")\n",
    "    lstm_val, lstm_total_acc = evaluate_nn(testfile, predictLSTM, \"LSTM\")\n",
    "    svm_val = evaluate_svm(testfile, \"emotions\")\n",
    "\n",
    "    return rfc_val, fnn_val, gru_val, lstm_val, svm_val"
   ]
  },
  {
   "cell_type": "code",
   "execution_count": 33,
   "id": "5ec3aa0c",
   "metadata": {},
   "outputs": [
    {
     "name": "stdout",
     "output_type": "stream",
     "text": [
      "\n",
      "Metrics from Random Forest Classifier:\n",
      "Emotion: anger\n",
      "\n",
      "accuracy: 0.8\n",
      "precision: 0.9512\n",
      "recall: 0.8298\n",
      "f1 Score: 0.8864\n",
      "=======\n",
      "\n",
      "Emotion: fear\n",
      "\n",
      "accuracy: 0.78\n",
      "precision: 0.962\n",
      "recall: 0.8\n",
      "f1 Score: 0.8736\n",
      "=======\n",
      "\n",
      "Emotion: joy\n",
      "\n",
      "accuracy: 0.8\n",
      "precision: 0.9753\n",
      "recall: 0.8144\n",
      "f1 Score: 0.8876\n",
      "=======\n",
      "\n",
      "Emotion: sadness\n",
      "\n",
      "accuracy: 0.84\n",
      "precision: 0.9881\n",
      "recall: 0.8469\n",
      "f1 Score: 0.9121\n",
      "=======\n",
      "\n",
      "Emotion: surprise\n",
      "\n",
      "accuracy: 0.71\n",
      "precision: 0.9221\n",
      "recall: 0.7553\n",
      "f1 Score: 0.8304\n",
      "=======\n",
      "\n",
      "\n",
      "Metrics from FNN\n",
      "Hamming Accuracy : 0.7602\n",
      "anger      Accuracy : 0.7870\n",
      "fear       Accuracy : 0.7900\n",
      "joy        Accuracy : 0.6550\n",
      "sadness    Accuracy : 0.8140\n",
      "surprise   Accuracy : 0.7550\n",
      "\n",
      "Metrics from GRU\n",
      "Hamming Accuracy : 0.7934\n",
      "anger      Accuracy : 0.7870\n",
      "fear       Accuracy : 0.7910\n",
      "joy        Accuracy : 0.7880\n",
      "sadness    Accuracy : 0.8140\n",
      "surprise   Accuracy : 0.7870\n",
      "\n",
      "Metrics from LSTM\n",
      "Hamming Accuracy : 0.7934\n",
      "anger      Accuracy : 0.7870\n",
      "fear       Accuracy : 0.7910\n",
      "joy        Accuracy : 0.7880\n",
      "sadness    Accuracy : 0.8140\n",
      "surprise   Accuracy : 0.7870\n",
      "\n",
      "Metrics from Support Vector Machine:\n",
      "Emotion: anger\n",
      "\n",
      "accuracy: 0.755\n",
      "precision: 0.9441\n",
      "recall: 0.7871\n",
      "f1 Score: 0.8585\n",
      "=======\n",
      "\n",
      "Emotion: fear\n",
      "\n",
      "accuracy: 0.715\n",
      "precision: 0.8571\n",
      "recall: 0.7976\n",
      "f1 Score: 0.8263\n",
      "=======\n",
      "\n",
      "Emotion: joy\n",
      "\n",
      "accuracy: 0.553\n",
      "precision: 0.5761\n",
      "recall: 0.8007\n",
      "f1 Score: 0.6701\n",
      "=======\n",
      "\n",
      "Emotion: sadness\n",
      "\n",
      "accuracy: 0.698\n",
      "precision: 0.8231\n",
      "recall: 0.8092\n",
      "f1 Score: 0.8161\n",
      "=======\n",
      "\n",
      "Emotion: surprise\n",
      "\n",
      "accuracy: 0.632\n",
      "precision: 0.7268\n",
      "recall: 0.789\n",
      "f1 Score: 0.7566\n",
      "=======\n",
      "\n"
     ]
    }
   ],
   "source": [
    "rfc_val, fnn_val, gru_val, lstm_val, svm_val = predict()"
   ]
  },
  {
   "cell_type": "code",
   "execution_count": 42,
   "id": "4a6cd7d4",
   "metadata": {},
   "outputs": [
    {
     "data": {
      "application/vnd.plotly.v1+json": {
       "config": {
        "plotlyServerURL": "https://plot.ly"
       },
       "data": [
        {
         "colorscale": [
          [
           0,
           "#440154"
          ],
          [
           0.1111111111111111,
           "#482878"
          ],
          [
           0.2222222222222222,
           "#3e4989"
          ],
          [
           0.3333333333333333,
           "#31688e"
          ],
          [
           0.4444444444444444,
           "#26828e"
          ],
          [
           0.5555555555555556,
           "#1f9e89"
          ],
          [
           0.6666666666666666,
           "#35b779"
          ],
          [
           0.7777777777777778,
           "#6ece58"
          ],
          [
           0.8888888888888888,
           "#b5de2b"
          ],
          [
           1,
           "#fde725"
          ]
         ],
         "type": "surface",
         "x": {
          "bdata": "AAECAwQ=",
          "dtype": "i1"
         },
         "y": {
          "bdata": "AAECAwQ=",
          "dtype": "i1"
         },
         "z": {
          "bdata": "yXa+nxov6T/Jdr6fGi/pP8l2vp8aL+k/mpmZmZmZ6T8pXI/C9SjoP0jhehSuR+k/HVpkO99P6T8dWmQ730/pP/YoXI/C9eg/4XoUrkfh5j/2KFyPwvXkP57vp8ZLN+k/nu+nxks36T+amZmZmZnpPxkEVg4tsuE/PzVeukkM6j8/NV66SQzqPz81XrpJDOo/4XoUrkfh6j+8dJMYBFbmPylcj8L1KOg/yXa+nxov6T/Jdr6fGi/pP7gehetRuOY/001iEFg55D8=",
          "dtype": "f8",
          "shape": "5, 5"
         }
        }
       ],
       "layout": {
        "height": 800,
        "margin": {
         "b": 50,
         "l": 50,
         "r": 50,
         "t": 50
        },
        "scene": {
         "xaxis": {
          "tickmode": "array",
          "ticktext": [
           "Neural Network: Feed Forward",
           "Neural Network: LSTM",
           "Neural Network: GRU",
           "Random Forest Classifier",
           "Support Vector Machine"
          ],
          "tickvals": {
           "bdata": "AAECAwQ=",
           "dtype": "i1"
          },
          "title": {
           "text": "Model"
          }
         },
         "yaxis": {
          "tickmode": "array",
          "ticktext": [
           "anger",
           "fear",
           "joy",
           "sadness",
           "surprise"
          ],
          "tickvals": {
           "bdata": "AAECAwQ=",
           "dtype": "i1"
          },
          "title": {
           "text": "Label"
          }
         },
         "zaxis": {
          "title": {
           "text": "Accuracy"
          }
         }
        },
        "template": {
         "data": {
          "bar": [
           {
            "error_x": {
             "color": "#2a3f5f"
            },
            "error_y": {
             "color": "#2a3f5f"
            },
            "marker": {
             "line": {
              "color": "#E5ECF6",
              "width": 0.5
             },
             "pattern": {
              "fillmode": "overlay",
              "size": 10,
              "solidity": 0.2
             }
            },
            "type": "bar"
           }
          ],
          "barpolar": [
           {
            "marker": {
             "line": {
              "color": "#E5ECF6",
              "width": 0.5
             },
             "pattern": {
              "fillmode": "overlay",
              "size": 10,
              "solidity": 0.2
             }
            },
            "type": "barpolar"
           }
          ],
          "carpet": [
           {
            "aaxis": {
             "endlinecolor": "#2a3f5f",
             "gridcolor": "white",
             "linecolor": "white",
             "minorgridcolor": "white",
             "startlinecolor": "#2a3f5f"
            },
            "baxis": {
             "endlinecolor": "#2a3f5f",
             "gridcolor": "white",
             "linecolor": "white",
             "minorgridcolor": "white",
             "startlinecolor": "#2a3f5f"
            },
            "type": "carpet"
           }
          ],
          "choropleth": [
           {
            "colorbar": {
             "outlinewidth": 0,
             "ticks": ""
            },
            "type": "choropleth"
           }
          ],
          "contour": [
           {
            "colorbar": {
             "outlinewidth": 0,
             "ticks": ""
            },
            "colorscale": [
             [
              0,
              "#0d0887"
             ],
             [
              0.1111111111111111,
              "#46039f"
             ],
             [
              0.2222222222222222,
              "#7201a8"
             ],
             [
              0.3333333333333333,
              "#9c179e"
             ],
             [
              0.4444444444444444,
              "#bd3786"
             ],
             [
              0.5555555555555556,
              "#d8576b"
             ],
             [
              0.6666666666666666,
              "#ed7953"
             ],
             [
              0.7777777777777778,
              "#fb9f3a"
             ],
             [
              0.8888888888888888,
              "#fdca26"
             ],
             [
              1,
              "#f0f921"
             ]
            ],
            "type": "contour"
           }
          ],
          "contourcarpet": [
           {
            "colorbar": {
             "outlinewidth": 0,
             "ticks": ""
            },
            "type": "contourcarpet"
           }
          ],
          "heatmap": [
           {
            "colorbar": {
             "outlinewidth": 0,
             "ticks": ""
            },
            "colorscale": [
             [
              0,
              "#0d0887"
             ],
             [
              0.1111111111111111,
              "#46039f"
             ],
             [
              0.2222222222222222,
              "#7201a8"
             ],
             [
              0.3333333333333333,
              "#9c179e"
             ],
             [
              0.4444444444444444,
              "#bd3786"
             ],
             [
              0.5555555555555556,
              "#d8576b"
             ],
             [
              0.6666666666666666,
              "#ed7953"
             ],
             [
              0.7777777777777778,
              "#fb9f3a"
             ],
             [
              0.8888888888888888,
              "#fdca26"
             ],
             [
              1,
              "#f0f921"
             ]
            ],
            "type": "heatmap"
           }
          ],
          "histogram": [
           {
            "marker": {
             "pattern": {
              "fillmode": "overlay",
              "size": 10,
              "solidity": 0.2
             }
            },
            "type": "histogram"
           }
          ],
          "histogram2d": [
           {
            "colorbar": {
             "outlinewidth": 0,
             "ticks": ""
            },
            "colorscale": [
             [
              0,
              "#0d0887"
             ],
             [
              0.1111111111111111,
              "#46039f"
             ],
             [
              0.2222222222222222,
              "#7201a8"
             ],
             [
              0.3333333333333333,
              "#9c179e"
             ],
             [
              0.4444444444444444,
              "#bd3786"
             ],
             [
              0.5555555555555556,
              "#d8576b"
             ],
             [
              0.6666666666666666,
              "#ed7953"
             ],
             [
              0.7777777777777778,
              "#fb9f3a"
             ],
             [
              0.8888888888888888,
              "#fdca26"
             ],
             [
              1,
              "#f0f921"
             ]
            ],
            "type": "histogram2d"
           }
          ],
          "histogram2dcontour": [
           {
            "colorbar": {
             "outlinewidth": 0,
             "ticks": ""
            },
            "colorscale": [
             [
              0,
              "#0d0887"
             ],
             [
              0.1111111111111111,
              "#46039f"
             ],
             [
              0.2222222222222222,
              "#7201a8"
             ],
             [
              0.3333333333333333,
              "#9c179e"
             ],
             [
              0.4444444444444444,
              "#bd3786"
             ],
             [
              0.5555555555555556,
              "#d8576b"
             ],
             [
              0.6666666666666666,
              "#ed7953"
             ],
             [
              0.7777777777777778,
              "#fb9f3a"
             ],
             [
              0.8888888888888888,
              "#fdca26"
             ],
             [
              1,
              "#f0f921"
             ]
            ],
            "type": "histogram2dcontour"
           }
          ],
          "mesh3d": [
           {
            "colorbar": {
             "outlinewidth": 0,
             "ticks": ""
            },
            "type": "mesh3d"
           }
          ],
          "parcoords": [
           {
            "line": {
             "colorbar": {
              "outlinewidth": 0,
              "ticks": ""
             }
            },
            "type": "parcoords"
           }
          ],
          "pie": [
           {
            "automargin": true,
            "type": "pie"
           }
          ],
          "scatter": [
           {
            "fillpattern": {
             "fillmode": "overlay",
             "size": 10,
             "solidity": 0.2
            },
            "type": "scatter"
           }
          ],
          "scatter3d": [
           {
            "line": {
             "colorbar": {
              "outlinewidth": 0,
              "ticks": ""
             }
            },
            "marker": {
             "colorbar": {
              "outlinewidth": 0,
              "ticks": ""
             }
            },
            "type": "scatter3d"
           }
          ],
          "scattercarpet": [
           {
            "marker": {
             "colorbar": {
              "outlinewidth": 0,
              "ticks": ""
             }
            },
            "type": "scattercarpet"
           }
          ],
          "scattergeo": [
           {
            "marker": {
             "colorbar": {
              "outlinewidth": 0,
              "ticks": ""
             }
            },
            "type": "scattergeo"
           }
          ],
          "scattergl": [
           {
            "marker": {
             "colorbar": {
              "outlinewidth": 0,
              "ticks": ""
             }
            },
            "type": "scattergl"
           }
          ],
          "scattermap": [
           {
            "marker": {
             "colorbar": {
              "outlinewidth": 0,
              "ticks": ""
             }
            },
            "type": "scattermap"
           }
          ],
          "scattermapbox": [
           {
            "marker": {
             "colorbar": {
              "outlinewidth": 0,
              "ticks": ""
             }
            },
            "type": "scattermapbox"
           }
          ],
          "scatterpolar": [
           {
            "marker": {
             "colorbar": {
              "outlinewidth": 0,
              "ticks": ""
             }
            },
            "type": "scatterpolar"
           }
          ],
          "scatterpolargl": [
           {
            "marker": {
             "colorbar": {
              "outlinewidth": 0,
              "ticks": ""
             }
            },
            "type": "scatterpolargl"
           }
          ],
          "scatterternary": [
           {
            "marker": {
             "colorbar": {
              "outlinewidth": 0,
              "ticks": ""
             }
            },
            "type": "scatterternary"
           }
          ],
          "surface": [
           {
            "colorbar": {
             "outlinewidth": 0,
             "ticks": ""
            },
            "colorscale": [
             [
              0,
              "#0d0887"
             ],
             [
              0.1111111111111111,
              "#46039f"
             ],
             [
              0.2222222222222222,
              "#7201a8"
             ],
             [
              0.3333333333333333,
              "#9c179e"
             ],
             [
              0.4444444444444444,
              "#bd3786"
             ],
             [
              0.5555555555555556,
              "#d8576b"
             ],
             [
              0.6666666666666666,
              "#ed7953"
             ],
             [
              0.7777777777777778,
              "#fb9f3a"
             ],
             [
              0.8888888888888888,
              "#fdca26"
             ],
             [
              1,
              "#f0f921"
             ]
            ],
            "type": "surface"
           }
          ],
          "table": [
           {
            "cells": {
             "fill": {
              "color": "#EBF0F8"
             },
             "line": {
              "color": "white"
             }
            },
            "header": {
             "fill": {
              "color": "#C8D4E3"
             },
             "line": {
              "color": "white"
             }
            },
            "type": "table"
           }
          ]
         },
         "layout": {
          "annotationdefaults": {
           "arrowcolor": "#2a3f5f",
           "arrowhead": 0,
           "arrowwidth": 1
          },
          "autotypenumbers": "strict",
          "coloraxis": {
           "colorbar": {
            "outlinewidth": 0,
            "ticks": ""
           }
          },
          "colorscale": {
           "diverging": [
            [
             0,
             "#8e0152"
            ],
            [
             0.1,
             "#c51b7d"
            ],
            [
             0.2,
             "#de77ae"
            ],
            [
             0.3,
             "#f1b6da"
            ],
            [
             0.4,
             "#fde0ef"
            ],
            [
             0.5,
             "#f7f7f7"
            ],
            [
             0.6,
             "#e6f5d0"
            ],
            [
             0.7,
             "#b8e186"
            ],
            [
             0.8,
             "#7fbc41"
            ],
            [
             0.9,
             "#4d9221"
            ],
            [
             1,
             "#276419"
            ]
           ],
           "sequential": [
            [
             0,
             "#0d0887"
            ],
            [
             0.1111111111111111,
             "#46039f"
            ],
            [
             0.2222222222222222,
             "#7201a8"
            ],
            [
             0.3333333333333333,
             "#9c179e"
            ],
            [
             0.4444444444444444,
             "#bd3786"
            ],
            [
             0.5555555555555556,
             "#d8576b"
            ],
            [
             0.6666666666666666,
             "#ed7953"
            ],
            [
             0.7777777777777778,
             "#fb9f3a"
            ],
            [
             0.8888888888888888,
             "#fdca26"
            ],
            [
             1,
             "#f0f921"
            ]
           ],
           "sequentialminus": [
            [
             0,
             "#0d0887"
            ],
            [
             0.1111111111111111,
             "#46039f"
            ],
            [
             0.2222222222222222,
             "#7201a8"
            ],
            [
             0.3333333333333333,
             "#9c179e"
            ],
            [
             0.4444444444444444,
             "#bd3786"
            ],
            [
             0.5555555555555556,
             "#d8576b"
            ],
            [
             0.6666666666666666,
             "#ed7953"
            ],
            [
             0.7777777777777778,
             "#fb9f3a"
            ],
            [
             0.8888888888888888,
             "#fdca26"
            ],
            [
             1,
             "#f0f921"
            ]
           ]
          },
          "colorway": [
           "#636efa",
           "#EF553B",
           "#00cc96",
           "#ab63fa",
           "#FFA15A",
           "#19d3f3",
           "#FF6692",
           "#B6E880",
           "#FF97FF",
           "#FECB52"
          ],
          "font": {
           "color": "#2a3f5f"
          },
          "geo": {
           "bgcolor": "white",
           "lakecolor": "white",
           "landcolor": "#E5ECF6",
           "showlakes": true,
           "showland": true,
           "subunitcolor": "white"
          },
          "hoverlabel": {
           "align": "left"
          },
          "hovermode": "closest",
          "mapbox": {
           "style": "light"
          },
          "paper_bgcolor": "white",
          "plot_bgcolor": "#E5ECF6",
          "polar": {
           "angularaxis": {
            "gridcolor": "white",
            "linecolor": "white",
            "ticks": ""
           },
           "bgcolor": "#E5ECF6",
           "radialaxis": {
            "gridcolor": "white",
            "linecolor": "white",
            "ticks": ""
           }
          },
          "scene": {
           "xaxis": {
            "backgroundcolor": "#E5ECF6",
            "gridcolor": "white",
            "gridwidth": 2,
            "linecolor": "white",
            "showbackground": true,
            "ticks": "",
            "zerolinecolor": "white"
           },
           "yaxis": {
            "backgroundcolor": "#E5ECF6",
            "gridcolor": "white",
            "gridwidth": 2,
            "linecolor": "white",
            "showbackground": true,
            "ticks": "",
            "zerolinecolor": "white"
           },
           "zaxis": {
            "backgroundcolor": "#E5ECF6",
            "gridcolor": "white",
            "gridwidth": 2,
            "linecolor": "white",
            "showbackground": true,
            "ticks": "",
            "zerolinecolor": "white"
           }
          },
          "shapedefaults": {
           "line": {
            "color": "#2a3f5f"
           }
          },
          "ternary": {
           "aaxis": {
            "gridcolor": "white",
            "linecolor": "white",
            "ticks": ""
           },
           "baxis": {
            "gridcolor": "white",
            "linecolor": "white",
            "ticks": ""
           },
           "bgcolor": "#E5ECF6",
           "caxis": {
            "gridcolor": "white",
            "linecolor": "white",
            "ticks": ""
           }
          },
          "title": {
           "x": 0.05
          },
          "xaxis": {
           "automargin": true,
           "gridcolor": "white",
           "linecolor": "white",
           "ticks": "",
           "title": {
            "standoff": 15
           },
           "zerolinecolor": "white",
           "zerolinewidth": 2
          },
          "yaxis": {
           "automargin": true,
           "gridcolor": "white",
           "linecolor": "white",
           "ticks": "",
           "title": {
            "standoff": 15
           },
           "zerolinecolor": "white",
           "zerolinewidth": 2
          }
         }
        },
        "title": {
         "text": "Model vs Label Metric Surface"
        },
        "width": 800
       }
      }
     },
     "metadata": {},
     "output_type": "display_data"
    }
   ],
   "source": [
    "label_plotter(fnn_val, gru_val, lstm_val, rfc_val.accuracy_list, svm_val.accuracy_list)"
   ]
  }
 ],
 "metadata": {
  "kernelspec": {
   "display_name": ".venv",
   "language": "python",
   "name": "python3"
  },
  "language_info": {
   "codemirror_mode": {
    "name": "ipython",
    "version": 3
   },
   "file_extension": ".py",
   "mimetype": "text/x-python",
   "name": "python",
   "nbconvert_exporter": "python",
   "pygments_lexer": "ipython3",
   "version": "3.11.9"
  }
 },
 "nbformat": 4,
 "nbformat_minor": 5
}
