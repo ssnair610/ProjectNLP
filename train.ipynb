{
 "cells": [
  {
   "cell_type": "code",
   "execution_count": 1,
   "id": "3d1ff056",
   "metadata": {},
   "outputs": [],
   "source": [
    "import spacy\n",
    "import numpy\n",
    "import pandas as pd\n",
    "import string"
   ]
  },
  {
   "cell_type": "code",
   "execution_count": 2,
   "id": "9bb3b791",
   "metadata": {},
   "outputs": [],
   "source": [
    "dataPath = \"Data\\\\track-a.csv\""
   ]
  },
  {
   "cell_type": "code",
   "execution_count": 3,
   "id": "fe28511b",
   "metadata": {},
   "outputs": [],
   "source": [
    "dataFrame = pd.read_csv(dataPath)"
   ]
  },
  {
   "cell_type": "code",
   "execution_count": 4,
   "id": "34521e02",
   "metadata": {},
   "outputs": [],
   "source": [
    "nlpModel = spacy.load(\"en_core_web_sm\", disable=[\"parser\",\"ner\"])"
   ]
  },
  {
   "cell_type": "code",
   "execution_count": 5,
   "id": "75bc303c",
   "metadata": {},
   "outputs": [],
   "source": [
    "def cleanerFunction(text):\n",
    "    tempDoc = nlpModel(text)\n",
    "    token = [\n",
    "        tok.lemma_.lower()\n",
    "        for tok in tempDoc\n",
    "        if not tok.is_stop and not tok.is_punct and tok.lemma_ != \"-PRON-\"\n",
    "    ]\n",
    "    return \" \".join(token)"
   ]
  },
  {
   "cell_type": "code",
   "execution_count": 6,
   "id": "0f22031c",
   "metadata": {},
   "outputs": [],
   "source": [
    "dataFrame[\"Spacy_text\"] = dataFrame[\"text\"].astype(str).apply(cleanerFunction)"
   ]
  },
  {
   "cell_type": "code",
   "execution_count": 7,
   "id": "ebb565f3",
   "metadata": {},
   "outputs": [],
   "source": [
    "labelColumns = [col for col in [\"anger\", \"fear\", \"joy\", \"sadness\", \"surprise\"] if col in dataFrame]\n",
    "y = dataFrame[labelColumns].values"
   ]
  },
  {
   "cell_type": "code",
   "execution_count": 8,
   "id": "0572efcf",
   "metadata": {},
   "outputs": [],
   "source": [
    "from sklearn.feature_extraction.text import TfidfVectorizer\n",
    "from sklearn.multiclass import OneVsRestClassifier\n",
    "from sklearn.linear_model import LogisticRegression\n",
    "from sklearn.model_selection import train_test_split\n",
    "from sklearn.metrics import classification_report"
   ]
  },
  {
   "cell_type": "code",
   "execution_count": 9,
   "id": "2b9a7084",
   "metadata": {},
   "outputs": [],
   "source": [
    "xTrain, xTest, yTrain, yTest = train_test_split(dataFrame[\"Spacy_text\"], y, test_size = 0.1, random_state = 42)"
   ]
  },
  {
   "cell_type": "code",
   "execution_count": 10,
   "id": "1b31ec06",
   "metadata": {},
   "outputs": [],
   "source": [
    "tfidfModel = TfidfVectorizer(max_features = 5000, ngram_range = (1, 2))\n",
    "Xtr = tfidfModel.fit_transform(xTrain)\n",
    "Xv = tfidfModel.transform(xTest)"
   ]
  },
  {
   "cell_type": "code",
   "execution_count": 11,
   "id": "46f0fdf6",
   "metadata": {},
   "outputs": [],
   "source": [
    "orClassifier = OneVsRestClassifier(LogisticRegression(max_iter = 1500))\n",
    "orClassifier.fit(Xtr, yTrain)\n",
    "yPred = orClassifier.predict(Xv)"
   ]
  },
  {
   "cell_type": "code",
   "execution_count": 12,
   "id": "9637e15f",
   "metadata": {},
   "outputs": [
    {
     "name": "stdout",
     "output_type": "stream",
     "text": [
      "              precision    recall  f1-score   support\n",
      "\n",
      "       anger       0.00      0.00      0.00        34\n",
      "        fear       0.67      0.85      0.75       168\n",
      "         joy       1.00      0.12      0.22        48\n",
      "     sadness       0.74      0.17      0.27        84\n",
      "    surprise       0.79      0.13      0.23        83\n",
      "\n",
      "   micro avg       0.69      0.41      0.52       417\n",
      "   macro avg       0.64      0.25      0.29       417\n",
      "weighted avg       0.69      0.41      0.43       417\n",
      " samples avg       0.55      0.40      0.44       417\n",
      "\n"
     ]
    }
   ],
   "source": [
    "print(classification_report(yTest, yPred, target_names = labelColumns, zero_division = 0.0))"
   ]
  },
  {
   "cell_type": "code",
   "execution_count": 13,
   "id": "d1f17ee5",
   "metadata": {},
   "outputs": [
    {
     "name": "stderr",
     "output_type": "stream",
     "text": [
      "d:\\Coding\\Uni Marburg\\ProjectNLP\\.venv\\Lib\\site-packages\\tqdm\\auto.py:21: TqdmWarning: IProgress not found. Please update jupyter and ipywidgets. See https://ipywidgets.readthedocs.io/en/stable/user_install.html\n",
      "  from .autonotebook import tqdm as notebook_tqdm\n"
     ]
    }
   ],
   "source": [
    "import torch, torch.nn as nn\n",
    "from torch.utils.data import Dataset, DataLoader\n",
    "from torch.optim import AdamW\n",
    "from transformers import AutoTokenizer, AutoModelForSequenceClassification, get_linear_schedule_with_warmup"
   ]
  },
  {
   "cell_type": "code",
   "execution_count": 14,
   "id": "903283ba",
   "metadata": {},
   "outputs": [],
   "source": [
    "textTrain, textValue, labelTrain, labelValue = train_test_split(dataFrame[\"Spacy_text\"].tolist(), y, test_size = 0.1, random_state = 42)"
   ]
  },
  {
   "cell_type": "code",
   "execution_count": 15,
   "id": "eca4b61b",
   "metadata": {},
   "outputs": [],
   "source": [
    "tokenizer = AutoTokenizer.from_pretrained(\"bert-base-uncased\")"
   ]
  },
  {
   "cell_type": "code",
   "execution_count": 16,
   "id": "251ebef0",
   "metadata": {},
   "outputs": [],
   "source": [
    "class sentDetect(Dataset):\n",
    "    def __init__(self, text, label, token, maxLength = 128):\n",
    "        self.text = text\n",
    "        self.label = label\n",
    "        self.token = token\n",
    "        self.maxLength = maxLength\n",
    "\n",
    "    def __len__(self):\n",
    "        return len(self.text)\n",
    "    \n",
    "    def __fetchItem__(self, i):\n",
    "        enc = self.token(\n",
    "            self.text[i], max_length = self.maxLength, truncation = True, padding = \"maxlen\", return_tensors = \"pt\"\n",
    "        )\n",
    "        chosenItem = {k: v.squeeze(0) for k, v in enc.items()}\n",
    "        chosenItem[\"label\"] = torch.FloatTensor(self.label[i])\n",
    "        return chosenItem\n",
    "    \n",
    "trainSD = sentDetect(xTrain, yTrain, tokenizer)\n",
    "testSD = sentDetect(xTest, yTest, tokenizer)\n",
    "trainDL = DataLoader(trainSD, batch_size = 16, shuffle = True)\n",
    "testDL = DataLoader(testSD, batch_size = 32)"
   ]
  },
  {
   "cell_type": "code",
   "execution_count": 17,
   "id": "f8d276d5",
   "metadata": {},
   "outputs": [],
   "source": [
    "userDevice = torch.device(\"cuda\" if torch.cuda.is_available() else \"cpu\")"
   ]
  },
  {
   "cell_type": "code",
   "execution_count": 18,
   "id": "22008d91",
   "metadata": {},
   "outputs": [
    {
     "name": "stderr",
     "output_type": "stream",
     "text": [
      "Some weights of BertForSequenceClassification were not initialized from the model checkpoint at bert-base-uncased and are newly initialized: ['classifier.bias', 'classifier.weight']\n",
      "You should probably TRAIN this model on a down-stream task to be able to use it for predictions and inference.\n"
     ]
    }
   ],
   "source": [
    "tensorModel = AutoModelForSequenceClassification.from_pretrained(\n",
    "    \"bert-base-uncased\",\n",
    "    problem_type = \"multi_label_classification\",\n",
    "    num_labels = len(labelColumns)\n",
    ").to(userDevice)"
   ]
  },
  {
   "cell_type": "code",
   "execution_count": 20,
   "id": "1bdf520b",
   "metadata": {},
   "outputs": [],
   "source": [
    "lossFunction = nn.BCEWithLogitsLoss()\n",
    "optPara = AdamW(tensorModel.parameters(), lr = 2e-5)\n",
    "steps = len(trainDL) * 3\n",
    "schedule = get_linear_schedule_with_warmup(optPara, 0, steps)"
   ]
  },
  {
   "cell_type": "code",
   "execution_count": 21,
   "id": "39ae542a",
   "metadata": {},
   "outputs": [],
   "source": [
    "def epochTrain():\n",
    "    tensorModel.train()\n",
    "    total = 0\n",
    "    for batch in trainDL:\n",
    "        optPara.zero_grad()\n",
    "        id = batch[\"input_ids\"].to(userDevice)\n",
    "        mask = batch[\"attention_mask\"].to(userDevice)\n",
    "        labs = batch[\"label\"].to(userDevice)\n",
    "        outs = tensorModel(id, attention_mask = mask).logits\n",
    "        loss = lossFunction(outs, labs)\n",
    "        loss.backward(); optPara.step(); schedule.step()\n",
    "        total += loss.item()\n",
    "    \n",
    "    return total / len(trainDL)"
   ]
  }
 ],
 "metadata": {
  "kernelspec": {
   "display_name": ".venv",
   "language": "python",
   "name": "python3"
  },
  "language_info": {
   "codemirror_mode": {
    "name": "ipython",
    "version": 3
   },
   "file_extension": ".py",
   "mimetype": "text/x-python",
   "name": "python",
   "nbconvert_exporter": "python",
   "pygments_lexer": "ipython3",
   "version": "3.11.9"
  }
 },
 "nbformat": 4,
 "nbformat_minor": 5
}
