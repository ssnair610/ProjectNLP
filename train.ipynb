{
 "cells": [
  {
   "cell_type": "code",
   "execution_count": 1,
   "id": "3d1ff056",
   "metadata": {},
   "outputs": [],
   "source": [
    "import spacy\n",
    "import numpy\n",
    "import pandas as pd\n",
    "import string"
   ]
  },
  {
   "cell_type": "code",
   "execution_count": 2,
   "id": "9bb3b791",
   "metadata": {},
   "outputs": [],
   "source": [
    "dataPath = \"Data\\\\track-a.csv\""
   ]
  },
  {
   "cell_type": "code",
   "execution_count": 3,
   "id": "fe28511b",
   "metadata": {},
   "outputs": [],
   "source": [
    "dataFrame = pd.read_csv(dataPath)"
   ]
  },
  {
   "cell_type": "code",
   "execution_count": 5,
   "id": "34521e02",
   "metadata": {},
   "outputs": [],
   "source": [
    "nlpModel = spacy.load(\"en_core_web_sm\", disable=[\"parser\",\"ner\"])"
   ]
  },
  {
   "cell_type": "code",
   "execution_count": 6,
   "id": "75bc303c",
   "metadata": {},
   "outputs": [],
   "source": [
    "def cleanerFunction(text):\n",
    "    tempDoc = nlpModel(text)\n",
    "    token = [\n",
    "        tok.lemma_.lower()\n",
    "        for tok in tempDoc\n",
    "        if not tok.is_stop and not tok.is_punct and tok.lemma_ != \"-PRON-\"\n",
    "    ]\n",
    "    return \" \".join(token)"
   ]
  },
  {
   "cell_type": "code",
   "execution_count": 7,
   "id": "0f22031c",
   "metadata": {},
   "outputs": [],
   "source": [
    "dataFrame[\"Spacy_text\"] = dataFrame[\"text\"].astype(str).apply(cleanerFunction)"
   ]
  },
  {
   "cell_type": "code",
   "execution_count": 8,
   "id": "ebb565f3",
   "metadata": {},
   "outputs": [],
   "source": [
    "labelColumns = [col for col in [\"anger\", \"fear\", \"joy\", \"sadness\", \"surprise\"] if col in dataFrame]\n",
    "y = dataFrame[labelColumns].values"
   ]
  },
  {
   "cell_type": "code",
   "execution_count": 9,
   "id": "0572efcf",
   "metadata": {},
   "outputs": [],
   "source": [
    "from sklearn.feature_extraction.text import TfidfVectorizer\n",
    "from sklearn.multiclass import OneVsRestClassifier\n",
    "from sklearn.linear_model import LogisticRegression\n",
    "from sklearn.model_selection import train_test_split\n",
    "from sklearn.metrics import classification_report"
   ]
  },
  {
   "cell_type": "code",
   "execution_count": 10,
   "id": "2b9a7084",
   "metadata": {},
   "outputs": [],
   "source": [
    "xTrain, xTest, yTrain, yTest = train_test_split(dataFrame[\"Spacy_text\"], y, test_size = 0.1, random_state = 42)"
   ]
  },
  {
   "cell_type": "code",
   "execution_count": 19,
   "id": "1b31ec06",
   "metadata": {},
   "outputs": [],
   "source": [
    "tfidfModel = TfidfVectorizer(max_features = 5000, ngram_range = (1, 2))\n",
    "Xtr = tfidfModel.fit_transform(xTrain)\n",
    "Xv = tfidfModel.transform(xTest)"
   ]
  },
  {
   "cell_type": "code",
   "execution_count": 20,
   "id": "46f0fdf6",
   "metadata": {},
   "outputs": [],
   "source": [
    "orClassifier = OneVsRestClassifier(LogisticRegression(max_iter = 1500))\n",
    "orClassifier.fit(Xtr, yTrain)\n",
    "yPred = orClassifier.predict(Xv)"
   ]
  },
  {
   "cell_type": "code",
   "execution_count": null,
   "id": "9637e15f",
   "metadata": {},
   "outputs": [
    {
     "name": "stdout",
     "output_type": "stream",
     "text": [
      "              precision    recall  f1-score   support\n",
      "\n",
      "       anger       0.00      0.00      0.00        34\n",
      "        fear       0.67      0.85      0.75       168\n",
      "         joy       1.00      0.12      0.22        48\n",
      "     sadness       0.74      0.17      0.27        84\n",
      "    surprise       0.79      0.13      0.23        83\n",
      "\n",
      "   micro avg       0.69      0.41      0.52       417\n",
      "   macro avg       0.64      0.25      0.29       417\n",
      "weighted avg       0.69      0.41      0.43       417\n",
      " samples avg       0.55      0.40      0.44       417\n",
      "\n"
     ]
    }
   ],
   "source": [
    "print(classification_report(yTest, yPred, target_names = labelColumns, zero_division = 1.0))"
   ]
  },
  {
   "cell_type": "code",
   "execution_count": 16,
   "id": "d1f17ee5",
   "metadata": {},
   "outputs": [],
   "source": [
    "import torch, torch.nn as nn\n",
    "from torch.utils.data import Dataset, DataLoader\n",
    "from transformers import AutoTokenizer, AutoModelForSequenceClassification, AdamWeightDecay, get_linear_schedule_with_warmup"
   ]
  },
  {
   "cell_type": "code",
   "execution_count": 17,
   "id": "903283ba",
   "metadata": {},
   "outputs": [],
   "source": [
    "textTrain, textValue, labelTrain, labelValue = train_test_split(dataFrame[\"Spacy_text\"].tolist(), y, test_size = 0.1, random_state = 42)"
   ]
  },
  {
   "cell_type": "code",
   "execution_count": 18,
   "id": "eca4b61b",
   "metadata": {},
   "outputs": [
    {
     "name": "stderr",
     "output_type": "stream",
     "text": [
      "d:\\Coding\\Uni Marburg\\ProjectNLP\\.venv\\Lib\\site-packages\\huggingface_hub\\file_download.py:143: UserWarning: `huggingface_hub` cache-system uses symlinks by default to efficiently store duplicated files but your machine does not support them in C:\\Users\\sshre\\.cache\\huggingface\\hub\\models--bert-base-uncased. Caching files will still work but in a degraded version that might require more space on your disk. This warning can be disabled by setting the `HF_HUB_DISABLE_SYMLINKS_WARNING` environment variable. For more details, see https://huggingface.co/docs/huggingface_hub/how-to-cache#limitations.\n",
      "To support symlinks on Windows, you either need to activate Developer Mode or to run Python as an administrator. In order to activate developer mode, see this article: https://docs.microsoft.com/en-us/windows/apps/get-started/enable-your-device-for-development\n",
      "  warnings.warn(message)\n"
     ]
    }
   ],
   "source": [
    "tokenizer = AutoTokenizer.from_pretrained(\"bert-base-uncased\")"
   ]
  },
  {
   "cell_type": "code",
   "execution_count": null,
   "id": "251ebef0",
   "metadata": {},
   "outputs": [],
   "source": []
  }
 ],
 "metadata": {
  "kernelspec": {
   "display_name": ".venv",
   "language": "python",
   "name": "python3"
  },
  "language_info": {
   "codemirror_mode": {
    "name": "ipython",
    "version": 3
   },
   "file_extension": ".py",
   "mimetype": "text/x-python",
   "name": "python",
   "nbconvert_exporter": "python",
   "pygments_lexer": "ipython3",
   "version": "3.11.9"
  }
 },
 "nbformat": 4,
 "nbformat_minor": 5
}
