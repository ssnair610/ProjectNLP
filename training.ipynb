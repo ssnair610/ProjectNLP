{
 "cells": [
  {
   "cell_type": "code",
   "execution_count": 1,
   "metadata": {},
   "outputs": [
    {
     "name": "stdout",
     "output_type": "stream",
     "text": [
      "First 5 rows:\n",
      "                        id                                               text  \\\n",
      "0  eng_train_track_a_00001                       Colorado, middle of nowhere.   \n",
      "1  eng_train_track_a_00002  This involved swimming a pretty large lake tha...   \n",
      "2  eng_train_track_a_00003        It was one of my most shameful experiences.   \n",
      "3  eng_train_track_a_00004  After all, I had vegetables coming out my ears...   \n",
      "4  eng_train_track_a_00005                        Then the screaming started.   \n",
      "\n",
      "   anger  fear  joy  sadness  surprise  \n",
      "0      0     1    0        0         1  \n",
      "1      0     1    0        0         0  \n",
      "2      0     1    0        1         0  \n",
      "3      0     0    0        0         0  \n",
      "4      0     1    0        1         1  \n",
      "\n",
      "Columns:\n",
      "['id', 'text', 'anger', 'fear', 'joy', 'sadness', 'surprise']\n",
      "\n",
      "Number of samples: 2768\n"
     ]
    }
   ],
   "source": [
    "import pandas as pd\n",
    "\n",
    "csv_path = 'emotion_data.csv'\n",
    "\n",
    "df = pd.read_csv(csv_path)\n",
    "\n",
    "print(\"First 5 rows:\")\n",
    "print(df.head())\n",
    "\n",
    "print(\"\\nColumns:\")\n",
    "print(df.columns.tolist())\n",
    "\n",
    "print(f\"\\nNumber of samples: {len(df)}\")\n"
   ]
  },
  {
   "cell_type": "code",
   "execution_count": 2,
   "metadata": {},
   "outputs": [
    {
     "name": "stderr",
     "output_type": "stream",
     "text": [
      "[nltk_data] Downloading package stopwords to C:\\Users\\BASAVADEEPTHI H\n",
      "[nltk_data]     M\\AppData\\Roaming\\nltk_data...\n",
      "[nltk_data]   Package stopwords is already up-to-date!\n",
      "[nltk_data] Downloading package wordnet to C:\\Users\\BASAVADEEPTHI H\n",
      "[nltk_data]     M\\AppData\\Roaming\\nltk_data...\n",
      "[nltk_data]   Package wordnet is already up-to-date!\n"
     ]
    },
    {
     "name": "stdout",
     "output_type": "stream",
     "text": [
      "0                      colorado middle nowhere\n",
      "1     involved swimming pretty large lake head\n",
      "2                      one shameful experience\n",
      "3    vegetable coming ear benefit young prince\n",
      "4                            screaming started\n",
      "Name: clean_text, dtype: object\n"
     ]
    }
   ],
   "source": [
    "import re\n",
    "import nltk\n",
    "\n",
    "nltk.download('stopwords')\n",
    "from nltk.corpus import stopwords\n",
    "from nltk.stem import WordNetLemmatizer\n",
    "nltk.download('wordnet')\n",
    "\n",
    "stop_words = set(stopwords.words('english'))\n",
    "lemmatizer = WordNetLemmatizer()\n",
    "def clean_text(text):\n",
    "    text = str(text).lower()\n",
    "    text = re.sub(r'http\\S+', '', text)\n",
    "    text = re.sub(r'[^a-z\\s]', '', text)\n",
    "    text = re.sub(r'\\s+', ' ', text)\n",
    "    words = text.split()\n",
    "    words = [w for w in words if w not in stop_words]\n",
    "    words = [lemmatizer.lemmatize(w) for w in words]\n",
    "    return ' '.join(words)\n",
    "\n",
    "df['clean_text'] = df['text'].apply(clean_text)\n",
    "\n",
    "texts = df['clean_text']\n",
    "labels = df[['anger', 'fear', 'joy', 'sadness', 'surprise']].values\n",
    "\n",
    "print(texts.head())\n"
   ]
  },
  {
   "cell_type": "code",
   "execution_count": 3,
   "metadata": {},
   "outputs": [],
   "source": [
    "from sklearn.feature_extraction.text import TfidfVectorizer\n",
    "\n",
    "vectorizer = TfidfVectorizer(\n",
    "    max_features=5000,\n",
    "    ngram_range=(1, 2),      \n",
    "    sublinear_tf=True,\n",
    "    min_df=2,                \n",
    "    max_df=0.95             \n",
    ")\n",
    "X = vectorizer.fit_transform(df['clean_text'])\n"
   ]
  },
  {
   "cell_type": "code",
   "execution_count": 4,
   "metadata": {},
   "outputs": [
    {
     "name": "stdout",
     "output_type": "stream",
     "text": [
      "Training complete!\n"
     ]
    }
   ],
   "source": [
    "from sklearn.svm import LinearSVC\n",
    "from sklearn.multiclass import OneVsRestClassifier\n",
    "\n",
    "svm = LinearSVC(class_weight='balanced')\n",
    "clf = OneVsRestClassifier(svm)\n",
    "\n",
    "clf.fit(X, labels)\n",
    "print(\"Training complete!\")\n"
   ]
  },
  {
   "cell_type": "code",
   "execution_count": 5,
   "metadata": {},
   "outputs": [
    {
     "name": "stdout",
     "output_type": "stream",
     "text": [
      "Model and vectorizer saved!\n"
     ]
    }
   ],
   "source": [
    "import joblib\n",
    "\n",
    "joblib.dump(clf, 'svm_model.joblib')\n",
    "joblib.dump(vectorizer, 'vectorizer.joblib')\n",
    "print(\"Model and vectorizer saved!\")\n"
   ]
  }
 ],
 "metadata": {
  "kernelspec": {
   "display_name": "Python 3",
   "language": "python",
   "name": "python3"
  },
  "language_info": {
   "codemirror_mode": {
    "name": "ipython",
    "version": 3
   },
   "file_extension": ".py",
   "mimetype": "text/x-python",
   "name": "python",
   "nbconvert_exporter": "python",
   "pygments_lexer": "ipython3",
   "version": "3.11.9"
  }
 },
 "nbformat": 4,
 "nbformat_minor": 2
}
